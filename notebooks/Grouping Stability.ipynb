{
 "cells": [
  {
   "cell_type": "code",
   "execution_count": 8,
   "metadata": {
    "ExecuteTime": {
     "end_time": "2018-04-17T14:27:29.801951Z",
     "start_time": "2018-04-17T14:27:29.793001Z"
    },
    "collapsed": true
   },
   "outputs": [],
   "source": [
    "import sys\n",
    "sys.path.append(\"../dev_scripts/\")\n",
    "import exp_tools\n",
    "import sklearn\n",
    "from sklearn.preprocessing import StandardScaler\n",
    "import numpy as np\n",
    "from fri import bounds,plot_dendrogram_and_intervals\n",
    "from fri import *\n",
    "from sklearn.metrics import precision_score\n",
    "import matplotlib.pyplot as plt\n",
    "import pandas as pd\n",
    "\n",
    "%matplotlib inline"
   ]
  },
  {
   "cell_type": "code",
   "execution_count": 9,
   "metadata": {
    "ExecuteTime": {
     "end_time": "2018-04-17T14:27:30.552350Z",
     "start_time": "2018-04-17T14:27:30.544412Z"
    }
   },
   "outputs": [
    {
     "name": "stdout",
     "output_type": "stream",
     "text": [
      "Generating dataset with d=5,n=1000,strongly=0,weakly=2, partition of weakly=None\n"
     ]
    }
   ],
   "source": [
    "n = 1000\n",
    "\n",
    "rs = np.random.RandomState(125)\n",
    "\n",
    "X,y = exp_tools.gen_quadrant_problem_2weak(n=n,random_state=rs)"
   ]
  },
  {
   "cell_type": "code",
   "execution_count": 23,
   "metadata": {
    "ExecuteTime": {
     "end_time": "2018-04-17T14:32:08.218370Z",
     "start_time": "2018-04-17T14:32:08.211828Z"
    },
    "collapsed": true
   },
   "outputs": [],
   "source": [
    "from sklearn.utils import resample\n",
    "import math\n",
    "n_bootstraps=5\n",
    "data = X, y\n",
    "perc = 0.8\n",
    "n = data[0].shape[0]\n",
    "bs = [resample(*data, replace=True, n_samples=math.floor(perc * n),\n",
    "                           random_state=rs) for bs in range(n_bootstraps)]\n"
   ]
  },
  {
   "cell_type": "code",
   "execution_count": 67,
   "metadata": {
    "ExecuteTime": {
     "end_time": "2018-04-17T15:17:32.195223Z",
     "start_time": "2018-04-17T15:16:52.682884Z"
    },
    "scrolled": true
   },
   "outputs": [
    {
     "name": "stdout",
     "output_type": "stream",
     "text": [
      "loss 3.58006599692e-08\n",
      "L1 170.537291035\n",
      "offset 0.14856267713415727\n",
      "C 100\n",
      "score 0.993749560491\n",
      "coef:\n",
      "[[  5.11876098e+01]\n",
      " [  5.18283546e+01]\n",
      " [  2.54679599e+01]\n",
      " [ -2.54679600e+01]\n",
      " [  5.11036088e-01]\n",
      " [ -5.63311759e-01]\n",
      " [  7.66878121e-03]]\n",
      "loss 14.4128109268\n",
      "L1 20.0822013752\n",
      "offset 0.15863698980738897\n",
      "C 1\n",
      "score 0.99875003713\n",
      "coef:\n",
      "[[  6.35372534e+00]\n",
      " [  5.81505804e+00]\n",
      " [  3.03121409e+00]\n",
      " [ -3.03121409e+00]\n",
      " [ -1.13239707e-10]\n",
      " [ -2.29354815e-02]\n",
      " [ -2.39966687e-03]]\n",
      "Solver 'ECOS' failed. Try another solver.\n",
      "loss 18.0879793562\n",
      "L1 19.5103404437\n",
      "offset 0.049656218224933796\n",
      "C 1\n",
      "score 0.98375826002\n",
      "coef:\n",
      "[[  5.73160713e+00]\n",
      " [  5.86822441e+00]\n",
      " [  2.90871206e+00]\n",
      " [ -2.90871204e+00]\n",
      " [  1.05416076e-03]\n",
      " [  1.50595848e-01]\n",
      " [  1.67767478e-01]]\n",
      "loss 5.42008953957\n",
      "L1 50.4264481511\n",
      "offset 0.28435930582801977\n",
      "C 10\n",
      "score 0.996250158223\n",
      "coef:\n",
      "[[ 14.90751575]\n",
      " [ 14.85911495]\n",
      " [  7.58706127]\n",
      " [ -7.58706141]\n",
      " [  0.25519385]\n",
      " [  0.17405911]\n",
      " [  0.47221925]]\n",
      "loss 1.056181055\n",
      "L1 72.570905449\n",
      "offset 0.1520223437832002\n",
      "C 10\n",
      "score 0.978758469775\n",
      "coef:\n",
      "[[ 21.58052184]\n",
      " [ 22.04081069]\n",
      " [ 10.73823625]\n",
      " [-10.73823629]\n",
      " [ -0.0820937 ]\n",
      " [ -0.64009537]\n",
      " [  0.15355627]]\n"
     ]
    }
   ],
   "source": [
    "intervals = []\n",
    "features = []\n",
    "dist_mats = []\n",
    "for X,y in bs:\n",
    "    f = FRIClassification(debug=True)\n",
    "    f.fit(X,y)\n",
    "    intervals.append(f.interval_)\n",
    "    clust, link, feat_points,dist_mat = f.community_detection2()\n",
    "    features.append(feat_points)\n",
    "    dist_mats.append(dist_mat/f.optim_L1_)"
   ]
  },
  {
   "cell_type": "code",
   "execution_count": 68,
   "metadata": {
    "ExecuteTime": {
     "end_time": "2018-04-17T15:21:35.782739Z",
     "start_time": "2018-04-17T15:21:35.779511Z"
    }
   },
   "outputs": [
    {
     "data": {
      "text/plain": [
       "array([  1.84314622e-03,   4.17247946e-01,   4.17247945e-01,\n",
       "         4.82305703e-02,   4.85291557e-02,   3.20659711e-02,\n",
       "         4.16508000e-01,   4.16508000e-01,   4.99023273e-02,\n",
       "         4.92947996e-02,   3.20504711e-02,   8.19481636e-10,\n",
       "         4.19168179e-01,   4.19753992e-01,   4.17668994e-01,\n",
       "         4.19168179e-01,   4.19753991e-01,   4.17668993e-01,\n",
       "         3.57694556e-03,   4.74961222e-02,   4.71115286e-02])"
      ]
     },
     "execution_count": 68,
     "metadata": {},
     "output_type": "execute_result"
    }
   ],
   "source": [
    "dist_mats[0]"
   ]
  },
  {
   "cell_type": "code",
   "execution_count": 44,
   "metadata": {
    "ExecuteTime": {
     "end_time": "2018-04-17T15:03:24.174857Z",
     "start_time": "2018-04-17T15:03:24.172604Z"
    }
   },
   "outputs": [],
   "source": [
    "only1 = [feat[0] for feat in dist_mats]"
   ]
  },
  {
   "cell_type": "code",
   "execution_count": 104,
   "metadata": {
    "ExecuteTime": {
     "end_time": "2018-04-17T15:57:28.202593Z",
     "start_time": "2018-04-17T15:57:28.198515Z"
    }
   },
   "outputs": [],
   "source": [
    "mats = pd.DataFrame(dist_mats)"
   ]
  },
  {
   "cell_type": "code",
   "execution_count": 105,
   "metadata": {
    "ExecuteTime": {
     "end_time": "2018-04-17T15:57:30.226537Z",
     "start_time": "2018-04-17T15:57:30.204522Z"
    }
   },
   "outputs": [
    {
     "data": {
      "text/html": [
       "<div>\n",
       "<style>\n",
       "    .dataframe thead tr:only-child th {\n",
       "        text-align: right;\n",
       "    }\n",
       "\n",
       "    .dataframe thead th {\n",
       "        text-align: left;\n",
       "    }\n",
       "\n",
       "    .dataframe tbody tr th {\n",
       "        vertical-align: top;\n",
       "    }\n",
       "</style>\n",
       "<table border=\"1\" class=\"dataframe\">\n",
       "  <thead>\n",
       "    <tr style=\"text-align: right;\">\n",
       "      <th></th>\n",
       "      <th>0</th>\n",
       "      <th>1</th>\n",
       "      <th>2</th>\n",
       "      <th>3</th>\n",
       "      <th>4</th>\n",
       "      <th>5</th>\n",
       "      <th>6</th>\n",
       "      <th>7</th>\n",
       "      <th>8</th>\n",
       "      <th>9</th>\n",
       "      <th>...</th>\n",
       "      <th>11</th>\n",
       "      <th>12</th>\n",
       "      <th>13</th>\n",
       "      <th>14</th>\n",
       "      <th>15</th>\n",
       "      <th>16</th>\n",
       "      <th>17</th>\n",
       "      <th>18</th>\n",
       "      <th>19</th>\n",
       "      <th>20</th>\n",
       "    </tr>\n",
       "  </thead>\n",
       "  <tbody>\n",
       "    <tr>\n",
       "      <th>0</th>\n",
       "      <td>0.001843</td>\n",
       "      <td>0.417248</td>\n",
       "      <td>0.417248</td>\n",
       "      <td>0.048231</td>\n",
       "      <td>0.048529</td>\n",
       "      <td>0.032066</td>\n",
       "      <td>0.416508</td>\n",
       "      <td>0.416508</td>\n",
       "      <td>0.049902</td>\n",
       "      <td>0.049295</td>\n",
       "      <td>...</td>\n",
       "      <td>8.194816e-10</td>\n",
       "      <td>0.419168</td>\n",
       "      <td>0.419754</td>\n",
       "      <td>0.417669</td>\n",
       "      <td>0.419168</td>\n",
       "      <td>0.419754</td>\n",
       "      <td>0.417669</td>\n",
       "      <td>0.003577</td>\n",
       "      <td>0.047496</td>\n",
       "      <td>0.047112</td>\n",
       "    </tr>\n",
       "    <tr>\n",
       "      <th>1</th>\n",
       "      <td>0.006979</td>\n",
       "      <td>0.418800</td>\n",
       "      <td>0.418800</td>\n",
       "      <td>0.044708</td>\n",
       "      <td>0.045648</td>\n",
       "      <td>0.044260</td>\n",
       "      <td>0.416515</td>\n",
       "      <td>0.416515</td>\n",
       "      <td>0.041495</td>\n",
       "      <td>0.043222</td>\n",
       "      <td>...</td>\n",
       "      <td>2.126504e-10</td>\n",
       "      <td>0.418690</td>\n",
       "      <td>0.419788</td>\n",
       "      <td>0.419834</td>\n",
       "      <td>0.418690</td>\n",
       "      <td>0.419788</td>\n",
       "      <td>0.419834</td>\n",
       "      <td>0.014500</td>\n",
       "      <td>0.008693</td>\n",
       "      <td>0.007284</td>\n",
       "    </tr>\n",
       "    <tr>\n",
       "      <th>2</th>\n",
       "      <td>0.004315</td>\n",
       "      <td>0.417949</td>\n",
       "      <td>0.417949</td>\n",
       "      <td>0.049997</td>\n",
       "      <td>0.049381</td>\n",
       "      <td>0.050333</td>\n",
       "      <td>0.416320</td>\n",
       "      <td>0.416320</td>\n",
       "      <td>0.044316</td>\n",
       "      <td>0.042842</td>\n",
       "      <td>...</td>\n",
       "      <td>2.090938e-12</td>\n",
       "      <td>0.416358</td>\n",
       "      <td>0.413107</td>\n",
       "      <td>0.415026</td>\n",
       "      <td>0.416358</td>\n",
       "      <td>0.413107</td>\n",
       "      <td>0.415026</td>\n",
       "      <td>0.027512</td>\n",
       "      <td>0.055506</td>\n",
       "      <td>0.029493</td>\n",
       "    </tr>\n",
       "    <tr>\n",
       "      <th>3</th>\n",
       "      <td>0.001990</td>\n",
       "      <td>0.424397</td>\n",
       "      <td>0.424397</td>\n",
       "      <td>0.049364</td>\n",
       "      <td>0.046517</td>\n",
       "      <td>0.062656</td>\n",
       "      <td>0.422907</td>\n",
       "      <td>0.422907</td>\n",
       "      <td>0.042675</td>\n",
       "      <td>0.039339</td>\n",
       "      <td>...</td>\n",
       "      <td>2.747180e-10</td>\n",
       "      <td>0.416907</td>\n",
       "      <td>0.420286</td>\n",
       "      <td>0.420196</td>\n",
       "      <td>0.416907</td>\n",
       "      <td>0.420286</td>\n",
       "      <td>0.420196</td>\n",
       "      <td>0.017342</td>\n",
       "      <td>0.039057</td>\n",
       "      <td>0.050794</td>\n",
       "    </tr>\n",
       "    <tr>\n",
       "      <th>4</th>\n",
       "      <td>0.011279</td>\n",
       "      <td>0.421058</td>\n",
       "      <td>0.421058</td>\n",
       "      <td>0.039905</td>\n",
       "      <td>0.038856</td>\n",
       "      <td>0.041080</td>\n",
       "      <td>0.426078</td>\n",
       "      <td>0.426078</td>\n",
       "      <td>0.039761</td>\n",
       "      <td>0.041604</td>\n",
       "      <td>...</td>\n",
       "      <td>5.581980e-11</td>\n",
       "      <td>0.425163</td>\n",
       "      <td>0.422377</td>\n",
       "      <td>0.422324</td>\n",
       "      <td>0.425163</td>\n",
       "      <td>0.422377</td>\n",
       "      <td>0.422324</td>\n",
       "      <td>0.014374</td>\n",
       "      <td>0.019792</td>\n",
       "      <td>0.005955</td>\n",
       "    </tr>\n",
       "  </tbody>\n",
       "</table>\n",
       "<p>5 rows × 21 columns</p>\n",
       "</div>"
      ],
      "text/plain": [
       "         0         1         2         3         4         5         6   \\\n",
       "0  0.001843  0.417248  0.417248  0.048231  0.048529  0.032066  0.416508   \n",
       "1  0.006979  0.418800  0.418800  0.044708  0.045648  0.044260  0.416515   \n",
       "2  0.004315  0.417949  0.417949  0.049997  0.049381  0.050333  0.416320   \n",
       "3  0.001990  0.424397  0.424397  0.049364  0.046517  0.062656  0.422907   \n",
       "4  0.011279  0.421058  0.421058  0.039905  0.038856  0.041080  0.426078   \n",
       "\n",
       "         7         8         9     ...               11        12        13  \\\n",
       "0  0.416508  0.049902  0.049295    ...     8.194816e-10  0.419168  0.419754   \n",
       "1  0.416515  0.041495  0.043222    ...     2.126504e-10  0.418690  0.419788   \n",
       "2  0.416320  0.044316  0.042842    ...     2.090938e-12  0.416358  0.413107   \n",
       "3  0.422907  0.042675  0.039339    ...     2.747180e-10  0.416907  0.420286   \n",
       "4  0.426078  0.039761  0.041604    ...     5.581980e-11  0.425163  0.422377   \n",
       "\n",
       "         14        15        16        17        18        19        20  \n",
       "0  0.417669  0.419168  0.419754  0.417669  0.003577  0.047496  0.047112  \n",
       "1  0.419834  0.418690  0.419788  0.419834  0.014500  0.008693  0.007284  \n",
       "2  0.415026  0.416358  0.413107  0.415026  0.027512  0.055506  0.029493  \n",
       "3  0.420196  0.416907  0.420286  0.420196  0.017342  0.039057  0.050794  \n",
       "4  0.422324  0.425163  0.422377  0.422324  0.014374  0.019792  0.005955  \n",
       "\n",
       "[5 rows x 21 columns]"
      ]
     },
     "execution_count": 105,
     "metadata": {},
     "output_type": "execute_result"
    }
   ],
   "source": [
    "mats"
   ]
  },
  {
   "cell_type": "code",
   "execution_count": 70,
   "metadata": {
    "ExecuteTime": {
     "end_time": "2018-04-17T15:21:50.274091Z",
     "start_time": "2018-04-17T15:21:50.270667Z"
    },
    "collapsed": true
   },
   "outputs": [],
   "source": [
    "import scipy\n",
    "def make_square(dist_mat):\n",
    "    return = scipy.spatial.distance.squareform(dist_mat)"
   ]
  },
  {
   "cell_type": "code",
   "execution_count": 71,
   "metadata": {
    "ExecuteTime": {
     "end_time": "2018-04-17T15:21:52.730538Z",
     "start_time": "2018-04-17T15:21:51.508816Z"
    }
   },
   "outputs": [
    {
     "data": {
      "image/png": "[encoded data removed]",
      "text/plain": [
       "<matplotlib.figure.Figure at 0x7f419a74af28>"
      ]
     },
     "metadata": {},
     "output_type": "display_data"
    }
   ],
   "source": [
    "import seaborn as sns\n",
    "from fri.plot import plot_relevance_bars\n",
    "fig, axs = plt.subplots(n_bootstraps,2,figsize=(10,12))\n",
    "for i,ints in enumerate(intervals):\n",
    "    plot_relevance_bars(axs[i][0],ints)\n",
    "    sns.heatmap(make_square(dist_mats[i]),ax=axs[i,1])"
   ]
  },
  {
   "cell_type": "code",
   "execution_count": 55,
   "metadata": {
    "ExecuteTime": {
     "end_time": "2018-04-11T09:19:57.557739Z",
     "start_time": "2018-04-11T09:19:51.605806Z"
    },
    "collapsed": true
   },
   "outputs": [],
   "source": [
    "clust, link, feat_points,dist_mat = f.community_detection2(X,y)\n"
   ]
  },
  {
   "cell_type": "code",
   "execution_count": 56,
   "metadata": {
    "ExecuteTime": {
     "end_time": "2018-04-11T09:19:58.375262Z",
     "start_time": "2018-04-11T09:19:58.372552Z"
    },
    "collapsed": true
   },
   "outputs": [],
   "source": [
    "import scipy\n",
    "dist_mat = scipy.spatial.distance.squareform(dist_mat)"
   ]
  },
  {
   "cell_type": "code",
   "execution_count": 57,
   "metadata": {
    "ExecuteTime": {
     "end_time": "2018-04-11T09:19:59.386725Z",
     "start_time": "2018-04-11T09:19:59.225140Z"
    }
   },
   "outputs": [
    {
     "data": {
      "image/png": "[encoded data removed]",
      "text/plain": [
       "<matplotlib.figure.Figure at 0x7f02fff61cf8>"
      ]
     },
     "metadata": {},
     "output_type": "display_data"
    }
   ],
   "source": [
    "p = plot_dendrogram_and_intervals(f.interval_,link)"
   ]
  },
  {
   "cell_type": "code",
   "execution_count": 12,
   "metadata": {
    "ExecuteTime": {
     "end_time": "2018-04-11T08:55:38.939402Z",
     "start_time": "2018-04-11T08:55:38.923194Z"
    }
   },
   "outputs": [
    {
     "data": {
      "text/html": [
       "<div>\n",
       "<style>\n",
       "    .dataframe thead tr:only-child th {\n",
       "        text-align: right;\n",
       "    }\n",
       "\n",
       "    .dataframe thead th {\n",
       "        text-align: left;\n",
       "    }\n",
       "\n",
       "    .dataframe tbody tr th {\n",
       "        vertical-align: top;\n",
       "    }\n",
       "</style>\n",
       "<table border=\"1\" class=\"dataframe\">\n",
       "  <thead>\n",
       "    <tr style=\"text-align: right;\">\n",
       "      <th></th>\n",
       "      <th>0</th>\n",
       "      <th>1</th>\n",
       "      <th>2</th>\n",
       "      <th>3</th>\n",
       "      <th>4</th>\n",
       "      <th>5</th>\n",
       "      <th>6</th>\n",
       "    </tr>\n",
       "  </thead>\n",
       "  <tbody>\n",
       "    <tr>\n",
       "      <th>0</th>\n",
       "      <td>1.000000</td>\n",
       "      <td>0.041688</td>\n",
       "      <td>-0.013250</td>\n",
       "      <td>0.013250</td>\n",
       "      <td>0.068489</td>\n",
       "      <td>0.009713</td>\n",
       "      <td>-0.024199</td>\n",
       "    </tr>\n",
       "    <tr>\n",
       "      <th>1</th>\n",
       "      <td>0.041688</td>\n",
       "      <td>1.000000</td>\n",
       "      <td>0.009897</td>\n",
       "      <td>-0.009897</td>\n",
       "      <td>0.017740</td>\n",
       "      <td>0.001767</td>\n",
       "      <td>0.001497</td>\n",
       "    </tr>\n",
       "    <tr>\n",
       "      <th>2</th>\n",
       "      <td>-0.013250</td>\n",
       "      <td>0.009897</td>\n",
       "      <td>1.000000</td>\n",
       "      <td>-1.000000</td>\n",
       "      <td>-0.002976</td>\n",
       "      <td>0.050858</td>\n",
       "      <td>0.021815</td>\n",
       "    </tr>\n",
       "    <tr>\n",
       "      <th>3</th>\n",
       "      <td>0.013250</td>\n",
       "      <td>-0.009897</td>\n",
       "      <td>-1.000000</td>\n",
       "      <td>1.000000</td>\n",
       "      <td>0.002976</td>\n",
       "      <td>-0.050858</td>\n",
       "      <td>-0.021815</td>\n",
       "    </tr>\n",
       "    <tr>\n",
       "      <th>4</th>\n",
       "      <td>0.068489</td>\n",
       "      <td>0.017740</td>\n",
       "      <td>-0.002976</td>\n",
       "      <td>0.002976</td>\n",
       "      <td>1.000000</td>\n",
       "      <td>-0.010376</td>\n",
       "      <td>-0.000962</td>\n",
       "    </tr>\n",
       "    <tr>\n",
       "      <th>5</th>\n",
       "      <td>0.009713</td>\n",
       "      <td>0.001767</td>\n",
       "      <td>0.050858</td>\n",
       "      <td>-0.050858</td>\n",
       "      <td>-0.010376</td>\n",
       "      <td>1.000000</td>\n",
       "      <td>-0.047092</td>\n",
       "    </tr>\n",
       "    <tr>\n",
       "      <th>6</th>\n",
       "      <td>-0.024199</td>\n",
       "      <td>0.001497</td>\n",
       "      <td>0.021815</td>\n",
       "      <td>-0.021815</td>\n",
       "      <td>-0.000962</td>\n",
       "      <td>-0.047092</td>\n",
       "      <td>1.000000</td>\n",
       "    </tr>\n",
       "  </tbody>\n",
       "</table>\n",
       "</div>"
      ],
      "text/plain": [
       "          0         1         2         3         4         5         6\n",
       "0  1.000000  0.041688 -0.013250  0.013250  0.068489  0.009713 -0.024199\n",
       "1  0.041688  1.000000  0.009897 -0.009897  0.017740  0.001767  0.001497\n",
       "2 -0.013250  0.009897  1.000000 -1.000000 -0.002976  0.050858  0.021815\n",
       "3  0.013250 -0.009897 -1.000000  1.000000  0.002976 -0.050858 -0.021815\n",
       "4  0.068489  0.017740 -0.002976  0.002976  1.000000 -0.010376 -0.000962\n",
       "5  0.009713  0.001767  0.050858 -0.050858 -0.010376  1.000000 -0.047092\n",
       "6 -0.024199  0.001497  0.021815 -0.021815 -0.000962 -0.047092  1.000000"
      ]
     },
     "execution_count": 12,
     "metadata": {},
     "output_type": "execute_result"
    }
   ],
   "source": [
    "import pandas as pd\n",
    "pd.DataFrame(X).corr()"
   ]
  },
  {
   "cell_type": "code",
   "execution_count": 14,
   "metadata": {
    "ExecuteTime": {
     "end_time": "2018-04-11T08:56:12.114134Z",
     "start_time": "2018-04-11T08:56:12.067190Z"
    },
    "collapsed": true
   },
   "outputs": [],
   "source": [
    "import seaborn as sns"
   ]
  },
  {
   "cell_type": "code",
   "execution_count": 15,
   "metadata": {
    "ExecuteTime": {
     "end_time": "2018-04-11T08:56:13.066116Z",
     "start_time": "2018-04-11T08:56:12.904526Z"
    }
   },
   "outputs": [
    {
     "data": {
      "text/plain": [
       "<matplotlib.axes._subplots.AxesSubplot at 0x7f02ff656710>"
      ]
     },
     "execution_count": 15,
     "metadata": {},
     "output_type": "execute_result"
    },
    {
     "data": {
      "image/png": "[encoded data removed]",
      "text/plain": [
       "<matplotlib.figure.Figure at 0x7f02ff6565c0>"
      ]
     },
     "metadata": {},
     "output_type": "display_data"
    }
   ],
   "source": [
    "sns.heatmap(feat_points)"
   ]
  },
  {
   "cell_type": "code",
   "execution_count": 16,
   "metadata": {
    "ExecuteTime": {
     "end_time": "2018-04-11T08:56:13.979164Z",
     "start_time": "2018-04-11T08:56:13.844111Z"
    },
    "scrolled": false
   },
   "outputs": [
    {
     "data": {
      "text/plain": [
       "<matplotlib.axes._subplots.AxesSubplot at 0x7f02ff63a470>"
      ]
     },
     "execution_count": 16,
     "metadata": {},
     "output_type": "execute_result"
    },
    {
     "data": {
      "image/png": "[encoded data removed]",
      "text/plain": [
       "<matplotlib.figure.Figure at 0x7f02ff634390>"
      ]
     },
     "metadata": {},
     "output_type": "display_data"
    }
   ],
   "source": [
    "sns.heatmap(dist_mat)"
   ]
  },
  {
   "cell_type": "markdown",
   "metadata": {
    "heading_collapsed": true
   },
   "source": [
    "# Distance test"
   ]
  },
  {
   "cell_type": "code",
   "execution_count": 19,
   "metadata": {
    "ExecuteTime": {
     "end_time": "2018-04-11T09:13:54.139234Z",
     "start_time": "2018-04-11T09:13:54.135032Z"
    },
    "collapsed": true,
    "hidden": true
   },
   "outputs": [],
   "source": [
    "import fri.utils"
   ]
  },
  {
   "cell_type": "code",
   "execution_count": 38,
   "metadata": {
    "ExecuteTime": {
     "end_time": "2018-04-11T09:17:13.677415Z",
     "start_time": "2018-04-11T09:17:13.671158Z"
    },
    "hidden": true
   },
   "outputs": [
    {
     "data": {
      "text/plain": [
       "2.0524053863447112e-13"
      ]
     },
     "execution_count": 38,
     "metadata": {},
     "output_type": "execute_result"
    }
   ],
   "source": [
    "fri.utils.similarity2(feat_points[2],feat_points[3])"
   ]
  },
  {
   "cell_type": "code",
   "execution_count": 32,
   "metadata": {
    "ExecuteTime": {
     "end_time": "2018-04-11T09:16:15.552930Z",
     "start_time": "2018-04-11T09:16:15.549687Z"
    },
    "collapsed": true,
    "hidden": true
   },
   "outputs": [],
   "source": [
    "from scipy.spatial.distance import euclidean"
   ]
  },
  {
   "cell_type": "code",
   "execution_count": 39,
   "metadata": {
    "ExecuteTime": {
     "end_time": "2018-04-11T09:17:15.774464Z",
     "start_time": "2018-04-11T09:17:15.768399Z"
    },
    "hidden": true
   },
   "outputs": [
    {
     "data": {
      "text/plain": [
       "0.9251651425164945"
      ]
     },
     "execution_count": 39,
     "metadata": {},
     "output_type": "execute_result"
    }
   ],
   "source": [
    "euclidean(feat_points[2],feat_points[3])"
   ]
  },
  {
   "cell_type": "markdown",
   "metadata": {
    "ExecuteTime": {
     "end_time": "2018-04-11T09:01:19.587978Z",
     "start_time": "2018-04-11T09:01:19.583767Z"
    }
   },
   "source": [
    "# Correlation based grouping"
   ]
  },
  {
   "cell_type": "code",
   "execution_count": 17,
   "metadata": {
    "ExecuteTime": {
     "end_time": "2018-04-11T08:57:34.001273Z",
     "start_time": "2018-04-11T08:57:33.703844Z"
    }
   },
   "outputs": [
    {
     "data": {
      "image/png": "[encoded data removed]",
      "text/plain": [
       "<matplotlib.figure.Figure at 0x7f02fffbed30>"
      ]
     },
     "metadata": {},
     "output_type": "display_data"
    },
    {
     "data": {
      "image/png": "[encoded data removed]",
      "text/plain": [
       "<matplotlib.figure.Figure at 0x7f02ff5f5cf8>"
      ]
     },
     "metadata": {},
     "output_type": "display_data"
    }
   ],
   "source": [
    "import pandas as pd\n",
    "import seaborn as sns\n",
    "corr_pd = pd.DataFrame(X).corr()\n",
    "\n",
    "corr_pd = 1-corr_pd.abs()\n",
    "corr_pd = corr_pd.values\n",
    "\n",
    "sns.heatmap(corr_pd)\n",
    "\n",
    "from scipy.spatial.distance import squareform\n",
    "from scipy.cluster.hierarchy import linkage\n",
    "z = linkage(corr_pd,method=\"single\")\n",
    "threshold = 0.55*np.max(z[:, 2])\n",
    "p = plot_dendrogram_and_intervals(f.interval_,z)"
   ]
  },
  {
   "cell_type": "markdown",
   "metadata": {},
   "source": []
  }
 ],
 "metadata": {
  "kernelspec": {
   "display_name": "Python 3",
   "language": "python",
   "name": "python3"
  },
  "language_info": {
   "codemirror_mode": {
    "name": "ipython",
    "version": 3
   },
   "file_extension": ".py",
   "mimetype": "text/x-python",
   "name": "python",
   "nbconvert_exporter": "python",
   "pygments_lexer": "ipython3",
   "version": "3.6.3"
  },
  "varInspector": {
   "cols": {
    "lenName": 16,
    "lenType": 16,
    "lenVar": 40
   },
   "kernels_config": {
    "python": {
     "delete_cmd_postfix": "",
     "delete_cmd_prefix": "del ",
     "library": "var_list.py",
     "varRefreshCmd": "print(var_dic_list())"
    },
    "r": {
     "delete_cmd_postfix": ") ",
     "delete_cmd_prefix": "rm(",
     "library": "var_list.r",
     "varRefreshCmd": "cat(var_dic_list()) "
    }
   },
   "types_to_exclude": [
    "module",
    "function",
    "builtin_function_or_method",
    "instance",
    "_Feature"
   ],
   "window_display": false
  }
 },
 "nbformat": 4,
 "nbformat_minor": 2
}
