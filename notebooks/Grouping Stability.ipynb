{
 "cells": [
  {
   "cell_type": "code",
   "execution_count": 8,
   "metadata": {
    "ExecuteTime": {
     "end_time": "2018-04-17T14:27:29.801951Z",
     "start_time": "2018-04-17T14:27:29.793001Z"
    },
    "collapsed": true
   },
   "outputs": [],
   "source": [
    "import sys\n",
    "sys.path.append(\"../dev_scripts/\")\n",
    "import exp_tools\n",
    "import sklearn\n",
    "from sklearn.preprocessing import StandardScaler\n",
    "import numpy as np\n",
    "from fri import bounds,plot_dendrogram_and_intervals\n",
    "from fri import *\n",
    "from sklearn.metrics import precision_score\n",
    "import matplotlib.pyplot as plt\n",
    "import pandas as pd\n",
    "\n",
    "%matplotlib inline"
   ]
  },
  {
   "cell_type": "code",
   "execution_count": 9,
   "metadata": {
    "ExecuteTime": {
     "end_time": "2018-04-17T14:27:30.552350Z",
     "start_time": "2018-04-17T14:27:30.544412Z"
    }
   },
   "outputs": [
    {
     "name": "stdout",
     "output_type": "stream",
     "text": [
      "Generating dataset with d=5,n=1000,strongly=0,weakly=2, partition of weakly=None\n"
     ]
    }
   ],
   "source": [
    "n = 1000\n",
    "\n",
    "rs = np.random.RandomState(125)\n",
    "\n",
    "X,y = exp_tools.gen_quadrant_problem_2weak(n=n,random_state=rs)"
   ]
  },
  {
   "cell_type": "code",
   "execution_count": 106,
   "metadata": {
    "ExecuteTime": {
     "end_time": "2018-04-18T09:25:17.931554Z",
     "start_time": "2018-04-18T09:25:17.924863Z"
    },
    "collapsed": true
   },
   "outputs": [],
   "source": [
    "from sklearn.utils import resample\n",
    "import math\n",
    "n_bootstraps=10\n",
    "data = X, y\n",
    "perc = 0.7\n",
    "n = data[0].shape[0]\n",
    "bs = [resample(*data, replace=True, n_samples=math.floor(perc * n),\n",
    "                           random_state=rs) for bs in range(n_bootstraps)]\n"
   ]
  },
  {
   "cell_type": "code",
   "execution_count": 107,
   "metadata": {
    "ExecuteTime": {
     "end_time": "2018-04-18T09:26:31.502860Z",
     "start_time": "2018-04-18T09:25:18.556291Z"
    },
    "scrolled": true
   },
   "outputs": [
    {
     "name": "stdout",
     "output_type": "stream",
     "text": [
      "loss 51.4043524882\n",
      "L1 7.05063948704\n",
      "offset -0.0364114173854149\n",
      "C 0.1\n",
      "score 0.983934990243\n",
      "coef:\n",
      "[[ 2.18298782]\n",
      " [ 2.13600687]\n",
      " [ 0.92712301]\n",
      " [-0.92712301]\n",
      " [ 0.01353039]\n",
      " [ 0.04395731]\n",
      " [ 0.17894385]]\n",
      "loss 9.16469451616\n",
      "L1 16.6755217256\n",
      "offset 0.026202748710699598\n",
      "C 1\n",
      "score 0.996428616983\n",
      "coef:\n",
      "[[ 4.81539839]\n",
      " [ 5.03000165]\n",
      " [ 2.3299234 ]\n",
      " [-2.32992319]\n",
      " [ 0.06853149]\n",
      " [-0.23375552]\n",
      " [ 0.35203156]]\n",
      "loss 10.456185366\n",
      "L1 20.840049878\n",
      "offset -0.024219378626884072\n",
      "C 1\n",
      "score 0.971446072176\n",
      "coef:\n",
      "[[  6.16175810e+00]\n",
      " [  6.42228329e+00]\n",
      " [  3.05128049e+00]\n",
      " [ -3.05128045e+00]\n",
      " [  1.07911562e-11]\n",
      " [ -3.65427294e-03]\n",
      " [  2.55243278e-01]]\n",
      "loss 3.75091012736e-08\n",
      "L1 85.9122855116\n",
      "offset -0.1358686767209598\n",
      "C 100\n",
      "score 0.985709904489\n",
      "coef:\n",
      "[[  2.56816647e+01]\n",
      " [  2.61915625e+01]\n",
      " [  1.29961565e+01]\n",
      " [ -1.29961569e+01]\n",
      " [ -2.15633341e-01]\n",
      " [  5.59625254e-04]\n",
      " [  2.03440627e-02]]\n",
      "loss 8.39221248877e-09\n",
      "L1 86.9056632191\n",
      "offset -0.1852557496220506\n",
      "C 100\n",
      "score 1.0\n",
      "coef:\n",
      "[[ 25.88880373]\n",
      " [ 26.52528794]\n",
      " [ 13.15250979]\n",
      " [-13.15250983]\n",
      " [ -0.18990158]\n",
      " [ -0.03725221]\n",
      " [  0.05888329]]\n",
      "loss 1.7137690224\n",
      "L1 56.2239010267\n",
      "offset -0.8072304212128316\n",
      "C 10\n",
      "score 0.994643250709\n",
      "coef:\n",
      "[[ 16.15449689]\n",
      " [ 17.00153971]\n",
      " [  8.52001163]\n",
      " [ -8.52001098]\n",
      " [  0.39416202]\n",
      " [ -0.28420222]\n",
      " [  0.23821384]]\n",
      "loss 12.7057846929\n",
      "L1 18.7181878319\n",
      "offset 0.02083962272327221\n",
      "C 1\n",
      "score 0.969680770724\n",
      "coef:\n",
      "[[ 5.53426407]\n",
      " [ 5.63279097]\n",
      " [ 2.77353356]\n",
      " [-2.77353357]\n",
      " [-0.01009006]\n",
      " [ 0.12614344]\n",
      " [ 0.16617873]]\n",
      "loss 7.98484407489\n",
      "L1 18.4943008026\n",
      "offset 0.16530734665968783\n",
      "C 1\n",
      "score 0.987503629188\n",
      "coef:\n",
      "[[ 5.34603007]\n",
      " [ 5.55895476]\n",
      " [ 2.58793066]\n",
      " [-2.58793067]\n",
      " [-0.33681341]\n",
      " [ 0.05538017]\n",
      " [ 0.33996099]]\n",
      "loss 0.517976272782\n",
      "L1 59.1744066604\n",
      "offset -0.24628014716146718\n",
      "C 10\n",
      "score 0.983934570698\n",
      "coef:\n",
      "[[ 17.42568508]\n",
      " [ 17.86258008]\n",
      " [  8.79091929]\n",
      " [ -8.79091906]\n",
      " [ -0.40948922]\n",
      " [  0.31649463]\n",
      " [  0.19882778]]\n",
      "loss 0.394791911128\n",
      "L1 59.6428386613\n",
      "offset -0.6546660028020412\n",
      "C 10\n",
      "score 0.973269704256\n",
      "coef:\n",
      "[[ 17.40044872]\n",
      " [ 18.12553083]\n",
      " [  9.11747821]\n",
      " [ -9.11747851]\n",
      " [  0.15263503]\n",
      " [ -0.24000634]\n",
      " [  0.06718478]]\n"
     ]
    }
   ],
   "source": [
    "intervals = []\n",
    "features = []\n",
    "dist_mats = []\n",
    "for X,y in bs:\n",
    "    f = FRIClassification(debug=True)\n",
    "    f.fit(X,y)\n",
    "    intervals.append(f.interval_)\n",
    "    clust, link, feat_points,dist_mat = f.community_detection2()\n",
    "    features.append(feat_points)\n",
    "    dist_mats.append(dist_mat/f.optim_L1_)"
   ]
  },
  {
   "cell_type": "code",
   "execution_count": 109,
   "metadata": {
    "ExecuteTime": {
     "end_time": "2018-04-18T09:26:40.422725Z",
     "start_time": "2018-04-18T09:26:40.419424Z"
    }
   },
   "outputs": [],
   "source": [
    "mats = pd.DataFrame(dist_mats)"
   ]
  },
  {
   "cell_type": "code",
   "execution_count": 114,
   "metadata": {
    "ExecuteTime": {
     "end_time": "2018-04-18T09:27:52.256688Z",
     "start_time": "2018-04-18T09:27:52.230726Z"
    }
   },
   "outputs": [
    {
     "data": {
      "text/html": [
       "<div>\n",
       "<style>\n",
       "    .dataframe thead tr:only-child th {\n",
       "        text-align: right;\n",
       "    }\n",
       "\n",
       "    .dataframe thead th {\n",
       "        text-align: left;\n",
       "    }\n",
       "\n",
       "    .dataframe tbody tr th {\n",
       "        vertical-align: top;\n",
       "    }\n",
       "</style>\n",
       "<table border=\"1\" class=\"dataframe\">\n",
       "  <thead>\n",
       "    <tr style=\"text-align: right;\">\n",
       "      <th></th>\n",
       "      <th>0</th>\n",
       "      <th>1</th>\n",
       "      <th>2</th>\n",
       "      <th>3</th>\n",
       "      <th>4</th>\n",
       "      <th>5</th>\n",
       "      <th>6</th>\n",
       "      <th>7</th>\n",
       "      <th>8</th>\n",
       "      <th>9</th>\n",
       "      <th>...</th>\n",
       "      <th>11</th>\n",
       "      <th>12</th>\n",
       "      <th>13</th>\n",
       "      <th>14</th>\n",
       "      <th>15</th>\n",
       "      <th>16</th>\n",
       "      <th>17</th>\n",
       "      <th>18</th>\n",
       "      <th>19</th>\n",
       "      <th>20</th>\n",
       "    </tr>\n",
       "  </thead>\n",
       "  <tbody>\n",
       "    <tr>\n",
       "      <th>0</th>\n",
       "      <td>0.034141</td>\n",
       "      <td>0.408735</td>\n",
       "      <td>0.408735</td>\n",
       "      <td>0.114194</td>\n",
       "      <td>0.110971</td>\n",
       "      <td>0.099255</td>\n",
       "      <td>0.396737</td>\n",
       "      <td>0.396737</td>\n",
       "      <td>0.100717</td>\n",
       "      <td>0.095708</td>\n",
       "      <td>...</td>\n",
       "      <td>4.165277e-14</td>\n",
       "      <td>0.385485</td>\n",
       "      <td>0.391413</td>\n",
       "      <td>0.388277</td>\n",
       "      <td>0.385485</td>\n",
       "      <td>0.391413</td>\n",
       "      <td>0.388277</td>\n",
       "      <td>0.024150</td>\n",
       "      <td>0.026553</td>\n",
       "      <td>0.018341</td>\n",
       "    </tr>\n",
       "    <tr>\n",
       "      <th>1</th>\n",
       "      <td>0.018046</td>\n",
       "      <td>0.398902</td>\n",
       "      <td>0.398902</td>\n",
       "      <td>0.062851</td>\n",
       "      <td>0.063753</td>\n",
       "      <td>0.058128</td>\n",
       "      <td>0.403381</td>\n",
       "      <td>0.403381</td>\n",
       "      <td>0.051538</td>\n",
       "      <td>0.045926</td>\n",
       "      <td>...</td>\n",
       "      <td>1.795167e-11</td>\n",
       "      <td>0.396841</td>\n",
       "      <td>0.396730</td>\n",
       "      <td>0.401041</td>\n",
       "      <td>0.396841</td>\n",
       "      <td>0.396730</td>\n",
       "      <td>0.401041</td>\n",
       "      <td>0.024397</td>\n",
       "      <td>0.053067</td>\n",
       "      <td>0.034732</td>\n",
       "    </tr>\n",
       "    <tr>\n",
       "      <th>2</th>\n",
       "      <td>0.015719</td>\n",
       "      <td>0.403874</td>\n",
       "      <td>0.403874</td>\n",
       "      <td>0.048698</td>\n",
       "      <td>0.045861</td>\n",
       "      <td>0.055111</td>\n",
       "      <td>0.409554</td>\n",
       "      <td>0.409554</td>\n",
       "      <td>0.053900</td>\n",
       "      <td>0.051453</td>\n",
       "      <td>...</td>\n",
       "      <td>8.100200e-11</td>\n",
       "      <td>0.399163</td>\n",
       "      <td>0.401272</td>\n",
       "      <td>0.401125</td>\n",
       "      <td>0.399163</td>\n",
       "      <td>0.401272</td>\n",
       "      <td>0.401125</td>\n",
       "      <td>0.010032</td>\n",
       "      <td>0.052334</td>\n",
       "      <td>0.054091</td>\n",
       "    </tr>\n",
       "    <tr>\n",
       "      <th>3</th>\n",
       "      <td>0.009426</td>\n",
       "      <td>0.419251</td>\n",
       "      <td>0.419251</td>\n",
       "      <td>0.051810</td>\n",
       "      <td>0.034077</td>\n",
       "      <td>0.035721</td>\n",
       "      <td>0.422673</td>\n",
       "      <td>0.422673</td>\n",
       "      <td>0.039520</td>\n",
       "      <td>0.033206</td>\n",
       "      <td>...</td>\n",
       "      <td>1.966145e-11</td>\n",
       "      <td>0.424542</td>\n",
       "      <td>0.422599</td>\n",
       "      <td>0.423842</td>\n",
       "      <td>0.424542</td>\n",
       "      <td>0.422599</td>\n",
       "      <td>0.423842</td>\n",
       "      <td>0.044701</td>\n",
       "      <td>0.042379</td>\n",
       "      <td>0.007160</td>\n",
       "    </tr>\n",
       "    <tr>\n",
       "      <th>4</th>\n",
       "      <td>0.010330</td>\n",
       "      <td>0.418737</td>\n",
       "      <td>0.418737</td>\n",
       "      <td>0.047973</td>\n",
       "      <td>0.034205</td>\n",
       "      <td>0.035787</td>\n",
       "      <td>0.422885</td>\n",
       "      <td>0.422885</td>\n",
       "      <td>0.039933</td>\n",
       "      <td>0.034475</td>\n",
       "      <td>...</td>\n",
       "      <td>2.835714e-11</td>\n",
       "      <td>0.423649</td>\n",
       "      <td>0.422478</td>\n",
       "      <td>0.423523</td>\n",
       "      <td>0.423649</td>\n",
       "      <td>0.422478</td>\n",
       "      <td>0.423523</td>\n",
       "      <td>0.037935</td>\n",
       "      <td>0.038630</td>\n",
       "      <td>0.006405</td>\n",
       "    </tr>\n",
       "    <tr>\n",
       "      <th>5</th>\n",
       "      <td>0.007674</td>\n",
       "      <td>0.424492</td>\n",
       "      <td>0.424492</td>\n",
       "      <td>0.050263</td>\n",
       "      <td>0.048480</td>\n",
       "      <td>0.044286</td>\n",
       "      <td>0.427905</td>\n",
       "      <td>0.427905</td>\n",
       "      <td>0.055403</td>\n",
       "      <td>0.057996</td>\n",
       "      <td>...</td>\n",
       "      <td>1.010978e-09</td>\n",
       "      <td>0.425376</td>\n",
       "      <td>0.427532</td>\n",
       "      <td>0.424105</td>\n",
       "      <td>0.425376</td>\n",
       "      <td>0.427532</td>\n",
       "      <td>0.424105</td>\n",
       "      <td>0.012431</td>\n",
       "      <td>0.014145</td>\n",
       "      <td>0.020773</td>\n",
       "    </tr>\n",
       "    <tr>\n",
       "      <th>6</th>\n",
       "      <td>0.005716</td>\n",
       "      <td>0.413012</td>\n",
       "      <td>0.413012</td>\n",
       "      <td>0.048240</td>\n",
       "      <td>0.053723</td>\n",
       "      <td>0.048484</td>\n",
       "      <td>0.416898</td>\n",
       "      <td>0.416898</td>\n",
       "      <td>0.054273</td>\n",
       "      <td>0.061177</td>\n",
       "      <td>...</td>\n",
       "      <td>8.042987e-13</td>\n",
       "      <td>0.412208</td>\n",
       "      <td>0.415019</td>\n",
       "      <td>0.410388</td>\n",
       "      <td>0.412208</td>\n",
       "      <td>0.415019</td>\n",
       "      <td>0.410388</td>\n",
       "      <td>0.031689</td>\n",
       "      <td>0.024082</td>\n",
       "      <td>0.016152</td>\n",
       "    </tr>\n",
       "    <tr>\n",
       "      <th>7</th>\n",
       "      <td>0.008858</td>\n",
       "      <td>0.404776</td>\n",
       "      <td>0.404776</td>\n",
       "      <td>0.049325</td>\n",
       "      <td>0.055191</td>\n",
       "      <td>0.049508</td>\n",
       "      <td>0.403782</td>\n",
       "      <td>0.403782</td>\n",
       "      <td>0.056001</td>\n",
       "      <td>0.050336</td>\n",
       "      <td>...</td>\n",
       "      <td>4.724024e-13</td>\n",
       "      <td>0.395769</td>\n",
       "      <td>0.394211</td>\n",
       "      <td>0.399215</td>\n",
       "      <td>0.395769</td>\n",
       "      <td>0.394211</td>\n",
       "      <td>0.399215</td>\n",
       "      <td>0.046970</td>\n",
       "      <td>0.018690</td>\n",
       "      <td>0.051032</td>\n",
       "    </tr>\n",
       "    <tr>\n",
       "      <th>8</th>\n",
       "      <td>0.010746</td>\n",
       "      <td>0.414248</td>\n",
       "      <td>0.414248</td>\n",
       "      <td>0.056255</td>\n",
       "      <td>0.039265</td>\n",
       "      <td>0.045623</td>\n",
       "      <td>0.418373</td>\n",
       "      <td>0.418373</td>\n",
       "      <td>0.046773</td>\n",
       "      <td>0.037542</td>\n",
       "      <td>...</td>\n",
       "      <td>2.664340e-11</td>\n",
       "      <td>0.416546</td>\n",
       "      <td>0.417562</td>\n",
       "      <td>0.417786</td>\n",
       "      <td>0.416546</td>\n",
       "      <td>0.417562</td>\n",
       "      <td>0.417786</td>\n",
       "      <td>0.046515</td>\n",
       "      <td>0.014974</td>\n",
       "      <td>0.042755</td>\n",
       "    </tr>\n",
       "    <tr>\n",
       "      <th>9</th>\n",
       "      <td>0.025524</td>\n",
       "      <td>0.416634</td>\n",
       "      <td>0.416634</td>\n",
       "      <td>0.045408</td>\n",
       "      <td>0.039596</td>\n",
       "      <td>0.035559</td>\n",
       "      <td>0.427951</td>\n",
       "      <td>0.427951</td>\n",
       "      <td>0.042288</td>\n",
       "      <td>0.057210</td>\n",
       "      <td>...</td>\n",
       "      <td>1.090613e-07</td>\n",
       "      <td>0.427902</td>\n",
       "      <td>0.415546</td>\n",
       "      <td>0.416627</td>\n",
       "      <td>0.427902</td>\n",
       "      <td>0.415546</td>\n",
       "      <td>0.416627</td>\n",
       "      <td>0.035753</td>\n",
       "      <td>0.030928</td>\n",
       "      <td>0.021603</td>\n",
       "    </tr>\n",
       "  </tbody>\n",
       "</table>\n",
       "<p>10 rows × 21 columns</p>\n",
       "</div>"
      ],
      "text/plain": [
       "         0         1         2         3         4         5         6   \\\n",
       "0  0.034141  0.408735  0.408735  0.114194  0.110971  0.099255  0.396737   \n",
       "1  0.018046  0.398902  0.398902  0.062851  0.063753  0.058128  0.403381   \n",
       "2  0.015719  0.403874  0.403874  0.048698  0.045861  0.055111  0.409554   \n",
       "3  0.009426  0.419251  0.419251  0.051810  0.034077  0.035721  0.422673   \n",
       "4  0.010330  0.418737  0.418737  0.047973  0.034205  0.035787  0.422885   \n",
       "5  0.007674  0.424492  0.424492  0.050263  0.048480  0.044286  0.427905   \n",
       "6  0.005716  0.413012  0.413012  0.048240  0.053723  0.048484  0.416898   \n",
       "7  0.008858  0.404776  0.404776  0.049325  0.055191  0.049508  0.403782   \n",
       "8  0.010746  0.414248  0.414248  0.056255  0.039265  0.045623  0.418373   \n",
       "9  0.025524  0.416634  0.416634  0.045408  0.039596  0.035559  0.427951   \n",
       "\n",
       "         7         8         9     ...               11        12        13  \\\n",
       "0  0.396737  0.100717  0.095708    ...     4.165277e-14  0.385485  0.391413   \n",
       "1  0.403381  0.051538  0.045926    ...     1.795167e-11  0.396841  0.396730   \n",
       "2  0.409554  0.053900  0.051453    ...     8.100200e-11  0.399163  0.401272   \n",
       "3  0.422673  0.039520  0.033206    ...     1.966145e-11  0.424542  0.422599   \n",
       "4  0.422885  0.039933  0.034475    ...     2.835714e-11  0.423649  0.422478   \n",
       "5  0.427905  0.055403  0.057996    ...     1.010978e-09  0.425376  0.427532   \n",
       "6  0.416898  0.054273  0.061177    ...     8.042987e-13  0.412208  0.415019   \n",
       "7  0.403782  0.056001  0.050336    ...     4.724024e-13  0.395769  0.394211   \n",
       "8  0.418373  0.046773  0.037542    ...     2.664340e-11  0.416546  0.417562   \n",
       "9  0.427951  0.042288  0.057210    ...     1.090613e-07  0.427902  0.415546   \n",
       "\n",
       "         14        15        16        17        18        19        20  \n",
       "0  0.388277  0.385485  0.391413  0.388277  0.024150  0.026553  0.018341  \n",
       "1  0.401041  0.396841  0.396730  0.401041  0.024397  0.053067  0.034732  \n",
       "2  0.401125  0.399163  0.401272  0.401125  0.010032  0.052334  0.054091  \n",
       "3  0.423842  0.424542  0.422599  0.423842  0.044701  0.042379  0.007160  \n",
       "4  0.423523  0.423649  0.422478  0.423523  0.037935  0.038630  0.006405  \n",
       "5  0.424105  0.425376  0.427532  0.424105  0.012431  0.014145  0.020773  \n",
       "6  0.410388  0.412208  0.415019  0.410388  0.031689  0.024082  0.016152  \n",
       "7  0.399215  0.395769  0.394211  0.399215  0.046970  0.018690  0.051032  \n",
       "8  0.417786  0.416546  0.417562  0.417786  0.046515  0.014974  0.042755  \n",
       "9  0.416627  0.427902  0.415546  0.416627  0.035753  0.030928  0.021603  \n",
       "\n",
       "[10 rows x 21 columns]"
      ]
     },
     "execution_count": 114,
     "metadata": {},
     "output_type": "execute_result"
    }
   ],
   "source": [
    "mats"
   ]
  },
  {
   "cell_type": "code",
   "execution_count": 112,
   "metadata": {
    "ExecuteTime": {
     "end_time": "2018-04-18T09:27:10.845859Z",
     "start_time": "2018-04-18T09:27:10.841415Z"
    }
   },
   "outputs": [
    {
     "data": {
      "text/plain": [
       "0     8.155985e-05\n",
       "1     6.458881e-05\n",
       "2     6.458881e-05\n",
       "3     4.217941e-04\n",
       "4     5.144646e-04\n",
       "5     3.534906e-04\n",
       "6     1.215920e-04\n",
       "7     1.215920e-04\n",
       "8     3.101719e-04\n",
       "9     3.293906e-04\n",
       "10    2.011767e-04\n",
       "11    1.186661e-15\n",
       "12    2.323255e-04\n",
       "13    1.755617e-04\n",
       "14    1.579818e-04\n",
       "15    2.323255e-04\n",
       "16    1.755617e-04\n",
       "17    1.579818e-04\n",
       "18    1.808389e-04\n",
       "19    2.096189e-04\n",
       "20    2.996472e-04\n",
       "dtype: float64"
      ]
     },
     "execution_count": 112,
     "metadata": {},
     "output_type": "execute_result"
    }
   ],
   "source": [
    "mats.var()"
   ]
  },
  {
   "cell_type": "code",
   "execution_count": 117,
   "metadata": {
    "ExecuteTime": {
     "end_time": "2018-04-18T09:43:48.343442Z",
     "start_time": "2018-04-18T09:43:48.329428Z"
    }
   },
   "outputs": [
    {
     "ename": "SyntaxError",
     "evalue": "invalid syntax (<ipython-input-117-926880c44476>, line 3)",
     "output_type": "error",
     "traceback": [
      "\u001b[0;36m  File \u001b[0;32m\"<ipython-input-117-926880c44476>\"\u001b[0;36m, line \u001b[0;32m3\u001b[0m\n\u001b[0;31m    return = scipy.spatial.distance.squareform(dist_mat)\u001b[0m\n\u001b[0m           ^\u001b[0m\n\u001b[0;31mSyntaxError\u001b[0m\u001b[0;31m:\u001b[0m invalid syntax\n"
     ]
    }
   ],
   "source": [
    "import scipy\n",
    "def make_square(dist_mat):\n",
    "    return = scipy.spatial.distance.squareform(dist_mat)"
   ]
  },
  {
   "cell_type": "code",
   "execution_count": 118,
   "metadata": {
    "ExecuteTime": {
     "end_time": "2018-04-18T09:43:52.087574Z",
     "start_time": "2018-04-18T09:43:48.866603Z"
    }
   },
   "outputs": [
    {
     "data": {
      "image/png": "[encoded data removed]",
      "text/plain": [
       "<matplotlib.figure.Figure at 0x7f4199b94cc0>"
      ]
     },
     "metadata": {},
     "output_type": "display_data"
    }
   ],
   "source": [
    "import seaborn as sns\n",
    "from fri.plot import plot_relevance_bars\n",
    "fig, axs = plt.subplots(n_bootstraps,2,figsize=(10,12))\n",
    "for i,ints in enumerate(intervals):\n",
    "    plot_relevance_bars(axs[i][0],ints)\n",
    "    sns.heatmap(make_square(dist_mats[i]),ax=axs[i,1])"
   ]
  },
  {
   "cell_type": "code",
   "execution_count": 55,
   "metadata": {
    "ExecuteTime": {
     "end_time": "2018-04-11T09:19:57.557739Z",
     "start_time": "2018-04-11T09:19:51.605806Z"
    },
    "collapsed": true
   },
   "outputs": [],
   "source": [
    "clust, link, feat_points,dist_mat = f.community_detection2(X,y)\n"
   ]
  },
  {
   "cell_type": "code",
   "execution_count": 120,
   "metadata": {
    "ExecuteTime": {
     "end_time": "2018-04-18T09:44:40.991232Z",
     "start_time": "2018-04-18T09:44:40.987147Z"
    }
   },
   "outputs": [
    {
     "data": {
      "text/plain": [
       "array([[  2.00000000e+00,   3.00000000e+00,   6.50472448e-06,\n",
       "          2.00000000e+00],\n",
       "       [  5.00000000e+00,   6.00000000e+00,   1.28848362e+00,\n",
       "          2.00000000e+00],\n",
       "       [  0.00000000e+00,   1.00000000e+00,   1.52233490e+00,\n",
       "          2.00000000e+00],\n",
       "       [  4.00000000e+00,   8.00000000e+00,   1.84464048e+00,\n",
       "          3.00000000e+00],\n",
       "       [  9.00000000e+00,   1.00000000e+01,   2.12085234e+00,\n",
       "          5.00000000e+00],\n",
       "       [  7.00000000e+00,   1.10000000e+01,   2.47843502e+01,\n",
       "          7.00000000e+00]])"
      ]
     },
     "execution_count": 120,
     "metadata": {},
     "output_type": "execute_result"
    }
   ],
   "source": [
    "link"
   ]
  },
  {
   "cell_type": "code",
   "execution_count": 56,
   "metadata": {
    "ExecuteTime": {
     "end_time": "2018-04-11T09:19:58.375262Z",
     "start_time": "2018-04-11T09:19:58.372552Z"
    },
    "collapsed": true
   },
   "outputs": [],
   "source": [
    "import scipy\n",
    "dist_mat = scipy.spatial.distance.squareform(dist_mat)"
   ]
  },
  {
   "cell_type": "code",
   "execution_count": 57,
   "metadata": {
    "ExecuteTime": {
     "end_time": "2018-04-11T09:19:59.386725Z",
     "start_time": "2018-04-11T09:19:59.225140Z"
    }
   },
   "outputs": [
    {
     "data": {
      "image/png": "[encoded data removed]",
      "text/plain": [
       "<matplotlib.figure.Figure at 0x7f02fff61cf8>"
      ]
     },
     "metadata": {},
     "output_type": "display_data"
    }
   ],
   "source": [
    "p = plot_dendrogram_and_intervals(f.interval_,link)"
   ]
  },
  {
   "cell_type": "code",
   "execution_count": 12,
   "metadata": {
    "ExecuteTime": {
     "end_time": "2018-04-11T08:55:38.939402Z",
     "start_time": "2018-04-11T08:55:38.923194Z"
    }
   },
   "outputs": [
    {
     "data": {
      "text/html": [
       "<div>\n",
       "<style>\n",
       "    .dataframe thead tr:only-child th {\n",
       "        text-align: right;\n",
       "    }\n",
       "\n",
       "    .dataframe thead th {\n",
       "        text-align: left;\n",
       "    }\n",
       "\n",
       "    .dataframe tbody tr th {\n",
       "        vertical-align: top;\n",
       "    }\n",
       "</style>\n",
       "<table border=\"1\" class=\"dataframe\">\n",
       "  <thead>\n",
       "    <tr style=\"text-align: right;\">\n",
       "      <th></th>\n",
       "      <th>0</th>\n",
       "      <th>1</th>\n",
       "      <th>2</th>\n",
       "      <th>3</th>\n",
       "      <th>4</th>\n",
       "      <th>5</th>\n",
       "      <th>6</th>\n",
       "    </tr>\n",
       "  </thead>\n",
       "  <tbody>\n",
       "    <tr>\n",
       "      <th>0</th>\n",
       "      <td>1.000000</td>\n",
       "      <td>0.041688</td>\n",
       "      <td>-0.013250</td>\n",
       "      <td>0.013250</td>\n",
       "      <td>0.068489</td>\n",
       "      <td>0.009713</td>\n",
       "      <td>-0.024199</td>\n",
       "    </tr>\n",
       "    <tr>\n",
       "      <th>1</th>\n",
       "      <td>0.041688</td>\n",
       "      <td>1.000000</td>\n",
       "      <td>0.009897</td>\n",
       "      <td>-0.009897</td>\n",
       "      <td>0.017740</td>\n",
       "      <td>0.001767</td>\n",
       "      <td>0.001497</td>\n",
       "    </tr>\n",
       "    <tr>\n",
       "      <th>2</th>\n",
       "      <td>-0.013250</td>\n",
       "      <td>0.009897</td>\n",
       "      <td>1.000000</td>\n",
       "      <td>-1.000000</td>\n",
       "      <td>-0.002976</td>\n",
       "      <td>0.050858</td>\n",
       "      <td>0.021815</td>\n",
       "    </tr>\n",
       "    <tr>\n",
       "      <th>3</th>\n",
       "      <td>0.013250</td>\n",
       "      <td>-0.009897</td>\n",
       "      <td>-1.000000</td>\n",
       "      <td>1.000000</td>\n",
       "      <td>0.002976</td>\n",
       "      <td>-0.050858</td>\n",
       "      <td>-0.021815</td>\n",
       "    </tr>\n",
       "    <tr>\n",
       "      <th>4</th>\n",
       "      <td>0.068489</td>\n",
       "      <td>0.017740</td>\n",
       "      <td>-0.002976</td>\n",
       "      <td>0.002976</td>\n",
       "      <td>1.000000</td>\n",
       "      <td>-0.010376</td>\n",
       "      <td>-0.000962</td>\n",
       "    </tr>\n",
       "    <tr>\n",
       "      <th>5</th>\n",
       "      <td>0.009713</td>\n",
       "      <td>0.001767</td>\n",
       "      <td>0.050858</td>\n",
       "      <td>-0.050858</td>\n",
       "      <td>-0.010376</td>\n",
       "      <td>1.000000</td>\n",
       "      <td>-0.047092</td>\n",
       "    </tr>\n",
       "    <tr>\n",
       "      <th>6</th>\n",
       "      <td>-0.024199</td>\n",
       "      <td>0.001497</td>\n",
       "      <td>0.021815</td>\n",
       "      <td>-0.021815</td>\n",
       "      <td>-0.000962</td>\n",
       "      <td>-0.047092</td>\n",
       "      <td>1.000000</td>\n",
       "    </tr>\n",
       "  </tbody>\n",
       "</table>\n",
       "</div>"
      ],
      "text/plain": [
       "          0         1         2         3         4         5         6\n",
       "0  1.000000  0.041688 -0.013250  0.013250  0.068489  0.009713 -0.024199\n",
       "1  0.041688  1.000000  0.009897 -0.009897  0.017740  0.001767  0.001497\n",
       "2 -0.013250  0.009897  1.000000 -1.000000 -0.002976  0.050858  0.021815\n",
       "3  0.013250 -0.009897 -1.000000  1.000000  0.002976 -0.050858 -0.021815\n",
       "4  0.068489  0.017740 -0.002976  0.002976  1.000000 -0.010376 -0.000962\n",
       "5  0.009713  0.001767  0.050858 -0.050858 -0.010376  1.000000 -0.047092\n",
       "6 -0.024199  0.001497  0.021815 -0.021815 -0.000962 -0.047092  1.000000"
      ]
     },
     "execution_count": 12,
     "metadata": {},
     "output_type": "execute_result"
    }
   ],
   "source": [
    "import pandas as pd\n",
    "pd.DataFrame(X).corr()"
   ]
  },
  {
   "cell_type": "code",
   "execution_count": 14,
   "metadata": {
    "ExecuteTime": {
     "end_time": "2018-04-11T08:56:12.114134Z",
     "start_time": "2018-04-11T08:56:12.067190Z"
    },
    "collapsed": true
   },
   "outputs": [],
   "source": [
    "import seaborn as sns"
   ]
  },
  {
   "cell_type": "code",
   "execution_count": 15,
   "metadata": {
    "ExecuteTime": {
     "end_time": "2018-04-11T08:56:13.066116Z",
     "start_time": "2018-04-11T08:56:12.904526Z"
    }
   },
   "outputs": [
    {
     "data": {
      "text/plain": [
       "<matplotlib.axes._subplots.AxesSubplot at 0x7f02ff656710>"
      ]
     },
     "execution_count": 15,
     "metadata": {},
     "output_type": "execute_result"
    },
    {
     "data": {
      "image/png": "[encoded data removed]",
      "text/plain": [
       "<matplotlib.figure.Figure at 0x7f02ff6565c0>"
      ]
     },
     "metadata": {},
     "output_type": "display_data"
    }
   ],
   "source": [
    "sns.heatmap(feat_points)"
   ]
  },
  {
   "cell_type": "code",
   "execution_count": 16,
   "metadata": {
    "ExecuteTime": {
     "end_time": "2018-04-11T08:56:13.979164Z",
     "start_time": "2018-04-11T08:56:13.844111Z"
    },
    "scrolled": false
   },
   "outputs": [
    {
     "data": {
      "text/plain": [
       "<matplotlib.axes._subplots.AxesSubplot at 0x7f02ff63a470>"
      ]
     },
     "execution_count": 16,
     "metadata": {},
     "output_type": "execute_result"
    },
    {
     "data": {
      "image/png": "[encoded data removed]",
      "text/plain": [
       "<matplotlib.figure.Figure at 0x7f02ff634390>"
      ]
     },
     "metadata": {},
     "output_type": "display_data"
    }
   ],
   "source": [
    "sns.heatmap(dist_mat)"
   ]
  },
  {
   "cell_type": "markdown",
   "metadata": {
    "heading_collapsed": true
   },
   "source": [
    "# Distance test"
   ]
  },
  {
   "cell_type": "code",
   "execution_count": 19,
   "metadata": {
    "ExecuteTime": {
     "end_time": "2018-04-11T09:13:54.139234Z",
     "start_time": "2018-04-11T09:13:54.135032Z"
    },
    "collapsed": true,
    "hidden": true
   },
   "outputs": [],
   "source": [
    "import fri.utils"
   ]
  },
  {
   "cell_type": "code",
   "execution_count": 38,
   "metadata": {
    "ExecuteTime": {
     "end_time": "2018-04-11T09:17:13.677415Z",
     "start_time": "2018-04-11T09:17:13.671158Z"
    },
    "hidden": true
   },
   "outputs": [
    {
     "data": {
      "text/plain": [
       "2.0524053863447112e-13"
      ]
     },
     "execution_count": 38,
     "metadata": {},
     "output_type": "execute_result"
    }
   ],
   "source": [
    "fri.utils.similarity2(feat_points[2],feat_points[3])"
   ]
  },
  {
   "cell_type": "code",
   "execution_count": 32,
   "metadata": {
    "ExecuteTime": {
     "end_time": "2018-04-11T09:16:15.552930Z",
     "start_time": "2018-04-11T09:16:15.549687Z"
    },
    "collapsed": true,
    "hidden": true
   },
   "outputs": [],
   "source": [
    "from scipy.spatial.distance import euclidean"
   ]
  },
  {
   "cell_type": "code",
   "execution_count": 39,
   "metadata": {
    "ExecuteTime": {
     "end_time": "2018-04-11T09:17:15.774464Z",
     "start_time": "2018-04-11T09:17:15.768399Z"
    },
    "hidden": true
   },
   "outputs": [
    {
     "data": {
      "text/plain": [
       "0.9251651425164945"
      ]
     },
     "execution_count": 39,
     "metadata": {},
     "output_type": "execute_result"
    }
   ],
   "source": [
    "euclidean(feat_points[2],feat_points[3])"
   ]
  },
  {
   "cell_type": "markdown",
   "metadata": {
    "ExecuteTime": {
     "end_time": "2018-04-11T09:01:19.587978Z",
     "start_time": "2018-04-11T09:01:19.583767Z"
    }
   },
   "source": [
    "# Correlation based grouping"
   ]
  },
  {
   "cell_type": "code",
   "execution_count": 17,
   "metadata": {
    "ExecuteTime": {
     "end_time": "2018-04-11T08:57:34.001273Z",
     "start_time": "2018-04-11T08:57:33.703844Z"
    }
   },
   "outputs": [
    {
     "data": {
      "image/png": "[encoded data removed]",
      "text/plain": [
       "<matplotlib.figure.Figure at 0x7f02fffbed30>"
      ]
     },
     "metadata": {},
     "output_type": "display_data"
    },
    {
     "data": {
      "image/png": "[encoded data removed]",
      "text/plain": [
       "<matplotlib.figure.Figure at 0x7f02ff5f5cf8>"
      ]
     },
     "metadata": {},
     "output_type": "display_data"
    }
   ],
   "source": [
    "import pandas as pd\n",
    "import seaborn as sns\n",
    "corr_pd = pd.DataFrame(X).corr()\n",
    "\n",
    "corr_pd = 1-corr_pd.abs()\n",
    "corr_pd = corr_pd.values\n",
    "\n",
    "sns.heatmap(corr_pd)\n",
    "\n",
    "from scipy.spatial.distance import squareform\n",
    "from scipy.cluster.hierarchy import linkage\n",
    "z = linkage(corr_pd,method=\"single\")\n",
    "threshold = 0.55*np.max(z[:, 2])\n",
    "p = plot_dendrogram_and_intervals(f.interval_,z)"
   ]
  },
  {
   "cell_type": "markdown",
   "metadata": {},
   "source": []
  }
 ],
 "metadata": {
  "kernelspec": {
   "display_name": "Python 3",
   "language": "python",
   "name": "python3"
  },
  "language_info": {
   "codemirror_mode": {
    "name": "ipython",
    "version": 3
   },
   "file_extension": ".py",
   "mimetype": "text/x-python",
   "name": "python",
   "nbconvert_exporter": "python",
   "pygments_lexer": "ipython3",
   "version": "3.6.3"
  },
  "varInspector": {
   "cols": {
    "lenName": 16,
    "lenType": 16,
    "lenVar": 40
   },
   "kernels_config": {
    "python": {
     "delete_cmd_postfix": "",
     "delete_cmd_prefix": "del ",
     "library": "var_list.py",
     "varRefreshCmd": "print(var_dic_list())"
    },
    "r": {
     "delete_cmd_postfix": ") ",
     "delete_cmd_prefix": "rm(",
     "library": "var_list.r",
     "varRefreshCmd": "cat(var_dic_list()) "
    }
   },
   "types_to_exclude": [
    "module",
    "function",
    "builtin_function_or_method",
    "instance",
    "_Feature"
   ],
   "window_display": false
  }
 },
 "nbformat": 4,
 "nbformat_minor": 2
}
