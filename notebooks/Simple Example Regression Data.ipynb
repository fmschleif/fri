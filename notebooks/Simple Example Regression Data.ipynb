{
 "cells": [
  {
   "cell_type": "markdown",
   "metadata": {},
   "source": [
    "## Regression data"
   ]
  },
  {
   "cell_type": "code",
   "execution_count": 1,
   "metadata": {},
   "outputs": [
    {
     "name": "stdout",
     "output_type": "stream",
     "text": [
      "Generating dataset with d=6,n=100,strongly=2,weakly=2, partition of weakly=None\n"
     ]
    }
   ],
   "source": [
    "from fri import genRegressionData\n",
    "X,y = genRegressionData(n_samples=100, n_features=6,n_strel=2, n_redundant=2,\n",
    "                    n_repeated=0)"
   ]
  },
  {
   "cell_type": "code",
   "execution_count": 2,
   "metadata": {},
   "outputs": [
    {
     "data": {
      "text/plain": [
       "(100, 6)"
      ]
     },
     "execution_count": 2,
     "metadata": {},
     "output_type": "execute_result"
    }
   ],
   "source": [
    "X.shape"
   ]
  },
  {
   "cell_type": "markdown",
   "metadata": {},
   "source": [
    "We created a regression set with 6 features of which 2 are strongly relevant and 2 weakly relevant."
   ]
  },
  {
   "cell_type": "markdown",
   "metadata": {},
   "source": [
    "Scale Data"
   ]
  },
  {
   "cell_type": "code",
   "execution_count": 3,
   "metadata": {},
   "outputs": [],
   "source": [
    "from sklearn.preprocessing import StandardScaler\n",
    "X_scaled = StandardScaler().fit_transform(X)"
   ]
  },
  {
   "cell_type": "markdown",
   "metadata": {},
   "source": [
    "New object for Regression Data"
   ]
  },
  {
   "cell_type": "code",
   "execution_count": 4,
   "metadata": {
    "collapsed": true
   },
   "outputs": [],
   "source": [
    "from fri import FRIRegression\n",
    "fri_model = FRIRegression()"
   ]
  },
  {
   "cell_type": "markdown",
   "metadata": {},
   "source": [
    "Fit to data"
   ]
  },
  {
   "cell_type": "code",
   "execution_count": 5,
   "metadata": {},
   "outputs": [],
   "source": [
    "fri_model.fit(X_scaled,y)"
   ]
  },
  {
   "cell_type": "markdown",
   "metadata": {},
   "source": [
    "Print out feature relevance intervals"
   ]
  },
  {
   "cell_type": "code",
   "execution_count": 6,
   "metadata": {},
   "outputs": [
    {
     "data": {
      "text/plain": [
       "array([[ 0.36221575,  0.36221693],\n",
       "       [ 0.21445764,  0.21445887],\n",
       "       [ 0.        ,  0.37787129],\n",
       "       [ 0.        ,  0.37787129],\n",
       "       [ 0.        ,  0.        ],\n",
       "       [ 0.        ,  0.        ]])"
      ]
     },
     "execution_count": 6,
     "metadata": {},
     "output_type": "execute_result"
    }
   ],
   "source": [
    "fri_model.interval_"
   ]
  },
  {
   "cell_type": "markdown",
   "metadata": {},
   "source": [
    "### Plot results"
   ]
  },
  {
   "cell_type": "code",
   "execution_count": 7,
   "metadata": {
    "scrolled": false
   },
   "outputs": [
    {
     "data": {
      "image/png": "[encoded data removed]",
      "text/plain": [
       "<matplotlib.figure.Figure at 0x7f5061cf0f28>"
      ]
     },
     "metadata": {},
     "output_type": "display_data"
    }
   ],
   "source": [
    "from fri.plot import plot_relevance_bars\n",
    "import matplotlib.pyplot as plt\n",
    "%matplotlib inline\n",
    "fig, ax = plt.subplots(1, 1,figsize=(12,6))\n",
    "out = plot_relevance_bars(ax,fri_model.interval_,classes=fri_model.relevance_classes_)"
   ]
  },
  {
   "cell_type": "markdown",
   "metadata": {},
   "source": [
    "### Print internal Parameters"
   ]
  },
  {
   "cell_type": "code",
   "execution_count": 8,
   "metadata": {},
   "outputs": [
    {
     "data": {
      "text/plain": [
       "array([ True,  True,  True,  True, False, False], dtype=bool)"
      ]
     },
     "execution_count": 8,
     "metadata": {},
     "output_type": "execute_result"
    }
   ],
   "source": [
    "fri_model.allrel_prediction_"
   ]
  },
  {
   "cell_type": "markdown",
   "metadata": {},
   "source": [
    "Print out hyperparameter found by GridSearchCV"
   ]
  },
  {
   "cell_type": "code",
   "execution_count": 9,
   "metadata": {},
   "outputs": [
    {
     "data": {
      "text/plain": [
       "0.1"
      ]
     },
     "execution_count": 9,
     "metadata": {},
     "output_type": "execute_result"
    }
   ],
   "source": [
    "fri_model.tuned_C_"
   ]
  },
  {
   "cell_type": "code",
   "execution_count": 10,
   "metadata": {},
   "outputs": [
    {
     "data": {
      "text/plain": [
       "0"
      ]
     },
     "execution_count": 10,
     "metadata": {},
     "output_type": "execute_result"
    }
   ],
   "source": [
    "fri_model.tuned_epsilon_"
   ]
  },
  {
   "cell_type": "markdown",
   "metadata": {},
   "source": [
    "Get weights for linear models used for each feature optimization"
   ]
  },
  {
   "cell_type": "code",
   "execution_count": 11,
   "metadata": {},
   "outputs": [
    {
     "data": {
      "text/plain": [
       "array([[[  8.31791711e+01,   4.92481997e+01,   3.81680202e+01,\n",
       "          -3.81680202e+01,  -4.91482723e-06,   7.83181477e-06],\n",
       "        [  8.31794410e+01,   4.92481222e+01,   3.81680124e+01,\n",
       "          -3.81680123e+01,   4.91493460e-06,  -7.83198210e-06]],\n",
       "\n",
       "       [[  8.31793269e+01,   4.92480199e+01,   3.81680122e+01,\n",
       "          -3.81680122e+01,   2.92967795e-06,   2.91734499e-05],\n",
       "        [  8.31792852e+01,   4.92483020e+01,   3.81680203e+01,\n",
       "          -3.81680203e+01,  -2.92966179e-06,  -2.91734588e-05]],\n",
       "\n",
       "       [[  8.31793063e+01,   4.92481610e+01,  -1.25226835e-15,\n",
       "          -7.63360326e+01,   3.84342831e-09,  -3.86594631e-08],\n",
       "        [  8.31792414e+01,   4.92481093e+01,   8.67743064e+01,\n",
       "           1.04381923e+01,  -6.40161536e-11,   4.80454752e-13]],\n",
       "\n",
       "       [[  8.31793063e+01,   4.92481610e+01,   7.63360326e+01,\n",
       "           1.25226835e-15,   3.84342707e-09,  -3.86594628e-08],\n",
       "        [  8.31792414e+01,   4.92481093e+01,  -1.04381923e+01,\n",
       "          -8.67743064e+01,  -6.40161543e-11,   4.80454744e-13]],\n",
       "\n",
       "       [[  8.31793063e+01,   4.92481611e+01,   3.81680163e+01,\n",
       "          -3.81680163e+01,   1.09938974e-15,  -6.87166847e-08],\n",
       "        [  8.31793222e+01,   4.92481791e+01,   3.81680054e+01,\n",
       "          -3.81680054e+01,  -1.30755704e-04,  -2.42281834e-05]],\n",
       "\n",
       "       [[  8.31793063e+01,   4.92481610e+01,   3.81680163e+01,\n",
       "          -3.81680163e+01,   1.07506449e-08,  -6.42629608e-16],\n",
       "        [  8.31792933e+01,   4.92481235e+01,   3.81680079e+01,\n",
       "          -3.81680078e+01,   1.83103147e-05,   1.31942241e-04]]])"
      ]
     },
     "execution_count": 11,
     "metadata": {},
     "output_type": "execute_result"
    }
   ],
   "source": [
    "fri_model._omegas"
   ]
  }
 ],
 "metadata": {
  "anaconda-cloud": {},
  "kernelspec": {
   "display_name": "Python 3",
   "language": "python",
   "name": "python3"
  },
  "language_info": {
   "codemirror_mode": {
    "name": "ipython",
    "version": 2
   },
   "file_extension": ".py",
   "mimetype": "text/x-python",
   "name": "python",
   "nbconvert_exporter": "python",
   "pygments_lexer": "ipython2",
   "version": "2.7.12"
  },
  "varInspector": {
   "cols": {
    "lenName": 16,
    "lenType": 16,
    "lenVar": 40
   },
   "kernels_config": {
    "python": {
     "delete_cmd_postfix": "",
     "delete_cmd_prefix": "del ",
     "library": "var_list.py",
     "varRefreshCmd": "print(var_dic_list())"
    },
    "r": {
     "delete_cmd_postfix": ") ",
     "delete_cmd_prefix": "rm(",
     "library": "var_list.r",
     "varRefreshCmd": "cat(var_dic_list()) "
    }
   },
   "types_to_exclude": [
    "module",
    "function",
    "builtin_function_or_method",
    "instance",
    "_Feature"
   ],
   "window_display": false
  }
 },
 "nbformat": 4,
 "nbformat_minor": 1
}
