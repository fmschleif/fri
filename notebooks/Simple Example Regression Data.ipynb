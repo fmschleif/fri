{
 "cells": [
  {
   "cell_type": "markdown",
   "metadata": {},
   "source": [
    "## Regression data"
   ]
  },
  {
   "cell_type": "code",
   "execution_count": 2,
   "metadata": {},
   "outputs": [
    {
     "name": "stdout",
     "output_type": "stream",
     "text": [
      "Generating dataset with d=6,n=100,strongly=2,weakly=2, partition of weakly=None\n"
     ]
    }
   ],
   "source": [
    "from fri import genRegressionData\n",
    "X,y = genRegressionData(n_samples=100, n_features=6,n_strel=2, n_redundant=2,\n",
    "                    n_repeated=0)"
   ]
  },
  {
   "cell_type": "code",
   "execution_count": 3,
   "metadata": {},
   "outputs": [
    {
     "data": {
      "text/plain": [
       "(100, 6)"
      ]
     },
     "execution_count": 3,
     "metadata": {},
     "output_type": "execute_result"
    }
   ],
   "source": [
    "X.shape"
   ]
  },
  {
   "cell_type": "markdown",
   "metadata": {},
   "source": [
    "We created a regression set with 6 features of which 2 are strongly relevant and 2 weakly relevant."
   ]
  },
  {
   "cell_type": "markdown",
   "metadata": {},
   "source": [
    "Scale Data"
   ]
  },
  {
   "cell_type": "code",
   "execution_count": 4,
   "metadata": {
    "collapsed": true
   },
   "outputs": [],
   "source": [
    "from sklearn.preprocessing import StandardScaler\n",
    "X_scaled = StandardScaler().fit_transform(X)"
   ]
  },
  {
   "cell_type": "markdown",
   "metadata": {},
   "source": [
    "New object for Regression Data"
   ]
  },
  {
   "cell_type": "code",
   "execution_count": 5,
   "metadata": {
    "collapsed": true
   },
   "outputs": [],
   "source": [
    "from fri import FRIRegression\n",
    "fri = FRIRegression()"
   ]
  },
  {
   "cell_type": "markdown",
   "metadata": {},
   "source": [
    "Fit to data"
   ]
  },
  {
   "cell_type": "code",
   "execution_count": 6,
   "metadata": {
    "collapsed": true
   },
   "outputs": [],
   "source": [
    "fri.fit(X_scaled,y)"
   ]
  },
  {
   "cell_type": "markdown",
   "metadata": {},
   "source": [
    "Print out feature relevance intervals"
   ]
  },
  {
   "cell_type": "code",
   "execution_count": 7,
   "metadata": {},
   "outputs": [
    {
     "data": {
      "text/plain": [
       "array([[ 0.72418872,  0.72419059],\n",
       "       [ 0.17517333,  0.17517522],\n",
       "       [ 0.        ,  0.10063671],\n",
       "       [ 0.        ,  0.10063671],\n",
       "       [ 0.        ,  0.        ],\n",
       "       [ 0.        ,  0.        ]])"
      ]
     },
     "execution_count": 7,
     "metadata": {},
     "output_type": "execute_result"
    }
   ],
   "source": [
    "fri.interval_"
   ]
  },
  {
   "cell_type": "markdown",
   "metadata": {},
   "source": [
    "### Plot results"
   ]
  },
  {
   "cell_type": "code",
   "execution_count": 8,
   "metadata": {},
   "outputs": [
    {
     "data": {
      "image/png": "[encoded data removed]",
      "text/plain": [
       "<matplotlib.figure.Figure at 0x7fdca2d32828>"
      ]
     },
     "metadata": {},
     "output_type": "display_data"
    }
   ],
   "source": [
    "from fri import plot\n",
    "%matplotlib inline\n",
    "p = plot.plotIntervals(fri.interval_)"
   ]
  },
  {
   "cell_type": "markdown",
   "metadata": {},
   "source": [
    "### Print internal Parameters"
   ]
  },
  {
   "cell_type": "code",
   "execution_count": 9,
   "metadata": {},
   "outputs": [
    {
     "data": {
      "text/plain": [
       "array([ True,  True,  True,  True, False, False], dtype=bool)"
      ]
     },
     "execution_count": 9,
     "metadata": {},
     "output_type": "execute_result"
    }
   ],
   "source": [
    "fri.allrel_prediction_"
   ]
  },
  {
   "cell_type": "markdown",
   "metadata": {},
   "source": [
    "Print out hyperparameter found by GridSearchCV"
   ]
  },
  {
   "cell_type": "code",
   "execution_count": 10,
   "metadata": {},
   "outputs": [
    {
     "data": {
      "text/plain": [
       "0.1"
      ]
     },
     "execution_count": 10,
     "metadata": {},
     "output_type": "execute_result"
    }
   ],
   "source": [
    "fri._hyper_C"
   ]
  },
  {
   "cell_type": "markdown",
   "metadata": {},
   "source": [
    "Get weights for linear models used for each feature optimization"
   ]
  },
  {
   "cell_type": "code",
   "execution_count": 11,
   "metadata": {},
   "outputs": [
    {
     "data": {
      "text/plain": [
       "array([[[  8.95206137e+01,   2.16541869e+01,  -6.22005531e+00,\n",
       "           6.22005531e+00,  -2.39087664e-06,  -1.55072849e-05],\n",
       "        [  8.95208447e+01,   2.16541188e+01,  -6.22003515e+00,\n",
       "           6.22003515e+00,   9.39248007e-12,  -1.45705194e-12]],\n",
       "\n",
       "       [[  8.95207435e+01,   2.16540576e+01,  -6.22005123e+00,\n",
       "           6.22005123e+00,  -9.89362825e-06,  -4.65483488e-06],\n",
       "        [  8.95206794e+01,   2.16542908e+01,  -6.22003177e+00,\n",
       "           6.22003178e+00,  -1.83332140e-12,  -8.20600346e-13]],\n",
       "\n",
       "       [[  8.95207394e+01,   2.16541815e+01,   3.34903115e-14,\n",
       "           1.24401021e+01,   1.21996696e-07,   5.86326919e-07],\n",
       "        [  8.95206603e+01,   2.16541230e+01,  -1.24402104e+01,\n",
       "          -4.00781223e-05,  -8.19373868e-12,  -4.55788367e-14]],\n",
       "\n",
       "       [[  8.95207394e+01,   2.16541815e+01,  -1.24401021e+01,\n",
       "          -3.34903104e-14,   1.21996696e-07,   5.86326919e-07],\n",
       "        [  8.95206603e+01,   2.16541230e+01,   4.00781222e-05,\n",
       "           1.24402104e+01,  -8.19373633e-12,  -4.55787220e-14]],\n",
       "\n",
       "       [[  8.95207396e+01,   2.16541817e+01,  -6.22005111e+00,\n",
       "           6.22005111e+00,   7.02697815e-15,   6.02784338e-07],\n",
       "        [  8.95207108e+01,   2.16541496e+01,  -6.22003134e+00,\n",
       "           6.22003133e+00,   1.10683325e-04,  -1.85760007e-12]],\n",
       "\n",
       "       [[  8.95207396e+01,   2.16541817e+01,  -6.22005118e+00,\n",
       "           6.22005118e+00,   1.52389662e-07,  -3.52282762e-14],\n",
       "        [  8.95207009e+01,   2.16541513e+01,  -6.22003090e+00,\n",
       "           6.22003091e+00,   3.79243967e-13,   1.19823886e-04]]])"
      ]
     },
     "execution_count": 11,
     "metadata": {},
     "output_type": "execute_result"
    }
   ],
   "source": [
    "fri._omegas"
   ]
  }
 ],
 "metadata": {
  "anaconda-cloud": {},
  "kernelspec": {
   "display_name": "Python 3",
   "language": "python",
   "name": "python3"
  },
  "language_info": {
   "codemirror_mode": {
    "name": "ipython",
    "version": 3
   },
   "file_extension": ".py",
   "mimetype": "text/x-python",
   "name": "python",
   "nbconvert_exporter": "python",
   "pygments_lexer": "ipython3",
   "version": "3.6.3"
  },
  "varInspector": {
   "cols": {
    "lenName": 16,
    "lenType": 16,
    "lenVar": 40
   },
   "kernels_config": {
    "python": {
     "delete_cmd_postfix": "",
     "delete_cmd_prefix": "del ",
     "library": "var_list.py",
     "varRefreshCmd": "print(var_dic_list())"
    },
    "r": {
     "delete_cmd_postfix": ") ",
     "delete_cmd_prefix": "rm(",
     "library": "var_list.r",
     "varRefreshCmd": "cat(var_dic_list()) "
    }
   },
   "types_to_exclude": [
    "module",
    "function",
    "builtin_function_or_method",
    "instance",
    "_Feature"
   ],
   "window_display": false
  }
 },
 "nbformat": 4,
 "nbformat_minor": 1
}
