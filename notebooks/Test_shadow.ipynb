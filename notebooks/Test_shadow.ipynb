{
 "cells": [
  {
   "cell_type": "markdown",
   "metadata": {},
   "source": [
    "## Classification data"
   ]
  },
  {
   "cell_type": "code",
   "execution_count": 20,
   "metadata": {},
   "outputs": [
    {
     "name": "stdout",
     "output_type": "stream",
     "text": [
      "Generating dataset with d=20,n=200,strongly=2,weakly=2, partition of weakly=None\n"
     ]
    }
   ],
   "source": [
    "from fri import genClassificationData\n",
    "X,y = genClassificationData(n_samples=200, n_features=20,n_strel=2, n_redundant=2,\n",
    "                    n_repeated=0, flip_y=0)"
   ]
  },
  {
   "cell_type": "code",
   "execution_count": 21,
   "metadata": {},
   "outputs": [
    {
     "data": {
      "text/plain": [
       "(200, 20)"
      ]
     },
     "execution_count": 21,
     "metadata": {},
     "output_type": "execute_result"
    }
   ],
   "source": [
    "X.shape"
   ]
  },
  {
   "cell_type": "markdown",
   "metadata": {},
   "source": [
    "We created a binary classification set with 6 features of which 2 are strongly relevant and 2 weakly relevant."
   ]
  },
  {
   "cell_type": "markdown",
   "metadata": {},
   "source": [
    "Scale Data"
   ]
  },
  {
   "cell_type": "code",
   "execution_count": 22,
   "metadata": {
    "collapsed": true
   },
   "outputs": [],
   "source": [
    "from sklearn.preprocessing import StandardScaler\n",
    "X_scaled = StandardScaler().fit_transform(X)"
   ]
  },
  {
   "cell_type": "markdown",
   "metadata": {},
   "source": [
    "New object for Classification Data"
   ]
  },
  {
   "cell_type": "code",
   "execution_count": 28,
   "metadata": {
    "collapsed": true
   },
   "outputs": [],
   "source": [
    "from fri import FRIClassification\n",
    "fri = FRIClassification(shadow_features=True,optimum_deviation=0.1)"
   ]
  },
  {
   "cell_type": "markdown",
   "metadata": {},
   "source": [
    "Fit to data"
   ]
  },
  {
   "cell_type": "code",
   "execution_count": 29,
   "metadata": {
    "collapsed": true
   },
   "outputs": [],
   "source": [
    "fri.fit(X_scaled,y)"
   ]
  },
  {
   "cell_type": "markdown",
   "metadata": {},
   "source": [
    "Print out feature relevance intervals"
   ]
  },
  {
   "cell_type": "code",
   "execution_count": 30,
   "metadata": {},
   "outputs": [
    {
     "data": {
      "text/plain": [
       "array([[  1.90460882e-01,   2.92408426e-01],\n",
       "       [  2.02711223e-01,   2.77903590e-01],\n",
       "       [  0.00000000e+00,   2.78612029e-01],\n",
       "       [  0.00000000e+00,   2.63965478e-01],\n",
       "       [  0.00000000e+00,   2.61634373e-03],\n",
       "       [  0.00000000e+00,   1.46252284e-02],\n",
       "       [  0.00000000e+00,   2.09976693e-03],\n",
       "       [  0.00000000e+00,   3.11639531e-03],\n",
       "       [  0.00000000e+00,   0.00000000e+00],\n",
       "       [  0.00000000e+00,   2.40000220e-03],\n",
       "       [  0.00000000e+00,   2.64827822e-04],\n",
       "       [  0.00000000e+00,   0.00000000e+00],\n",
       "       [  0.00000000e+00,   0.00000000e+00],\n",
       "       [  0.00000000e+00,   0.00000000e+00],\n",
       "       [  0.00000000e+00,   2.97727202e-04],\n",
       "       [  0.00000000e+00,   0.00000000e+00],\n",
       "       [  0.00000000e+00,   4.10227857e-03],\n",
       "       [  0.00000000e+00,   0.00000000e+00],\n",
       "       [  0.00000000e+00,   2.11210691e-02],\n",
       "       [  0.00000000e+00,   4.70158858e-03]])"
      ]
     },
     "execution_count": 30,
     "metadata": {},
     "output_type": "execute_result"
    }
   ],
   "source": [
    "fri.interval_"
   ]
  },
  {
   "cell_type": "markdown",
   "metadata": {},
   "source": [
    "### Plot results"
   ]
  },
  {
   "cell_type": "code",
   "execution_count": 31,
   "metadata": {},
   "outputs": [
    {
     "data": {
      "image/png": "[encoded data removed]",
      "text/plain": [
       "<matplotlib.figure.Figure at 0x7f4df38f8a20>"
      ]
     },
     "metadata": {},
     "output_type": "display_data"
    }
   ],
   "source": [
    "from fri import plot\n",
    "%matplotlib inline\n",
    "p = plot.plotIntervals(fri.interval_)"
   ]
  },
  {
   "cell_type": "code",
   "execution_count": 32,
   "metadata": {},
   "outputs": [
    {
     "data": {
      "text/plain": [
       "array([[  5.91962347e-12,   3.65322880e-01],\n",
       "       [  2.12171339e-11,   4.13295209e-01],\n",
       "       [  1.64359425e-12,   2.89556532e-01],\n",
       "       [  1.44502472e-11,   4.08980649e-01],\n",
       "       [  9.81705384e-12,   3.24700764e-01],\n",
       "       [  3.87387522e-11,   3.11849982e-01],\n",
       "       [  6.61203719e-12,   3.39832783e-01],\n",
       "       [  1.02462330e-11,   3.04790021e-01],\n",
       "       [  6.83206399e-12,   3.51312901e-01],\n",
       "       [  7.71244563e-12,   2.77158445e-01],\n",
       "       [  7.80379606e-12,   3.01309000e-01],\n",
       "       [  6.95109300e-11,   4.26709443e-01],\n",
       "       [  2.17964757e-12,   2.89698325e-01],\n",
       "       [  1.93325903e-11,   3.40375546e-01],\n",
       "       [  8.09846960e-12,   2.70381202e-01],\n",
       "       [  2.67376445e-11,   4.23841924e-01],\n",
       "       [  1.50643465e-12,   2.80472184e-01],\n",
       "       [  7.88503327e-13,   3.74408736e-01],\n",
       "       [  2.85417558e-11,   3.17319482e-01],\n",
       "       [  1.14899118e-12,   2.39972350e-01]])"
      ]
     },
     "execution_count": 32,
     "metadata": {},
     "output_type": "execute_result"
    }
   ],
   "source": [
    "fri._shadowintervals"
   ]
  },
  {
   "cell_type": "markdown",
   "metadata": {},
   "source": [
    "### Print internal Parameters"
   ]
  },
  {
   "cell_type": "code",
   "execution_count": 33,
   "metadata": {},
   "outputs": [
    {
     "data": {
      "text/plain": [
       "array([ True,  True,  True,  True, False, False, False, False, False,\n",
       "       False, False, False, False, False, False, False, False, False,\n",
       "       False, False], dtype=bool)"
      ]
     },
     "execution_count": 33,
     "metadata": {},
     "output_type": "execute_result"
    }
   ],
   "source": [
    "fri.allrel_prediction_"
   ]
  },
  {
   "cell_type": "code",
   "execution_count": null,
   "metadata": {},
   "outputs": [],
   "source": []
  }
 ],
 "metadata": {
  "anaconda-cloud": {},
  "kernelspec": {
   "display_name": "Python 3",
   "language": "python",
   "name": "python3"
  },
  "language_info": {
   "codemirror_mode": {
    "name": "ipython",
    "version": 3
   },
   "file_extension": ".py",
   "mimetype": "text/x-python",
   "name": "python",
   "nbconvert_exporter": "python",
   "pygments_lexer": "ipython3",
   "version": "3.6.3"
  },
  "varInspector": {
   "cols": {
    "lenName": 16,
    "lenType": 16,
    "lenVar": 40
   },
   "kernels_config": {
    "python": {
     "delete_cmd_postfix": "",
     "delete_cmd_prefix": "del ",
     "library": "var_list.py",
     "varRefreshCmd": "print(var_dic_list())"
    },
    "r": {
     "delete_cmd_postfix": ") ",
     "delete_cmd_prefix": "rm(",
     "library": "var_list.r",
     "varRefreshCmd": "cat(var_dic_list()) "
    }
   },
   "types_to_exclude": [
    "module",
    "function",
    "builtin_function_or_method",
    "instance",
    "_Feature"
   ],
   "window_display": false
  }
 },
 "nbformat": 4,
 "nbformat_minor": 2
}
