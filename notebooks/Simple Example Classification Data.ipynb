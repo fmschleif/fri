{
 "cells": [
  {
   "cell_type": "markdown",
   "metadata": {},
   "source": [
    "## Classification data"
   ]
  },
  {
   "cell_type": "code",
   "execution_count": 1,
   "metadata": {},
   "outputs": [
    {
     "name": "stdout",
     "output_type": "stream",
     "text": [
      "Generating dataset with d=6,n=100,strongly=2,weakly=2, partition of weakly=None\n"
     ]
    }
   ],
   "source": [
    "from fri import genClassificationData\n",
    "X,y = genClassificationData(n_samples=100, n_features=6,n_strel=2, n_redundant=2,\n",
    "                    n_repeated=0, flip_y=0)"
   ]
  },
  {
   "cell_type": "code",
   "execution_count": 2,
   "metadata": {},
   "outputs": [
    {
     "data": {
      "text/plain": [
       "(100, 6)"
      ]
     },
     "execution_count": 2,
     "metadata": {},
     "output_type": "execute_result"
    }
   ],
   "source": [
    "X.shape"
   ]
  },
  {
   "cell_type": "markdown",
   "metadata": {},
   "source": [
    "We created a binary classification set with 6 features of which 2 are strongly relevant and 2 weakly relevant."
   ]
  },
  {
   "cell_type": "markdown",
   "metadata": {},
   "source": [
    "Scale Data"
   ]
  },
  {
   "cell_type": "code",
   "execution_count": 3,
   "metadata": {
    "collapsed": true
   },
   "outputs": [],
   "source": [
    "from sklearn.preprocessing import StandardScaler\n",
    "X_scaled = StandardScaler().fit_transform(X)"
   ]
  },
  {
   "cell_type": "markdown",
   "metadata": {},
   "source": [
    "New object for Classification Data"
   ]
  },
  {
   "cell_type": "code",
   "execution_count": 4,
   "metadata": {
    "collapsed": true
   },
   "outputs": [],
   "source": [
    "from fri import FRIClassification\n",
    "fri_model = FRIClassification()"
   ]
  },
  {
   "cell_type": "markdown",
   "metadata": {},
   "source": [
    "Fit to data"
   ]
  },
  {
   "cell_type": "code",
   "execution_count": 5,
   "metadata": {
    "collapsed": true
   },
   "outputs": [],
   "source": [
    "fri_model.fit(X_scaled,y)"
   ]
  },
  {
   "cell_type": "markdown",
   "metadata": {},
   "source": [
    "Print out feature relevance intervals"
   ]
  },
  {
   "cell_type": "code",
   "execution_count": 6,
   "metadata": {},
   "outputs": [
    {
     "data": {
      "text/plain": [
       "array([[ 0.13691282,  0.16686943],\n",
       "       [ 0.27545228,  0.33385434],\n",
       "       [ 0.        ,  0.52257734],\n",
       "       [ 0.        ,  0.52257734],\n",
       "       [ 0.        ,  0.02409411],\n",
       "       [ 0.00373969,  0.05495223]])"
      ]
     },
     "execution_count": 6,
     "metadata": {},
     "output_type": "execute_result"
    }
   ],
   "source": [
    "fri_model.interval_"
   ]
  },
  {
   "cell_type": "markdown",
   "metadata": {},
   "source": [
    "### Plot results"
   ]
  },
  {
   "cell_type": "code",
   "execution_count": 7,
   "metadata": {},
   "outputs": [
    {
     "data": {
      "image/png": "[encoded data removed]",
      "text/plain": [
       "<matplotlib.figure.Figure at 0x7f25a54430f0>"
      ]
     },
     "metadata": {},
     "output_type": "display_data"
    }
   ],
   "source": [
    "from fri.plot import plot_relevance_bars\n",
    "import matplotlib.pyplot as plt\n",
    "%matplotlib inline\n",
    "fig, ax = plt.subplots(1, 1,figsize=(12,6))\n",
    "out = plot_relevance_bars(ax,fri_model.interval_,classes=fri_model.relevance_classes_)"
   ]
  },
  {
   "cell_type": "markdown",
   "metadata": {},
   "source": [
    "### Print internal Parameters"
   ]
  },
  {
   "cell_type": "code",
   "execution_count": 8,
   "metadata": {},
   "outputs": [
    {
     "data": {
      "text/plain": [
       "array([ True,  True,  True,  True, False,  True], dtype=bool)"
      ]
     },
     "execution_count": 8,
     "metadata": {},
     "output_type": "execute_result"
    }
   ],
   "source": [
    "fri_model.allrel_prediction_"
   ]
  },
  {
   "cell_type": "markdown",
   "metadata": {},
   "source": [
    "Print out hyperparameter found by GridSearchCV"
   ]
  },
  {
   "cell_type": "code",
   "execution_count": 9,
   "metadata": {},
   "outputs": [
    {
     "data": {
      "text/plain": [
       "10"
      ]
     },
     "execution_count": 9,
     "metadata": {},
     "output_type": "execute_result"
    }
   ],
   "source": [
    "fri_model.tuned_C_"
   ]
  },
  {
   "cell_type": "markdown",
   "metadata": {},
   "source": [
    "Get weights for linear models used for each feature optimization"
   ]
  },
  {
   "cell_type": "code",
   "execution_count": 10,
   "metadata": {},
   "outputs": [
    {
     "data": {
      "text/plain": [
       "array([[[ -1.22561810e+00,   2.47121016e+00,   2.02416445e+00,\n",
       "           2.02416445e+00,   1.16334198e-01,  -3.16014803e-01],\n",
       "        [ -1.49378409e+00,   2.70959685e+00,   2.12339534e+00,\n",
       "           2.12339533e+00,   1.58539496e-01,  -3.43102968e-01]],\n",
       "\n",
       "       [[ -1.22879435e+00,   2.46579763e+00,   2.01725113e+00,\n",
       "           2.01725113e+00,   1.16525888e-01,  -3.19442161e-01],\n",
       "        [ -1.28089293e+00,   2.98860197e+00,   2.29362017e+00,\n",
       "           2.29362017e+00,  -6.16018583e-02,  -3.34769763e-02]],\n",
       "\n",
       "       [[ -1.24653851e+00,   2.52964009e+00,   3.71845830e-12,\n",
       "           4.09304594e+00,   8.45160160e-02,  -2.86653586e-01],\n",
       "        [ -1.28201466e+00,   2.69268177e+00,   4.67801516e+00,\n",
       "          -5.86669127e-10,  -1.10700271e-09,  -2.99102477e-01]],\n",
       "\n",
       "       [[ -1.24653851e+00,   2.52964009e+00,   4.09304594e+00,\n",
       "           3.71845830e-12,   8.45160160e-02,  -2.86653586e-01],\n",
       "        [ -1.28201466e+00,   2.69268177e+00,  -5.86669126e-10,\n",
       "           4.67801516e+00,  -1.10700271e-09,  -2.99102477e-01]],\n",
       "\n",
       "       [[ -1.25631194e+00,   2.61160731e+00,   2.10609412e+00,\n",
       "           2.10609412e+00,  -3.15926865e-12,  -2.23897743e-01],\n",
       "        [ -1.44403078e+00,   2.61993233e+00,   2.14359665e+00,\n",
       "           2.14359665e+00,   2.15686036e-01,  -3.84971633e-01]],\n",
       "\n",
       "       [[ -1.28089293e+00,   2.98860197e+00,   2.29362017e+00,\n",
       "           2.29362017e+00,  -6.16018585e-02,  -3.34769760e-02],\n",
       "        [ -1.36033949e+00,   2.63417511e+00,   2.13230271e+00,\n",
       "           2.13230271e+00,   2.00771879e-01,  -4.91922170e-01]]])"
      ]
     },
     "execution_count": 10,
     "metadata": {},
     "output_type": "execute_result"
    }
   ],
   "source": [
    "fri_model._omegas"
   ]
  },
  {
   "cell_type": "code",
   "execution_count": null,
   "metadata": {
    "collapsed": true
   },
   "outputs": [],
   "source": []
  }
 ],
 "metadata": {
  "anaconda-cloud": {},
  "kernelspec": {
   "display_name": "Python 3",
   "language": "python",
   "name": "python3"
  },
  "language_info": {
   "codemirror_mode": {
    "name": "ipython",
    "version": 3
   },
   "file_extension": ".py",
   "mimetype": "text/x-python",
   "name": "python",
   "nbconvert_exporter": "python",
   "pygments_lexer": "ipython3",
   "version": "3.6.3"
  },
  "varInspector": {
   "cols": {
    "lenName": 16,
    "lenType": 16,
    "lenVar": 40
   },
   "kernels_config": {
    "python": {
     "delete_cmd_postfix": "",
     "delete_cmd_prefix": "del ",
     "library": "var_list.py",
     "varRefreshCmd": "print(var_dic_list())"
    },
    "r": {
     "delete_cmd_postfix": ") ",
     "delete_cmd_prefix": "rm(",
     "library": "var_list.r",
     "varRefreshCmd": "cat(var_dic_list()) "
    }
   },
   "types_to_exclude": [
    "module",
    "function",
    "builtin_function_or_method",
    "instance",
    "_Feature"
   ],
   "window_display": false
  }
 },
 "nbformat": 4,
 "nbformat_minor": 1
}
