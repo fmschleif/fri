{
 "cells": [
  {
   "cell_type": "markdown",
   "metadata": {},
   "source": [
    "## Classification data"
   ]
  },
  {
   "cell_type": "code",
   "execution_count": 2,
   "metadata": {},
   "outputs": [
    {
     "ename": "ImportError",
     "evalue": "No module named fri",
     "output_type": "error",
     "traceback": [
      "\u001b[0;31m---------------------------------------------------------------------------\u001b[0m",
      "\u001b[0;31mImportError\u001b[0m                               Traceback (most recent call last)",
      "\u001b[0;32m<ipython-input-2-f85ae74694da>\u001b[0m in \u001b[0;36m<module>\u001b[0;34m()\u001b[0m\n\u001b[0;32m----> 1\u001b[0;31m \u001b[0;32mfrom\u001b[0m \u001b[0mfri\u001b[0m \u001b[0;32mimport\u001b[0m \u001b[0mgenClassificationData\u001b[0m\u001b[0;34m\u001b[0m\u001b[0m\n\u001b[0m\u001b[1;32m      2\u001b[0m X,y = genClassificationData(n_samples=100, n_features=6,n_strel=2, n_redundant=2,\n\u001b[1;32m      3\u001b[0m                     n_repeated=0, flip_y=0)\n",
      "\u001b[0;31mImportError\u001b[0m: No module named fri"
     ]
    }
   ],
   "source": [
    "from fri import genClassificationData\n",
    "X,y = genClassificationData(n_samples=100, n_features=6,n_strel=2, n_redundant=2,\n",
    "                    n_repeated=0, flip_y=0)"
   ]
  },
  {
   "cell_type": "code",
   "execution_count": 3,
   "metadata": {},
   "outputs": [
    {
     "data": {
      "text/plain": [
       "(100, 6)"
      ]
     },
     "execution_count": 3,
     "metadata": {},
     "output_type": "execute_result"
    }
   ],
   "source": [
    "X.shape"
   ]
  },
  {
   "cell_type": "markdown",
   "metadata": {},
   "source": [
    "We created a binary classification set with 6 features of which 2 are strongly relevant and 2 weakly relevant."
   ]
  },
  {
   "cell_type": "markdown",
   "metadata": {},
   "source": [
    "Scale Data"
   ]
  },
  {
   "cell_type": "code",
   "execution_count": 4,
   "metadata": {
    "collapsed": true
   },
   "outputs": [],
   "source": [
    "from sklearn.preprocessing import StandardScaler\n",
    "X_scaled = StandardScaler().fit_transform(X)"
   ]
  },
  {
   "cell_type": "markdown",
   "metadata": {},
   "source": [
    "New object for Classification Data"
   ]
  },
  {
   "cell_type": "code",
   "execution_count": 5,
   "metadata": {
    "collapsed": true
   },
   "outputs": [],
   "source": [
    "from fri import FRIClassification\n",
    "fri = FRIClassification()"
   ]
  },
  {
   "cell_type": "markdown",
   "metadata": {},
   "source": [
    "Fit to data"
   ]
  },
  {
   "cell_type": "code",
   "execution_count": 6,
   "metadata": {
    "collapsed": true
   },
   "outputs": [],
   "source": [
    "fri.fit(X_scaled,y)"
   ]
  },
  {
   "cell_type": "markdown",
   "metadata": {},
   "source": [
    "Print out feature relevance intervals"
   ]
  },
  {
   "cell_type": "code",
   "execution_count": 7,
   "metadata": {},
   "outputs": [
    {
     "data": {
      "text/plain": [
       "array([[ 0.35378405,  0.35378489],\n",
       "       [ 0.30535288,  0.30535342],\n",
       "       [ 0.        ,  0.34086365],\n",
       "       [ 0.        ,  0.34086365],\n",
       "       [ 0.        ,  0.        ],\n",
       "       [ 0.        ,  0.        ]])"
      ]
     },
     "execution_count": 7,
     "metadata": {},
     "output_type": "execute_result"
    }
   ],
   "source": [
    "fri.interval_"
   ]
  },
  {
   "cell_type": "markdown",
   "metadata": {},
   "source": [
    "### Plot results"
   ]
  },
  {
   "cell_type": "code",
   "execution_count": 9,
   "metadata": {},
   "outputs": [
    {
     "data": {
      "image/png": "[encoded data removed]",
      "text/plain": [
       "<matplotlib.figure.Figure at 0x7fea860ed128>"
      ]
     },
     "metadata": {},
     "output_type": "display_data"
    }
   ],
   "source": [
    "from fri import plot\n",
    "%matplotlib inline\n",
    "p = plot.plotIntervals(fri.interval_)"
   ]
  },
  {
   "cell_type": "markdown",
   "metadata": {},
   "source": [
    "### Print internal Parameters"
   ]
  },
  {
   "cell_type": "code",
   "execution_count": 10,
   "metadata": {},
   "outputs": [
    {
     "data": {
      "text/plain": [
       "array([ True,  True,  True,  True, False, False], dtype=bool)"
      ]
     },
     "execution_count": 10,
     "metadata": {},
     "output_type": "execute_result"
    }
   ],
   "source": [
    "fri.allrel_prediction_"
   ]
  },
  {
   "cell_type": "markdown",
   "metadata": {},
   "source": [
    "Print out hyperparameter found by GridSearchCV"
   ]
  },
  {
   "cell_type": "code",
   "execution_count": 11,
   "metadata": {},
   "outputs": [
    {
     "data": {
      "text/plain": [
       "0.1"
      ]
     },
     "execution_count": 11,
     "metadata": {},
     "output_type": "execute_result"
    }
   ],
   "source": [
    "fri._hyper_C"
   ]
  },
  {
   "cell_type": "markdown",
   "metadata": {},
   "source": [
    "Get weights for linear models used for each feature optimization"
   ]
  },
  {
   "cell_type": "code",
   "execution_count": 12,
   "metadata": {},
   "outputs": [
    {
     "data": {
      "text/plain": [
       "array([[[ -3.83367159e-01,  -3.30886809e-01,   1.84682596e-01,\n",
       "           1.84682549e-01,  -1.79506016e-11,  -1.94694567e-11],\n",
       "        [ -3.83368077e-01,  -3.30885252e-01,   1.84682924e-01,\n",
       "           1.84682867e-01,  -2.00980953e-09,  -2.83914479e-09]],\n",
       "\n",
       "       [[ -3.83367582e-01,  -3.30886203e-01,   1.84682693e-01,\n",
       "           1.84682635e-01,  -3.15872773e-10,  -2.79565789e-10],\n",
       "        [ -3.83367203e-01,  -3.30886805e-01,   1.84682567e-01,\n",
       "           1.84682537e-01,  -1.73410032e-12,  -3.61562085e-13]],\n",
       "\n",
       "       [[ -3.83367203e-01,  -3.30886800e-01,   2.20214657e-13,\n",
       "           3.69365109e-01,  -3.49087014e-14,  -4.90029481e-14],\n",
       "        [ -3.83369572e-01,  -3.30883150e-01,   3.69366378e-01,\n",
       "           1.12603947e-08,  -9.46340197e-11,   6.25828884e-10]],\n",
       "\n",
       "       [[ -3.83367203e-01,  -3.30886800e-01,   3.69365109e-01,\n",
       "           2.20206122e-13,  -3.49031877e-14,  -4.90019109e-14],\n",
       "        [ -3.83369572e-01,  -3.30883150e-01,   1.12603948e-08,\n",
       "           3.69366378e-01,  -9.46340095e-11,   6.25828887e-10]],\n",
       "\n",
       "       [[ -3.83367203e-01,  -3.30886800e-01,   1.84682549e-01,\n",
       "           1.84682560e-01,  -2.60115432e-14,  -5.22340889e-14],\n",
       "        [ -3.83367203e-01,  -3.30886800e-01,   1.84682557e-01,\n",
       "           1.84682552e-01,  -4.38489937e-12,   3.45956029e-14]],\n",
       "\n",
       "       [[ -3.83367203e-01,  -3.30886800e-01,   1.84682556e-01,\n",
       "           1.84682553e-01,  -3.36377829e-14,  -2.16986209e-14],\n",
       "        [ -3.83367203e-01,  -3.30886800e-01,   1.84682558e-01,\n",
       "           1.84682551e-01,  -6.23593187e-14,  -8.88774062e-13]]])"
      ]
     },
     "execution_count": 12,
     "metadata": {},
     "output_type": "execute_result"
    }
   ],
   "source": [
    "fri._omegas"
   ]
  }
 ],
 "metadata": {
  "anaconda-cloud": {},
  "kernelspec": {
   "display_name": "Python 3",
   "language": "python",
   "name": "python3"
  },
  "language_info": {
   "codemirror_mode": {
    "name": "ipython",
    "version": 2
   },
   "file_extension": ".py",
   "mimetype": "text/x-python",
   "name": "python",
   "nbconvert_exporter": "python",
   "pygments_lexer": "ipython2",
   "version": "2.7.12"
  },
  "varInspector": {
   "cols": {
    "lenName": 16,
    "lenType": 16,
    "lenVar": 40
   },
   "kernels_config": {
    "python": {
     "delete_cmd_postfix": "",
     "delete_cmd_prefix": "del ",
     "library": "var_list.py",
     "varRefreshCmd": "print(var_dic_list())"
    },
    "r": {
     "delete_cmd_postfix": ") ",
     "delete_cmd_prefix": "rm(",
     "library": "var_list.r",
     "varRefreshCmd": "cat(var_dic_list()) "
    }
   },
   "types_to_exclude": [
    "module",
    "function",
    "builtin_function_or_method",
    "instance",
    "_Feature"
   ],
   "window_display": false
  }
 },
 "nbformat": 4,
 "nbformat_minor": 1
}
