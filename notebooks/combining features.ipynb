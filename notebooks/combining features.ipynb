{
 "cells": [
  {
   "cell_type": "code",
   "execution_count": 1,
   "metadata": {
    "ExecuteTime": {
     "end_time": "2018-04-11T08:55:16.217662Z",
     "start_time": "2018-04-11T08:55:15.544484Z"
    },
    "collapsed": true
   },
   "outputs": [],
   "source": [
    "import sys\n",
    "sys.path.append(\"../dev_scripts/\")\n",
    "import exp_tools\n",
    "import sklearn\n",
    "from sklearn.preprocessing import StandardScaler\n",
    "import numpy as np\n",
    "from fri import bounds,plot_dendrogram_and_intervals\n",
    "from fri import *\n",
    "from sklearn.metrics import precision_score\n",
    "import matplotlib.pyplot as plt\n",
    "import pandas as pd\n",
    "\n",
    "%matplotlib inline"
   ]
  },
  {
   "cell_type": "code",
   "execution_count": 2,
   "metadata": {
    "ExecuteTime": {
     "end_time": "2018-04-11T08:55:17.867070Z",
     "start_time": "2018-04-11T08:55:17.861047Z"
    },
    "collapsed": true
   },
   "outputs": [],
   "source": [
    "n = 1000"
   ]
  },
  {
   "cell_type": "code",
   "execution_count": 3,
   "metadata": {
    "ExecuteTime": {
     "end_time": "2018-04-11T08:55:18.374871Z",
     "start_time": "2018-04-11T08:55:18.372779Z"
    },
    "collapsed": true
   },
   "outputs": [],
   "source": [
    "rs = np.random.RandomState(125)"
   ]
  },
  {
   "cell_type": "code",
   "execution_count": 4,
   "metadata": {
    "ExecuteTime": {
     "end_time": "2018-04-11T08:55:18.858141Z",
     "start_time": "2018-04-11T08:55:18.853769Z"
    }
   },
   "outputs": [
    {
     "name": "stdout",
     "output_type": "stream",
     "text": [
      "Generating dataset with d=5,n=1000,strongly=0,weakly=2, partition of weakly=None\n"
     ]
    }
   ],
   "source": [
    "X,y = exp_tools.gen_quadrant_problem_2weak(n=n,random_state=rs)"
   ]
  },
  {
   "cell_type": "code",
   "execution_count": 52,
   "metadata": {
    "ExecuteTime": {
     "end_time": "2018-04-11T09:19:48.630379Z",
     "start_time": "2018-04-11T09:19:47.982792Z"
    }
   },
   "outputs": [
    {
     "name": "stdout",
     "output_type": "stream",
     "text": [
      "loss 584.142439811\n",
      "L1 0.984122367109\n",
      "offset 0.04952781382861671\n",
      "C 0.0025\n",
      "score 0.852752329287\n",
      "coef:\n",
      "[[  3.85694212e-01]\n",
      " [  3.86644422e-01]\n",
      " [  4.17099685e-02]\n",
      " [ -4.17099779e-02]\n",
      " [ -1.38997317e-15]\n",
      " [  1.82524235e-15]\n",
      " [ -9.92735913e-16]]\n"
     ]
    }
   ],
   "source": [
    "f = FRIClassification(debug=True,optimum_deviation=0.15,C=0.0025)\n",
    "f.fit(X,y)"
   ]
  },
  {
   "cell_type": "code",
   "execution_count": 53,
   "metadata": {
    "ExecuteTime": {
     "end_time": "2018-04-11T09:19:49.474885Z",
     "start_time": "2018-04-11T09:19:49.471846Z"
    }
   },
   "outputs": [
    {
     "data": {
      "text/plain": [
       "array([[  5.69894745e-09,   8.60030306e-01],\n",
       "       [  1.11635879e-09,   8.48022574e-01],\n",
       "       [  7.15380255e-13,   7.58993577e-01],\n",
       "       [  7.15380255e-13,   7.58993577e-01],\n",
       "       [  1.78904034e-10,   1.45297764e-01],\n",
       "       [  3.47965428e-11,   1.37264371e-01],\n",
       "       [  3.45887461e-12,   1.23939247e-01]])"
      ]
     },
     "execution_count": 53,
     "metadata": {},
     "output_type": "execute_result"
    }
   ],
   "source": [
    "f.interval_"
   ]
  },
  {
   "cell_type": "code",
   "execution_count": 54,
   "metadata": {
    "ExecuteTime": {
     "end_time": "2018-04-11T09:19:50.453107Z",
     "start_time": "2018-04-11T09:19:50.344243Z"
    }
   },
   "outputs": [
    {
     "data": {
      "image/png": "[encoded data removed]",
      "text/plain": [
       "<matplotlib.figure.Figure at 0x7f02ff3bce48>"
      ]
     },
     "metadata": {},
     "output_type": "display_data"
    }
   ],
   "source": [
    "p = plotIntervals(f.interval_)"
   ]
  },
  {
   "cell_type": "code",
   "execution_count": 55,
   "metadata": {
    "ExecuteTime": {
     "end_time": "2018-04-11T09:19:57.557739Z",
     "start_time": "2018-04-11T09:19:51.605806Z"
    }
   },
   "outputs": [],
   "source": [
    "clust, link, feat_points,dist_mat = f.community_detection2(X,y)\n"
   ]
  },
  {
   "cell_type": "code",
   "execution_count": 56,
   "metadata": {
    "ExecuteTime": {
     "end_time": "2018-04-11T09:19:58.375262Z",
     "start_time": "2018-04-11T09:19:58.372552Z"
    },
    "collapsed": true
   },
   "outputs": [],
   "source": [
    "import scipy\n",
    "dist_mat = scipy.spatial.distance.squareform(dist_mat)"
   ]
  },
  {
   "cell_type": "code",
   "execution_count": 57,
   "metadata": {
    "ExecuteTime": {
     "end_time": "2018-04-11T09:19:59.386725Z",
     "start_time": "2018-04-11T09:19:59.225140Z"
    }
   },
   "outputs": [
    {
     "data": {
      "image/png": "[encoded data removed]",
      "text/plain": [
       "<matplotlib.figure.Figure at 0x7f02fff61cf8>"
      ]
     },
     "metadata": {},
     "output_type": "display_data"
    }
   ],
   "source": [
    "p = plot_dendrogram_and_intervals(f.interval_,link)"
   ]
  },
  {
   "cell_type": "code",
   "execution_count": 12,
   "metadata": {
    "ExecuteTime": {
     "end_time": "2018-04-11T08:55:38.939402Z",
     "start_time": "2018-04-11T08:55:38.923194Z"
    }
   },
   "outputs": [
    {
     "data": {
      "text/html": [
       "<div>\n",
       "<style>\n",
       "    .dataframe thead tr:only-child th {\n",
       "        text-align: right;\n",
       "    }\n",
       "\n",
       "    .dataframe thead th {\n",
       "        text-align: left;\n",
       "    }\n",
       "\n",
       "    .dataframe tbody tr th {\n",
       "        vertical-align: top;\n",
       "    }\n",
       "</style>\n",
       "<table border=\"1\" class=\"dataframe\">\n",
       "  <thead>\n",
       "    <tr style=\"text-align: right;\">\n",
       "      <th></th>\n",
       "      <th>0</th>\n",
       "      <th>1</th>\n",
       "      <th>2</th>\n",
       "      <th>3</th>\n",
       "      <th>4</th>\n",
       "      <th>5</th>\n",
       "      <th>6</th>\n",
       "    </tr>\n",
       "  </thead>\n",
       "  <tbody>\n",
       "    <tr>\n",
       "      <th>0</th>\n",
       "      <td>1.000000</td>\n",
       "      <td>0.041688</td>\n",
       "      <td>-0.013250</td>\n",
       "      <td>0.013250</td>\n",
       "      <td>0.068489</td>\n",
       "      <td>0.009713</td>\n",
       "      <td>-0.024199</td>\n",
       "    </tr>\n",
       "    <tr>\n",
       "      <th>1</th>\n",
       "      <td>0.041688</td>\n",
       "      <td>1.000000</td>\n",
       "      <td>0.009897</td>\n",
       "      <td>-0.009897</td>\n",
       "      <td>0.017740</td>\n",
       "      <td>0.001767</td>\n",
       "      <td>0.001497</td>\n",
       "    </tr>\n",
       "    <tr>\n",
       "      <th>2</th>\n",
       "      <td>-0.013250</td>\n",
       "      <td>0.009897</td>\n",
       "      <td>1.000000</td>\n",
       "      <td>-1.000000</td>\n",
       "      <td>-0.002976</td>\n",
       "      <td>0.050858</td>\n",
       "      <td>0.021815</td>\n",
       "    </tr>\n",
       "    <tr>\n",
       "      <th>3</th>\n",
       "      <td>0.013250</td>\n",
       "      <td>-0.009897</td>\n",
       "      <td>-1.000000</td>\n",
       "      <td>1.000000</td>\n",
       "      <td>0.002976</td>\n",
       "      <td>-0.050858</td>\n",
       "      <td>-0.021815</td>\n",
       "    </tr>\n",
       "    <tr>\n",
       "      <th>4</th>\n",
       "      <td>0.068489</td>\n",
       "      <td>0.017740</td>\n",
       "      <td>-0.002976</td>\n",
       "      <td>0.002976</td>\n",
       "      <td>1.000000</td>\n",
       "      <td>-0.010376</td>\n",
       "      <td>-0.000962</td>\n",
       "    </tr>\n",
       "    <tr>\n",
       "      <th>5</th>\n",
       "      <td>0.009713</td>\n",
       "      <td>0.001767</td>\n",
       "      <td>0.050858</td>\n",
       "      <td>-0.050858</td>\n",
       "      <td>-0.010376</td>\n",
       "      <td>1.000000</td>\n",
       "      <td>-0.047092</td>\n",
       "    </tr>\n",
       "    <tr>\n",
       "      <th>6</th>\n",
       "      <td>-0.024199</td>\n",
       "      <td>0.001497</td>\n",
       "      <td>0.021815</td>\n",
       "      <td>-0.021815</td>\n",
       "      <td>-0.000962</td>\n",
       "      <td>-0.047092</td>\n",
       "      <td>1.000000</td>\n",
       "    </tr>\n",
       "  </tbody>\n",
       "</table>\n",
       "</div>"
      ],
      "text/plain": [
       "          0         1         2         3         4         5         6\n",
       "0  1.000000  0.041688 -0.013250  0.013250  0.068489  0.009713 -0.024199\n",
       "1  0.041688  1.000000  0.009897 -0.009897  0.017740  0.001767  0.001497\n",
       "2 -0.013250  0.009897  1.000000 -1.000000 -0.002976  0.050858  0.021815\n",
       "3  0.013250 -0.009897 -1.000000  1.000000  0.002976 -0.050858 -0.021815\n",
       "4  0.068489  0.017740 -0.002976  0.002976  1.000000 -0.010376 -0.000962\n",
       "5  0.009713  0.001767  0.050858 -0.050858 -0.010376  1.000000 -0.047092\n",
       "6 -0.024199  0.001497  0.021815 -0.021815 -0.000962 -0.047092  1.000000"
      ]
     },
     "execution_count": 12,
     "metadata": {},
     "output_type": "execute_result"
    }
   ],
   "source": [
    "import pandas as pd\n",
    "pd.DataFrame(X).corr()"
   ]
  },
  {
   "cell_type": "code",
   "execution_count": 14,
   "metadata": {
    "ExecuteTime": {
     "end_time": "2018-04-11T08:56:12.114134Z",
     "start_time": "2018-04-11T08:56:12.067190Z"
    },
    "collapsed": true
   },
   "outputs": [],
   "source": [
    "import seaborn as sns"
   ]
  },
  {
   "cell_type": "code",
   "execution_count": 15,
   "metadata": {
    "ExecuteTime": {
     "end_time": "2018-04-11T08:56:13.066116Z",
     "start_time": "2018-04-11T08:56:12.904526Z"
    }
   },
   "outputs": [
    {
     "data": {
      "text/plain": [
       "<matplotlib.axes._subplots.AxesSubplot at 0x7f02ff656710>"
      ]
     },
     "execution_count": 15,
     "metadata": {},
     "output_type": "execute_result"
    },
    {
     "data": {
      "image/png": "[encoded data removed]",
      "text/plain": [
       "<matplotlib.figure.Figure at 0x7f02ff6565c0>"
      ]
     },
     "metadata": {},
     "output_type": "display_data"
    }
   ],
   "source": [
    "sns.heatmap(feat_points)"
   ]
  },
  {
   "cell_type": "code",
   "execution_count": 16,
   "metadata": {
    "ExecuteTime": {
     "end_time": "2018-04-11T08:56:13.979164Z",
     "start_time": "2018-04-11T08:56:13.844111Z"
    },
    "scrolled": false
   },
   "outputs": [
    {
     "data": {
      "text/plain": [
       "<matplotlib.axes._subplots.AxesSubplot at 0x7f02ff63a470>"
      ]
     },
     "execution_count": 16,
     "metadata": {},
     "output_type": "execute_result"
    },
    {
     "data": {
      "image/png": "[encoded data removed]",
      "text/plain": [
       "<matplotlib.figure.Figure at 0x7f02ff634390>"
      ]
     },
     "metadata": {},
     "output_type": "display_data"
    }
   ],
   "source": [
    "sns.heatmap(dist_mat)"
   ]
  },
  {
   "cell_type": "markdown",
   "metadata": {
    "heading_collapsed": true
   },
   "source": [
    "# Distance test"
   ]
  },
  {
   "cell_type": "code",
   "execution_count": 19,
   "metadata": {
    "ExecuteTime": {
     "end_time": "2018-04-11T09:13:54.139234Z",
     "start_time": "2018-04-11T09:13:54.135032Z"
    },
    "collapsed": true,
    "hidden": true
   },
   "outputs": [],
   "source": [
    "import fri.utils"
   ]
  },
  {
   "cell_type": "code",
   "execution_count": 38,
   "metadata": {
    "ExecuteTime": {
     "end_time": "2018-04-11T09:17:13.677415Z",
     "start_time": "2018-04-11T09:17:13.671158Z"
    },
    "hidden": true
   },
   "outputs": [
    {
     "data": {
      "text/plain": [
       "2.0524053863447112e-13"
      ]
     },
     "execution_count": 38,
     "metadata": {},
     "output_type": "execute_result"
    }
   ],
   "source": [
    "fri.utils.similarity2(feat_points[2],feat_points[3])"
   ]
  },
  {
   "cell_type": "code",
   "execution_count": 32,
   "metadata": {
    "ExecuteTime": {
     "end_time": "2018-04-11T09:16:15.552930Z",
     "start_time": "2018-04-11T09:16:15.549687Z"
    },
    "collapsed": true,
    "hidden": true
   },
   "outputs": [],
   "source": [
    "from scipy.spatial.distance import euclidean"
   ]
  },
  {
   "cell_type": "code",
   "execution_count": 39,
   "metadata": {
    "ExecuteTime": {
     "end_time": "2018-04-11T09:17:15.774464Z",
     "start_time": "2018-04-11T09:17:15.768399Z"
    },
    "hidden": true
   },
   "outputs": [
    {
     "data": {
      "text/plain": [
       "0.9251651425164945"
      ]
     },
     "execution_count": 39,
     "metadata": {},
     "output_type": "execute_result"
    }
   ],
   "source": [
    "euclidean(feat_points[2],feat_points[3])"
   ]
  },
  {
   "cell_type": "markdown",
   "metadata": {
    "ExecuteTime": {
     "end_time": "2018-04-11T09:01:19.587978Z",
     "start_time": "2018-04-11T09:01:19.583767Z"
    }
   },
   "source": [
    "# Correlation based grouping"
   ]
  },
  {
   "cell_type": "code",
   "execution_count": 17,
   "metadata": {
    "ExecuteTime": {
     "end_time": "2018-04-11T08:57:34.001273Z",
     "start_time": "2018-04-11T08:57:33.703844Z"
    }
   },
   "outputs": [
    {
     "data": {
      "image/png": "[encoded data removed]",
      "text/plain": [
       "<matplotlib.figure.Figure at 0x7f02fffbed30>"
      ]
     },
     "metadata": {},
     "output_type": "display_data"
    },
    {
     "data": {
      "image/png": "[encoded data removed]",
      "text/plain": [
       "<matplotlib.figure.Figure at 0x7f02ff5f5cf8>"
      ]
     },
     "metadata": {},
     "output_type": "display_data"
    }
   ],
   "source": [
    "import pandas as pd\n",
    "import seaborn as sns\n",
    "corr_pd = pd.DataFrame(X).corr()\n",
    "\n",
    "corr_pd = 1-corr_pd.abs()\n",
    "corr_pd = corr_pd.values\n",
    "\n",
    "sns.heatmap(corr_pd)\n",
    "\n",
    "from scipy.spatial.distance import squareform\n",
    "from scipy.cluster.hierarchy import linkage\n",
    "z = linkage(corr_pd,method=\"single\")\n",
    "threshold = 0.55*np.max(z[:, 2])\n",
    "p = plot_dendrogram_and_intervals(f.interval_,z)"
   ]
  },
  {
   "cell_type": "markdown",
   "metadata": {},
   "source": []
  }
 ],
 "metadata": {
  "kernelspec": {
   "display_name": "Python 3",
   "language": "python",
   "name": "python3"
  },
  "varInspector": {
   "cols": {
    "lenName": 16,
    "lenType": 16,
    "lenVar": 40
   },
   "kernels_config": {
    "python": {
     "delete_cmd_postfix": "",
     "delete_cmd_prefix": "del ",
     "library": "var_list.py",
     "varRefreshCmd": "print(var_dic_list())"
    },
    "r": {
     "delete_cmd_postfix": ") ",
     "delete_cmd_prefix": "rm(",
     "library": "var_list.r",
     "varRefreshCmd": "cat(var_dic_list()) "
    }
   },
   "types_to_exclude": [
    "module",
    "function",
    "builtin_function_or_method",
    "instance",
    "_Feature"
   ],
   "window_display": false
  }
 },
 "nbformat": 4,
 "nbformat_minor": 2
}
