{
 "cells": [
  {
   "cell_type": "code",
   "execution_count": 1,
   "metadata": {
    "ExecuteTime": {
     "end_time": "2018-03-27T12:23:44.045960Z",
     "start_time": "2018-03-27T12:23:43.389523Z"
    },
    "collapsed": true
   },
   "outputs": [],
   "source": [
    "import sys\n",
    "sys.path.append(\"../dev_scripts/\")\n",
    "import exp_tools\n",
    "import sklearn\n",
    "from sklearn.preprocessing import StandardScaler\n",
    "import numpy as np\n",
    "from fri import bounds,plot_dendrogram_and_intervals\n",
    "from fri import *\n",
    "from sklearn.metrics import precision_score\n",
    "import matplotlib.pyplot as plt\n",
    "import pandas as pd\n",
    "\n",
    "%matplotlib inline"
   ]
  },
  {
   "cell_type": "code",
   "execution_count": 2,
   "metadata": {
    "ExecuteTime": {
     "end_time": "2018-03-27T12:23:44.149358Z",
     "start_time": "2018-03-27T12:23:44.147142Z"
    },
    "collapsed": true
   },
   "outputs": [],
   "source": [
    "n = 5000"
   ]
  },
  {
   "cell_type": "code",
   "execution_count": 3,
   "metadata": {},
   "outputs": [],
   "source": [
    "rs = np.random.RandomState(125)"
   ]
  },
  {
   "cell_type": "code",
   "execution_count": 4,
   "metadata": {
    "ExecuteTime": {
     "end_time": "2018-03-27T12:23:44.281847Z",
     "start_time": "2018-03-27T12:23:44.277910Z"
    },
    "collapsed": true
   },
   "outputs": [
    {
     "name": "stdout",
     "output_type": "stream",
     "text": [
      "2500 0\n"
     ]
    }
   ],
   "source": [
    "X,y = exp_tools.gen_quadrant_pair(n=n,random_state=rs)\n",
    "X = StandardScaler().fit_transform(X)"
   ]
  },
  {
   "cell_type": "code",
   "execution_count": 5,
   "metadata": {
    "ExecuteTime": {
     "end_time": "2018-03-27T12:31:24.435448Z",
     "start_time": "2018-03-27T12:31:24.429818Z"
    }
   },
   "outputs": [
    {
     "name": "stdout",
     "output_type": "stream",
     "text": [
      "Generating dataset with d=2,n=5000,strongly=1,weakly=0, partition of weakly=None\n"
     ]
    }
   ],
   "source": [
    "X2,y2 = genClassificationData(n_samples=n,n_features=2,n_strel=1,n_redundant=0,random_state=rs)\n",
    "X2 = StandardScaler().fit_transform(X2)"
   ]
  },
  {
   "cell_type": "code",
   "execution_count": 6,
   "metadata": {
    "ExecuteTime": {
     "end_time": "2018-03-27T12:31:26.744626Z",
     "start_time": "2018-03-27T12:31:26.742557Z"
    },
    "collapsed": true
   },
   "outputs": [],
   "source": [
    "y_and = np.where(y == y2,1,-1)"
   ]
  },
  {
   "cell_type": "code",
   "execution_count": 7,
   "metadata": {},
   "outputs": [],
   "source": [
    "#y_and = y==y2"
   ]
  },
  {
   "cell_type": "code",
   "execution_count": 8,
   "metadata": {},
   "outputs": [
    {
     "data": {
      "text/plain": [
       "2466"
      ]
     },
     "execution_count": 8,
     "metadata": {},
     "output_type": "execute_result"
    }
   ],
   "source": [
    "sum(y2==1)"
   ]
  },
  {
   "cell_type": "code",
   "execution_count": 9,
   "metadata": {
    "ExecuteTime": {
     "end_time": "2018-03-27T12:31:27.692282Z",
     "start_time": "2018-03-27T12:31:27.689633Z"
    },
    "collapsed": true
   },
   "outputs": [],
   "source": [
    "X_and = np.hstack([X,X2])\n",
    "X_and = StandardScaler().fit_transform(X_and)"
   ]
  },
  {
   "cell_type": "code",
   "execution_count": 10,
   "metadata": {
    "ExecuteTime": {
     "end_time": "2018-03-27T12:32:41.484666Z",
     "start_time": "2018-03-27T12:32:40.559525Z"
    }
   },
   "outputs": [
    {
     "name": "stdout",
     "output_type": "stream",
     "text": [
      "loss 4959.99929987\n",
      "L1 0.873467818155\n",
      "offset -0.012627032805770304\n",
      "C 10\n",
      "score 0.506077795786\n",
      "coef:\n",
      "[[-0.19322487]\n",
      " [ 0.13293622]\n",
      " [ 0.06931401]\n",
      " [-0.39858654]]\n",
      "WARNING: Weak Model performance! score = 0.5060777957860616\n"
     ]
    }
   ],
   "source": [
    "f = FRIClassification(debug=True,optimum_deviation=0.1,C=10)\n",
    "\n",
    "f.fit(X_and,y_and)"
   ]
  },
  {
   "cell_type": "code",
   "execution_count": 103,
   "metadata": {},
   "outputs": [
    {
     "data": {
      "text/plain": [
       "array([[ 0.28705084,  0.72354474],\n",
       "       [ 0.27645526,  0.71294916],\n",
       "       [ 0.        ,  0.0588904 ],\n",
       "       [ 0.        ,  0.05458227]])"
      ]
     },
     "execution_count": 103,
     "metadata": {},
     "output_type": "execute_result"
    }
   ],
   "source": [
    "f.interval_"
   ]
  },
  {
   "cell_type": "code",
   "execution_count": 104,
   "metadata": {
    "ExecuteTime": {
     "end_time": "2018-03-27T12:32:42.570774Z",
     "start_time": "2018-03-27T12:32:42.471181Z"
    }
   },
   "outputs": [
    {
     "data": {
      "image/png": "[encoded data removed]",
      "text/plain": [
       "<matplotlib.figure.Figure at 0x7fc086f2e6a0>"
      ]
     },
     "metadata": {},
     "output_type": "display_data"
    }
   ],
   "source": [
    "p = plotIntervals(f.interval_)"
   ]
  },
  {
   "cell_type": "code",
   "execution_count": 131,
   "metadata": {
    "ExecuteTime": {
     "end_time": "2018-03-27T12:32:56.953144Z",
     "start_time": "2018-03-27T12:32:44.557056Z"
    }
   },
   "outputs": [
    {
     "ename": "AssertionError",
     "evalue": "",
     "traceback": [
      "\u001b[0;31m---------------------------------------------------------------------------\u001b[0m",
      "\u001b[0;31mAssertionError\u001b[0m                            Traceback (most recent call last)",
      "\u001b[0;32m<ipython-input-131-261fc45c70c0>\u001b[0m in \u001b[0;36m<module>\u001b[0;34m()\u001b[0m\n\u001b[0;32m----> 1\u001b[0;31m \u001b[0mclust\u001b[0m\u001b[0;34m,\u001b[0m \u001b[0mlink\u001b[0m\u001b[0;34m,\u001b[0m \u001b[0mfeat_points\u001b[0m\u001b[0;34m,\u001b[0m\u001b[0mdist_mat\u001b[0m \u001b[0;34m=\u001b[0m \u001b[0mf\u001b[0m\u001b[0;34m.\u001b[0m\u001b[0mcommunity_detection2\u001b[0m\u001b[0;34m(\u001b[0m\u001b[0mX_and\u001b[0m\u001b[0;34m,\u001b[0m\u001b[0my_and\u001b[0m\u001b[0;34m)\u001b[0m\u001b[0;34m\u001b[0m\u001b[0m\n\u001b[0m",
      "\u001b[0;32m~/workbench/fri/fri/base.py\u001b[0m in \u001b[0;36mcommunity_detection2\u001b[0;34m(self, X, y, cutoff_threshold, mode)\u001b[0m\n\u001b[1;32m    332\u001b[0m             \u001b[0mself\u001b[0m\u001b[0;34m.\u001b[0m\u001b[0mabsolute_delta_bounds_summed_min\u001b[0m\u001b[0;34m[\u001b[0m\u001b[0mi\u001b[0m\u001b[0;34m]\u001b[0m \u001b[0;34m=\u001b[0m \u001b[0mdiff\u001b[0m\u001b[0;34m\u001b[0m\u001b[0m\n\u001b[1;32m    333\u001b[0m             \u001b[0;31m# max\u001b[0m\u001b[0;34m\u001b[0m\u001b[0;34m\u001b[0m\u001b[0m\n\u001b[0;32m--> 334\u001b[0;31m             \u001b[0mranges\u001b[0m\u001b[0;34m,\u001b[0m \u001b[0mdiff\u001b[0m \u001b[0;34m=\u001b[0m \u001b[0mrun_with_single_dim_single_value_preset\u001b[0m\u001b[0;34m(\u001b[0m\u001b[0mi\u001b[0m\u001b[0;34m,\u001b[0m \u001b[0minterval\u001b[0m\u001b[0;34m[\u001b[0m\u001b[0mi\u001b[0m\u001b[0;34m,\u001b[0m \u001b[0;36m1\u001b[0m\u001b[0;34m]\u001b[0m\u001b[0;34m)\u001b[0m\u001b[0;34m\u001b[0m\u001b[0m\n\u001b[0m\u001b[1;32m    335\u001b[0m             \u001b[0mself\u001b[0m\u001b[0;34m.\u001b[0m\u001b[0minterval_constrained_to_max\u001b[0m\u001b[0;34m[\u001b[0m\u001b[0mi\u001b[0m\u001b[0;34m]\u001b[0m \u001b[0;34m=\u001b[0m \u001b[0mranges\u001b[0m\u001b[0;34m\u001b[0m\u001b[0m\n\u001b[1;32m    336\u001b[0m             \u001b[0mself\u001b[0m\u001b[0;34m.\u001b[0m\u001b[0mabsolute_delta_bounds_summed_max\u001b[0m\u001b[0;34m[\u001b[0m\u001b[0mi\u001b[0m\u001b[0;34m]\u001b[0m \u001b[0;34m=\u001b[0m \u001b[0mdiff\u001b[0m\u001b[0;34m\u001b[0m\u001b[0m\n",
      "\u001b[0;32m~/workbench/fri/fri/base.py\u001b[0m in \u001b[0;36mrun_with_single_dim_single_value_preset\u001b[0;34m(i, preset_i, n_tries)\u001b[0m\n\u001b[1;32m    300\u001b[0m                                                           \u001b[0ml1\u001b[0m\u001b[0;34m,\u001b[0m\u001b[0;34m\u001b[0m\u001b[0m\n\u001b[1;32m    301\u001b[0m                                                           \u001b[0mself\u001b[0m\u001b[0;34m.\u001b[0m\u001b[0mrandom_state\u001b[0m\u001b[0;34m,\u001b[0m\u001b[0;34m\u001b[0m\u001b[0m\n\u001b[0;32m--> 302\u001b[0;31m                                                           False, presetModel=preset)\n\u001b[0m\u001b[1;32m    303\u001b[0m                 \u001b[0;32mexcept\u001b[0m \u001b[0mNotFeasibleForParameters\u001b[0m\u001b[0;34m:\u001b[0m\u001b[0;34m\u001b[0m\u001b[0m\n\u001b[1;32m    304\u001b[0m                     \u001b[0;31m# relax problem to mitigate feasibility problems in some rare cases\u001b[0m\u001b[0;34m\u001b[0m\u001b[0;34m\u001b[0m\u001b[0m\n",
      "\u001b[0;32m~/workbench/fri/fri/base.py\u001b[0m in \u001b[0;36m_main_opt\u001b[0;34m(self, X, Y, svmloss, L1, random_state, shadow_features, presetModel)\u001b[0m\n\u001b[1;32m    463\u001b[0m         work = [LowerBound(problemClass=self, optim_dim=di, kwargs=kwargs, initLoss=svmloss, initL1=L1, X=X, Y=Y,\n\u001b[1;32m    464\u001b[0m                            presetModel=presetModel)\n\u001b[0;32m--> 465\u001b[0;31m                 for di in range(d)]\n\u001b[0m\u001b[1;32m    466\u001b[0m         work.extend([UpperBound(problemClass=self, optim_dim=di, kwargs=kwargs, initLoss=svmloss, initL1=L1, X=X, Y=Y,\n\u001b[1;32m    467\u001b[0m                                 presetModel=presetModel)\n",
      "\u001b[0;32m~/workbench/fri/fri/base.py\u001b[0m in \u001b[0;36m<listcomp>\u001b[0;34m(.0)\u001b[0m\n\u001b[1;32m    463\u001b[0m         work = [LowerBound(problemClass=self, optim_dim=di, kwargs=kwargs, initLoss=svmloss, initL1=L1, X=X, Y=Y,\n\u001b[1;32m    464\u001b[0m                            presetModel=presetModel)\n\u001b[0;32m--> 465\u001b[0;31m                 for di in range(d)]\n\u001b[0m\u001b[1;32m    466\u001b[0m         work.extend([UpperBound(problemClass=self, optim_dim=di, kwargs=kwargs, initLoss=svmloss, initL1=L1, X=X, Y=Y,\n\u001b[1;32m    467\u001b[0m                                 presetModel=presetModel)\n",
      "\u001b[0;32m~/workbench/fri/fri/bounds.py\u001b[0m in \u001b[0;36m__init__\u001b[0;34m(self, problemClass, optim_dim, kwargs, initLoss, initL1, X, Y, presetModel)\u001b[0m\n\u001b[1;32m     45\u001b[0m         self.prob_instance = MinProblem(problemClass.problemType, di=optim_dim, kwargs=kwargs, X=self.X, Y=self.Y,\n\u001b[1;32m     46\u001b[0m                                         \u001b[0minitLoss\u001b[0m\u001b[0;34m=\u001b[0m\u001b[0minitLoss\u001b[0m\u001b[0;34m,\u001b[0m \u001b[0minitL1\u001b[0m\u001b[0;34m=\u001b[0m\u001b[0minitL1\u001b[0m\u001b[0;34m,\u001b[0m \u001b[0mparameters\u001b[0m\u001b[0;34m=\u001b[0m\u001b[0mproblemClass\u001b[0m\u001b[0;34m.\u001b[0m\u001b[0m_best_params\u001b[0m\u001b[0;34m,\u001b[0m\u001b[0;34m\u001b[0m\u001b[0m\n\u001b[0;32m---> 47\u001b[0;31m                                         presetModel=presetModel)\n\u001b[0m\u001b[1;32m     48\u001b[0m \u001b[0;34m\u001b[0m\u001b[0m\n\u001b[1;32m     49\u001b[0m         \u001b[0;31m# Define bound type for easier indexing after result collection\u001b[0m\u001b[0;34m\u001b[0m\u001b[0;34m\u001b[0m\u001b[0m\n",
      "\u001b[0;32m~/workbench/fri/fri/optproblems.py\u001b[0m in \u001b[0;36m__init__\u001b[0;34m(self, problemType, di, kwargs, X, Y, initLoss, initL1, parameters, presetModel)\u001b[0m\n\u001b[1;32m     94\u001b[0m     \u001b[0;32mdef\u001b[0m \u001b[0m__init__\u001b[0m\u001b[0;34m(\u001b[0m\u001b[0mself\u001b[0m\u001b[0;34m,\u001b[0m \u001b[0mproblemType\u001b[0m\u001b[0;34m,\u001b[0m \u001b[0mdi\u001b[0m\u001b[0;34m=\u001b[0m\u001b[0;32mNone\u001b[0m\u001b[0;34m,\u001b[0m \u001b[0mkwargs\u001b[0m\u001b[0;34m=\u001b[0m\u001b[0;32mNone\u001b[0m\u001b[0;34m,\u001b[0m \u001b[0mX\u001b[0m\u001b[0;34m=\u001b[0m\u001b[0;32mNone\u001b[0m\u001b[0;34m,\u001b[0m \u001b[0mY\u001b[0m\u001b[0;34m=\u001b[0m\u001b[0;32mNone\u001b[0m\u001b[0;34m,\u001b[0m \u001b[0minitLoss\u001b[0m\u001b[0;34m=\u001b[0m\u001b[0;32mNone\u001b[0m\u001b[0;34m,\u001b[0m \u001b[0minitL1\u001b[0m\u001b[0;34m=\u001b[0m\u001b[0;32mNone\u001b[0m\u001b[0;34m,\u001b[0m \u001b[0mparameters\u001b[0m\u001b[0;34m=\u001b[0m\u001b[0;32mNone\u001b[0m\u001b[0;34m,\u001b[0m \u001b[0mpresetModel\u001b[0m\u001b[0;34m=\u001b[0m\u001b[0;32mNone\u001b[0m\u001b[0;34m)\u001b[0m\u001b[0;34m:\u001b[0m\u001b[0;34m\u001b[0m\u001b[0m\n\u001b[1;32m     95\u001b[0m         super().__init__(problemType, di=di, kwargs=kwargs, X=X, Y=Y, initLoss=initLoss, initL1=initL1,\n\u001b[0;32m---> 96\u001b[0;31m                          parameters=parameters, presetModel=presetModel)\n\u001b[0m\u001b[1;32m     97\u001b[0m \u001b[0;34m\u001b[0m\u001b[0m\n\u001b[1;32m     98\u001b[0m         self._constraints.extend(\n",
      "\u001b[0;32m~/workbench/fri/fri/optproblems.py\u001b[0m in \u001b[0;36m__init__\u001b[0;34m(self, problemType, di, kwargs, X, Y, initLoss, initL1, parameters, presetModel)\u001b[0m\n\u001b[1;32m     49\u001b[0m \u001b[0;34m\u001b[0m\u001b[0m\n\u001b[1;32m     50\u001b[0m                 \u001b[0;31m# a weight bigger than the optimal model L1 makes no sense\u001b[0m\u001b[0;34m\u001b[0m\u001b[0;34m\u001b[0m\u001b[0m\n\u001b[0;32m---> 51\u001b[0;31m                 \u001b[0;32massert\u001b[0m \u001b[0mabs\u001b[0m\u001b[0;34m(\u001b[0m\u001b[0mcurrent_preset\u001b[0m\u001b[0;34m[\u001b[0m\u001b[0;36m0\u001b[0m\u001b[0;34m]\u001b[0m\u001b[0;34m)\u001b[0m \u001b[0;34m<=\u001b[0m \u001b[0mself\u001b[0m\u001b[0;34m.\u001b[0m\u001b[0minitL1\u001b[0m\u001b[0;34m\u001b[0m\u001b[0m\n\u001b[0m\u001b[1;32m     52\u001b[0m                 \u001b[0;32massert\u001b[0m \u001b[0mabs\u001b[0m\u001b[0;34m(\u001b[0m\u001b[0mcurrent_preset\u001b[0m\u001b[0;34m[\u001b[0m\u001b[0;36m1\u001b[0m\u001b[0;34m]\u001b[0m\u001b[0;34m)\u001b[0m \u001b[0;34m<=\u001b[0m \u001b[0mself\u001b[0m\u001b[0;34m.\u001b[0m\u001b[0minitL1\u001b[0m\u001b[0;34m\u001b[0m\u001b[0m\n\u001b[1;32m     53\u001b[0m                 \u001b[0;31m# We add a pair of constraints depending on sign of known coefficient\u001b[0m\u001b[0;34m\u001b[0m\u001b[0;34m\u001b[0m\u001b[0m\n",
      "\u001b[0;31mAssertionError\u001b[0m: "
     ],
     "output_type": "error"
    }
   ],
   "source": [
    "clust, link, feat_points,dist_mat = f.community_detection2(X_and,y_and)\n"
   ]
  },
  {
   "cell_type": "code",
   "execution_count": null,
   "metadata": {
    "ExecuteTime": {
     "end_time": "2018-03-27T12:36:07.732692Z",
     "start_time": "2018-03-27T12:36:07.730042Z"
    },
    "collapsed": true
   },
   "outputs": [],
   "source": [
    "import scipy\n",
    "dist_mat = scipy.spatial.distance.squareform(dist_mat)"
   ]
  },
  {
   "cell_type": "code",
   "execution_count": null,
   "metadata": {
    "ExecuteTime": {
     "end_time": "2018-03-27T12:32:58.078878Z",
     "start_time": "2018-03-27T12:32:57.930842Z"
    }
   },
   "outputs": [],
   "source": [
    "p = plot_dendrogram_and_intervals(f.interval_,link)"
   ]
  },
  {
   "cell_type": "code",
   "execution_count": 25,
   "metadata": {
    "ExecuteTime": {
     "end_time": "2018-03-27T12:32:19.207240Z",
     "start_time": "2018-03-27T12:32:19.194909Z"
    }
   },
   "outputs": [
    {
     "data": {
      "text/html": [
       "<div>\n",
       "<style>\n",
       "    .dataframe thead tr:only-child th {\n",
       "        text-align: right;\n",
       "    }\n",
       "\n",
       "    .dataframe thead th {\n",
       "        text-align: left;\n",
       "    }\n",
       "\n",
       "    .dataframe tbody tr th {\n",
       "        vertical-align: top;\n",
       "    }\n",
       "</style>\n",
       "<table border=\"1\" class=\"dataframe\">\n",
       "  <thead>\n",
       "    <tr style=\"text-align: right;\">\n",
       "      <th></th>\n",
       "      <th>0</th>\n",
       "      <th>1</th>\n",
       "      <th>2</th>\n",
       "      <th>3</th>\n",
       "      <th>4</th>\n",
       "      <th>5</th>\n",
       "      <th>6</th>\n",
       "      <th>7</th>\n",
       "    </tr>\n",
       "  </thead>\n",
       "  <tbody>\n",
       "    <tr>\n",
       "      <th>0</th>\n",
       "      <td>1.000000</td>\n",
       "      <td>0.029358</td>\n",
       "      <td>-0.026530</td>\n",
       "      <td>0.005823</td>\n",
       "      <td>0.005823</td>\n",
       "      <td>0.007024</td>\n",
       "      <td>0.030354</td>\n",
       "      <td>-0.011977</td>\n",
       "    </tr>\n",
       "    <tr>\n",
       "      <th>1</th>\n",
       "      <td>0.029358</td>\n",
       "      <td>1.000000</td>\n",
       "      <td>-0.019113</td>\n",
       "      <td>0.012717</td>\n",
       "      <td>0.012717</td>\n",
       "      <td>0.002813</td>\n",
       "      <td>0.012644</td>\n",
       "      <td>-0.010980</td>\n",
       "    </tr>\n",
       "    <tr>\n",
       "      <th>2</th>\n",
       "      <td>-0.026530</td>\n",
       "      <td>-0.019113</td>\n",
       "      <td>1.000000</td>\n",
       "      <td>0.088419</td>\n",
       "      <td>0.088419</td>\n",
       "      <td>-0.003573</td>\n",
       "      <td>-0.010695</td>\n",
       "      <td>0.043662</td>\n",
       "    </tr>\n",
       "    <tr>\n",
       "      <th>3</th>\n",
       "      <td>0.005823</td>\n",
       "      <td>0.012717</td>\n",
       "      <td>0.088419</td>\n",
       "      <td>1.000000</td>\n",
       "      <td>1.000000</td>\n",
       "      <td>0.041654</td>\n",
       "      <td>-0.012327</td>\n",
       "      <td>-0.008724</td>\n",
       "    </tr>\n",
       "    <tr>\n",
       "      <th>4</th>\n",
       "      <td>0.005823</td>\n",
       "      <td>0.012717</td>\n",
       "      <td>0.088419</td>\n",
       "      <td>1.000000</td>\n",
       "      <td>1.000000</td>\n",
       "      <td>0.041654</td>\n",
       "      <td>-0.012327</td>\n",
       "      <td>-0.008724</td>\n",
       "    </tr>\n",
       "    <tr>\n",
       "      <th>5</th>\n",
       "      <td>0.007024</td>\n",
       "      <td>0.002813</td>\n",
       "      <td>-0.003573</td>\n",
       "      <td>0.041654</td>\n",
       "      <td>0.041654</td>\n",
       "      <td>1.000000</td>\n",
       "      <td>0.035417</td>\n",
       "      <td>-0.011214</td>\n",
       "    </tr>\n",
       "    <tr>\n",
       "      <th>6</th>\n",
       "      <td>0.030354</td>\n",
       "      <td>0.012644</td>\n",
       "      <td>-0.010695</td>\n",
       "      <td>-0.012327</td>\n",
       "      <td>-0.012327</td>\n",
       "      <td>0.035417</td>\n",
       "      <td>1.000000</td>\n",
       "      <td>-0.036886</td>\n",
       "    </tr>\n",
       "    <tr>\n",
       "      <th>7</th>\n",
       "      <td>-0.011977</td>\n",
       "      <td>-0.010980</td>\n",
       "      <td>0.043662</td>\n",
       "      <td>-0.008724</td>\n",
       "      <td>-0.008724</td>\n",
       "      <td>-0.011214</td>\n",
       "      <td>-0.036886</td>\n",
       "      <td>1.000000</td>\n",
       "    </tr>\n",
       "  </tbody>\n",
       "</table>\n",
       "</div>"
      ],
      "text/plain": [
       "          0         1         2         3         4         5         6  \\\n",
       "0  1.000000  0.029358 -0.026530  0.005823  0.005823  0.007024  0.030354   \n",
       "1  0.029358  1.000000 -0.019113  0.012717  0.012717  0.002813  0.012644   \n",
       "2 -0.026530 -0.019113  1.000000  0.088419  0.088419 -0.003573 -0.010695   \n",
       "3  0.005823  0.012717  0.088419  1.000000  1.000000  0.041654 -0.012327   \n",
       "4  0.005823  0.012717  0.088419  1.000000  1.000000  0.041654 -0.012327   \n",
       "5  0.007024  0.002813 -0.003573  0.041654  0.041654  1.000000  0.035417   \n",
       "6  0.030354  0.012644 -0.010695 -0.012327 -0.012327  0.035417  1.000000   \n",
       "7 -0.011977 -0.010980  0.043662 -0.008724 -0.008724 -0.011214 -0.036886   \n",
       "\n",
       "          7  \n",
       "0 -0.011977  \n",
       "1 -0.010980  \n",
       "2  0.043662  \n",
       "3 -0.008724  \n",
       "4 -0.008724  \n",
       "5 -0.011214  \n",
       "6 -0.036886  \n",
       "7  1.000000  "
      ]
     },
     "execution_count": 25,
     "metadata": {},
     "output_type": "execute_result"
    }
   ],
   "source": [
    "import pandas as pd\n",
    "pd.DataFrame(X_and).corr()"
   ]
  },
  {
   "cell_type": "code",
   "execution_count": 26,
   "metadata": {
    "ExecuteTime": {
     "end_time": "2018-03-27T12:33:28.351930Z",
     "start_time": "2018-03-27T12:33:28.240882Z"
    }
   },
   "outputs": [],
   "source": [
    "import seaborn as sns"
   ]
  },
  {
   "cell_type": "code",
   "execution_count": 27,
   "metadata": {
    "ExecuteTime": {
     "end_time": "2018-03-27T12:33:45.929497Z",
     "start_time": "2018-03-27T12:33:45.768055Z"
    }
   },
   "outputs": [
    {
     "data": {
      "text/plain": [
       "<matplotlib.axes._subplots.AxesSubplot at 0x7fbbed2ae2e8>"
      ]
     },
     "execution_count": 27,
     "metadata": {},
     "output_type": "execute_result"
    },
    {
     "data": {
      "image/png": "[encoded data removed]",
      "text/plain": [
       "<matplotlib.figure.Figure at 0x7fbbed2f0d68>"
      ]
     },
     "metadata": {},
     "output_type": "display_data"
    }
   ],
   "source": [
    "sns.heatmap(feat_points)"
   ]
  },
  {
   "cell_type": "code",
   "execution_count": 32,
   "metadata": {
    "ExecuteTime": {
     "end_time": "2018-03-27T12:36:28.743840Z",
     "start_time": "2018-03-27T12:36:28.584542Z"
    }
   },
   "outputs": [
    {
     "data": {
      "text/plain": [
       "<matplotlib.axes._subplots.AxesSubplot at 0x7fbbed0088d0>"
      ]
     },
     "execution_count": 32,
     "metadata": {},
     "output_type": "execute_result"
    },
    {
     "data": {
      "image/png": "[encoded data removed]",
      "text/plain": [
       "<matplotlib.figure.Figure at 0x7fbbed012470>"
      ]
     },
     "metadata": {},
     "output_type": "display_data"
    }
   ],
   "source": [
    "sns.heatmap(dist_mat)"
   ]
  },
  {
   "cell_type": "code",
   "execution_count": null,
   "metadata": {},
   "outputs": [],
   "source": []
  }
 ],
 "metadata": {
  "kernelspec": {
   "display_name": "Python 3",
   "language": "python",
   "name": "python3"
  },
  "language_info": {
   "codemirror_mode": {
    "name": "ipython",
    "version": 3
   },
   "file_extension": ".py",
   "mimetype": "text/x-python",
   "name": "python",
   "nbconvert_exporter": "python",
   "pygments_lexer": "ipython3",
   "version": "3.6.3"
  },
  "varInspector": {
   "cols": {
    "lenName": 16.0,
    "lenType": 16.0,
    "lenVar": 40.0
   },
   "kernels_config": {
    "python": {
     "delete_cmd_postfix": "",
     "delete_cmd_prefix": "del ",
     "library": "var_list.py",
     "varRefreshCmd": "print(var_dic_list())"
    },
    "r": {
     "delete_cmd_postfix": ") ",
     "delete_cmd_prefix": "rm(",
     "library": "var_list.r",
     "varRefreshCmd": "cat(var_dic_list()) "
    }
   },
   "types_to_exclude": [
    "module",
    "function",
    "builtin_function_or_method",
    "instance",
    "_Feature"
   ],
   "window_display": false
  }
 },
 "nbformat": 4,
 "nbformat_minor": 2
}
