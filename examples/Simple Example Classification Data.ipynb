{
 "cells": [
  {
   "cell_type": "markdown",
   "metadata": {},
   "source": [
    "## Classification data"
   ]
  },
  {
   "cell_type": "code",
   "execution_count": 1,
   "metadata": {},
   "outputs": [
    {
     "name": "stdout",
     "output_type": "stream",
     "text": [
      "Generating dataset with d=6,n=100,strongly=2,weakly=2, partition of weakly=None\n"
     ]
    }
   ],
   "source": [
    "from fri import genClassificationData\n",
    "X,y = genClassificationData(n_samples=100, n_features=6,strRel=2, n_redundant=2,\n",
    "                    n_repeated=0, flip_y=0)"
   ]
  },
  {
   "cell_type": "code",
   "execution_count": 2,
   "metadata": {},
   "outputs": [
    {
     "data": {
      "text/plain": [
       "(100, 6)"
      ]
     },
     "execution_count": 2,
     "metadata": {},
     "output_type": "execute_result"
    }
   ],
   "source": [
    "X.shape"
   ]
  },
  {
   "cell_type": "markdown",
   "metadata": {},
   "source": [
    "We created a binary classification set with 6 features of which 2 are strongly relevant and 2 weakly relevant."
   ]
  },
  {
   "cell_type": "markdown",
   "metadata": {},
   "source": [
    "Scale Data"
   ]
  },
  {
   "cell_type": "code",
   "execution_count": 3,
   "metadata": {
    "collapsed": true
   },
   "outputs": [],
   "source": [
    "from sklearn.preprocessing import StandardScaler\n",
    "X_scaled = StandardScaler().fit_transform(X)"
   ]
  },
  {
   "cell_type": "markdown",
   "metadata": {},
   "source": [
    "New object for Classification Data"
   ]
  },
  {
   "cell_type": "code",
   "execution_count": 4,
   "metadata": {
    "collapsed": true
   },
   "outputs": [],
   "source": [
    "from fri import FRIClassification\n",
    "fri = FRIClassification()"
   ]
  },
  {
   "cell_type": "markdown",
   "metadata": {},
   "source": [
    "Fit to data"
   ]
  },
  {
   "cell_type": "code",
   "execution_count": 5,
   "metadata": {},
   "outputs": [],
   "source": [
    "fri.fit(X_scaled,y)"
   ]
  },
  {
   "cell_type": "markdown",
   "metadata": {},
   "source": [
    "Print out feature relevance intervals"
   ]
  },
  {
   "cell_type": "code",
   "execution_count": 6,
   "metadata": {},
   "outputs": [
    {
     "data": {
      "text/plain": [
       "array([[ 0.33236923,  0.33236935],\n",
       "       [ 0.49617788,  0.49617795],\n",
       "       [ 0.        ,  0.17145287],\n",
       "       [ 0.        ,  0.17145287],\n",
       "       [ 0.        ,  0.        ],\n",
       "       [ 0.        ,  0.        ]])"
      ]
     },
     "execution_count": 6,
     "metadata": {},
     "output_type": "execute_result"
    }
   ],
   "source": [
    "fri.interval_"
   ]
  },
  {
   "cell_type": "markdown",
   "metadata": {},
   "source": [
    "### Plot results"
   ]
  },
  {
   "cell_type": "code",
   "execution_count": 7,
   "metadata": {},
   "outputs": [
    {
     "data": {
      "image/png": "[encoded data removed]",
      "text/plain": [
       "<matplotlib.figure.Figure at 0x7f0d3439f128>"
      ]
     },
     "execution_count": 7,
     "metadata": {},
     "output_type": "execute_result"
    }
   ],
   "source": [
    "from fri import plot\n",
    "plot.plotIntervals(fri.interval_)"
   ]
  },
  {
   "cell_type": "markdown",
   "metadata": {},
   "source": [
    "### Print internal Parameters"
   ]
  },
  {
   "cell_type": "code",
   "execution_count": 8,
   "metadata": {},
   "outputs": [
    {
     "data": {
      "text/plain": [
       "array([ True,  True,  True,  True, False, False], dtype=bool)"
      ]
     },
     "execution_count": 8,
     "metadata": {},
     "output_type": "execute_result"
    }
   ],
   "source": [
    "fri.allrel_prediction_"
   ]
  },
  {
   "cell_type": "markdown",
   "metadata": {},
   "source": [
    "Print out hyperparameter found by GridSearchCV"
   ]
  },
  {
   "cell_type": "code",
   "execution_count": 9,
   "metadata": {},
   "outputs": [
    {
     "data": {
      "text/plain": [
       "0.1"
      ]
     },
     "execution_count": 9,
     "metadata": {},
     "output_type": "execute_result"
    }
   ],
   "source": [
    "fri._hyper_C"
   ]
  },
  {
   "cell_type": "markdown",
   "metadata": {},
   "source": [
    "Get weights for linear models used for each feature optimization"
   ]
  },
  {
   "cell_type": "code",
   "execution_count": 10,
   "metadata": {},
   "outputs": [
    {
     "data": {
      "text/plain": [
       "array([[[ -3.58797911e-01,  -5.35632000e-01,   9.25430495e-02,\n",
       "          -9.25430714e-02,  -4.39798486e-13,  -3.70850915e-13],\n",
       "        [ -3.58798044e-01,  -5.35631877e-01,   9.25430493e-02,\n",
       "          -9.25430618e-02,  -2.29548458e-11,  -4.35112856e-11]],\n",
       "\n",
       "       [[ -3.58797932e-01,  -5.35631971e-01,   9.25430543e-02,\n",
       "          -9.25430737e-02,  -7.34812199e-12,  -1.50331067e-11],\n",
       "        [ -3.58797890e-01,  -5.35632049e-01,   9.25430399e-02,\n",
       "          -9.25430517e-02,  -9.45847536e-11,  -6.69810830e-11]],\n",
       "\n",
       "       [[ -3.58797912e-01,  -5.35631997e-01,   1.78132410e-14,\n",
       "          -1.85086122e-01,  -4.11937206e-14,  -1.62555609e-14],\n",
       "        [ -3.58797913e-01,  -5.35631994e-01,   1.85086124e-01,\n",
       "          -1.22791133e-11,  -1.59733899e-12,  -1.59868860e-12]],\n",
       "\n",
       "       [[ -3.58797912e-01,  -5.35631997e-01,   1.85086122e-01,\n",
       "          -1.78197236e-14,  -4.11651895e-14,  -1.62446134e-14],\n",
       "        [ -3.58797913e-01,  -5.35631994e-01,   1.22791384e-11,\n",
       "          -1.85086124e-01,  -1.59727466e-12,  -1.59864838e-12]],\n",
       "\n",
       "       [[ -3.58797912e-01,  -5.35631997e-01,   9.25430652e-02,\n",
       "          -9.25430570e-02,  -2.85409934e-14,  -2.07265927e-14],\n",
       "        [ -3.58797912e-01,  -5.35631997e-01,   9.25430599e-02,\n",
       "          -9.25430623e-02,  -3.34530856e-13,  -2.79878223e-14]],\n",
       "\n",
       "       [[ -3.58797912e-01,  -5.35631997e-01,   9.25430624e-02,\n",
       "          -9.25430598e-02,  -4.74662810e-14,  -1.28218143e-14],\n",
       "        [ -3.58797912e-01,  -5.35631997e-01,   9.25430593e-02,\n",
       "          -9.25430628e-02,  -5.41237376e-14,  -1.26781893e-12]]])"
      ]
     },
     "execution_count": 10,
     "metadata": {},
     "output_type": "execute_result"
    }
   ],
   "source": [
    "fri._omegas"
   ]
  }
 ],
 "metadata": {
  "anaconda-cloud": {},
  "kernelspec": {
   "display_name": "Python 3",
   "language": "python",
   "name": "python3"
  },
  "varInspector": {
   "cols": {
    "lenName": 16,
    "lenType": 16,
    "lenVar": 40
   },
   "kernels_config": {
    "python": {
     "delete_cmd_postfix": "",
     "delete_cmd_prefix": "del ",
     "library": "var_list.py",
     "varRefreshCmd": "print(var_dic_list())"
    },
    "r": {
     "delete_cmd_postfix": ") ",
     "delete_cmd_prefix": "rm(",
     "library": "var_list.r",
     "varRefreshCmd": "cat(var_dic_list()) "
    }
   },
   "types_to_exclude": [
    "module",
    "function",
    "builtin_function_or_method",
    "instance",
    "_Feature"
   ],
   "window_display": false
  }
 },
 "nbformat": 4,
 "nbformat_minor": 1
}
