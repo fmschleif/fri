{
 "cells": [
  {
   "cell_type": "markdown",
   "metadata": {},
   "source": [
    "## Classification data"
   ]
  },
  {
   "cell_type": "code",
   "execution_count": 25,
   "metadata": {
    "collapsed": false
   },
   "outputs": [],
   "source": [
    "from rbclassifier.genData import genData\n",
    "X,y = genData(n_samples=100, n_features=6,strRel=2, n_redundant=2,\n",
    "                    n_repeated=0, flip_y=0)"
   ]
  },
  {
   "cell_type": "code",
   "execution_count": 26,
   "metadata": {
    "collapsed": false
   },
   "outputs": [
    {
     "data": {
      "text/plain": [
       "(100, 6)"
      ]
     },
     "execution_count": 26,
     "metadata": {},
     "output_type": "execute_result"
    }
   ],
   "source": [
    "X.shape"
   ]
  },
  {
   "cell_type": "markdown",
   "metadata": {},
   "source": [
    "We created a binary classification set with 6 features of which 2 are strongly relevant and 2 weakly relevant."
   ]
  },
  {
   "cell_type": "markdown",
   "metadata": {},
   "source": [
    "Scale Data"
   ]
  },
  {
   "cell_type": "code",
   "execution_count": 27,
   "metadata": {
    "collapsed": true
   },
   "outputs": [],
   "source": [
    "from sklearn.preprocessing import StandardScaler\n",
    "X_scaled = StandardScaler().fit_transform(X)"
   ]
  },
  {
   "cell_type": "markdown",
   "metadata": {},
   "source": [
    "New object for Classification Data"
   ]
  },
  {
   "cell_type": "code",
   "execution_count": 28,
   "metadata": {
    "collapsed": true
   },
   "outputs": [],
   "source": [
    "from rbclassifier.rbclassifier import RelevanceBoundsClassifier\n",
    "fri = RelevanceBoundsClassifier()"
   ]
  },
  {
   "cell_type": "markdown",
   "metadata": {},
   "source": [
    "Fit to data"
   ]
  },
  {
   "cell_type": "code",
   "execution_count": 29,
   "metadata": {
    "collapsed": false
   },
   "outputs": [],
   "source": [
    "fri.fit(X_scaled,y)"
   ]
  },
  {
   "cell_type": "markdown",
   "metadata": {},
   "source": [
    "Print out feature relevance intervals"
   ]
  },
  {
   "cell_type": "code",
   "execution_count": 30,
   "metadata": {
    "collapsed": false
   },
   "outputs": [
    {
     "data": {
      "text/plain": [
       "array([[ 0.45441901,  0.74865981],\n",
       "       [ 0.11097353,  0.24677953],\n",
       "       [ 0.        ,  0.44205883],\n",
       "       [ 0.        ,  0.45057874],\n",
       "       [ 0.        ,  0.        ],\n",
       "       [ 0.        ,  0.        ]])"
      ]
     },
     "execution_count": 30,
     "metadata": {},
     "output_type": "execute_result"
    }
   ],
   "source": [
    "fri.interval_"
   ]
  },
  {
   "cell_type": "markdown",
   "metadata": {},
   "source": [
    "### Plot results"
   ]
  },
  {
   "cell_type": "code",
   "execution_count": 42,
   "metadata": {
    "collapsed": false
   },
   "outputs": [
    {
     "data": {
      "image/png": "[encoded data removed]",
      "text/plain": [
       "<matplotlib.figure.Figure at 0x7f887d719898>"
      ]
     },
     "execution_count": 42,
     "metadata": {},
     "output_type": "execute_result"
    }
   ],
   "source": [
    "from rbclassifier import plot\n",
    "plot.plotIntervals(fri.interval_)"
   ]
  },
  {
   "cell_type": "markdown",
   "metadata": {},
   "source": [
    "### Print internal Parameters"
   ]
  },
  {
   "cell_type": "code",
   "execution_count": 32,
   "metadata": {
    "collapsed": false
   },
   "outputs": [
    {
     "data": {
      "text/plain": [
       "array([ True,  True,  True,  True, False, False], dtype=bool)"
      ]
     },
     "execution_count": 32,
     "metadata": {},
     "output_type": "execute_result"
    }
   ],
   "source": [
    "fri.allrel_prediction_"
   ]
  },
  {
   "cell_type": "markdown",
   "metadata": {},
   "source": [
    "Print out hyperparameter found by GridSearchCV"
   ]
  },
  {
   "cell_type": "code",
   "execution_count": 36,
   "metadata": {
    "collapsed": false
   },
   "outputs": [
    {
     "data": {
      "text/plain": [
       "1.7273539535983538"
      ]
     },
     "execution_count": 36,
     "metadata": {},
     "output_type": "execute_result"
    }
   ],
   "source": [
    "fri._hyper_C"
   ]
  },
  {
   "cell_type": "markdown",
   "metadata": {},
   "source": [
    "Get weights for linear models used for each feature optimization"
   ]
  },
  {
   "cell_type": "code",
   "execution_count": 39,
   "metadata": {
    "collapsed": false
   },
   "outputs": [
    {
     "data": {
      "text/plain": [
       "array([[[ -4.03614782e+00,  -1.03029479e+00,  -1.21948735e+00,\n",
       "          -1.21948735e+00,  -2.05153365e-01,  -1.30842099e-01],\n",
       "        [ -7.97428587e+00,  -2.55791454e+00,  -2.21887955e+00,\n",
       "          -2.21887955e+00,  -5.43908110e-01,  -1.18067112e-01]],\n",
       "\n",
       "       [[ -4.21501414e+00,  -9.85666485e-01,  -1.24275793e+00,\n",
       "          -1.24275794e+00,  -1.46597625e-01,  -5.60278733e-02],\n",
       "        [ -7.97428587e+00,  -2.55791454e+00,  -2.21887955e+00,\n",
       "          -2.21887955e+00,  -5.43908110e-01,  -1.18067112e-01]],\n",
       "\n",
       "       [[ -5.54113311e+00,  -1.61049078e+00,  -1.91000732e-12,\n",
       "          -3.12698479e+00,  -2.49443912e-01,  -1.04486152e-02],\n",
       "        [ -7.82391802e+00,  -2.32580863e+00,  -4.45001117e+00,\n",
       "          -5.75299726e-12,  -3.19283835e-01,  -2.06716489e-01]],\n",
       "\n",
       "       [[ -5.54113311e+00,  -1.61049078e+00,  -3.12698479e+00,\n",
       "          -1.91000727e-12,  -2.49443912e-01,  -1.04486152e-02],\n",
       "        [ -7.82391802e+00,  -2.32580863e+00,  -5.75299642e-12,\n",
       "          -4.45001117e+00,  -3.19283835e-01,  -2.06716489e-01]],\n",
       "\n",
       "       [[ -6.25192097e+00,  -1.85600463e+00,  -1.69641928e+00,\n",
       "          -1.69641928e+00,  -7.07286321e-10,   3.38830740e-02],\n",
       "        [ -7.07269382e+00,  -2.29229809e+00,  -2.02811581e+00,\n",
       "          -2.02811581e+00,  -6.50082518e-01,  -2.80038173e-01]],\n",
       "\n",
       "       [[ -5.54929616e+00,  -1.60521710e+00,  -1.56124186e+00,\n",
       "          -1.56124186e+00,  -2.43649626e-01,  -7.97464646e-13],\n",
       "        [ -6.72517926e+00,  -2.06922304e+00,  -1.97681791e+00,\n",
       "          -1.97681792e+00,  -4.84585060e-01,  -3.83546262e-01]]])"
      ]
     },
     "execution_count": 39,
     "metadata": {},
     "output_type": "execute_result"
    }
   ],
   "source": [
    "fri._omegas"
   ]
  },
  {
   "cell_type": "code",
   "execution_count": null,
   "metadata": {
    "collapsed": true
   },
   "outputs": [],
   "source": []
  }
 ],
 "metadata": {
  "anaconda-cloud": {},
  "kernelspec": {
   "display_name": "Python 3",
   "language": "python",
   "name": "python3"
  },
  "language_info": {
   "codemirror_mode": {
    "name": "ipython",
    "version": 3
   },
   "file_extension": ".py",
   "mimetype": "text/x-python",
   "name": "python",
   "nbconvert_exporter": "python",
   "pygments_lexer": "ipython3",
   "version": "3.5.2"
  }
 },
 "nbformat": 4,
 "nbformat_minor": 0
}
