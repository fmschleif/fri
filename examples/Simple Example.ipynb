{
 "cells": [
  {
   "cell_type": "code",
   "execution_count": 121,
   "metadata": {
    "collapsed": true
   },
   "outputs": [],
   "source": [
    "from rbclassifier.rbclassifier import RelevanceBoundsRegressor\n",
    "from rbclassifier.genData import genRegressionData\n",
    "from sklearn.pipeline import Pipeline\n",
    "from sklearn.preprocessing import StandardScaler"
   ]
  },
  {
   "cell_type": "code",
   "execution_count": 122,
   "metadata": {
    "collapsed": false
   },
   "outputs": [
    {
     "name": "stderr",
     "output_type": "stream",
     "text": [
      "/home/lpfannschmidt/anaconda3/lib/python3.5/site-packages/sklearn/datasets/samples_generator.py:532: VisibleDeprecationWarning: using a non-integer number instead of an integer will result in an error in the future\n",
      "  X = generator.randn(n_samples, n_features)\n",
      "/home/lpfannschmidt/anaconda3/lib/python3.5/site-packages/sklearn/datasets/samples_generator.py:545: VisibleDeprecationWarning: using a non-integer number instead of an integer will result in an error in the future\n",
      "  ground_truth = np.zeros((n_features, n_targets))\n",
      "/home/lpfannschmidt/anaconda3/lib/python3.5/site-packages/sklearn/datasets/samples_generator.py:547: VisibleDeprecationWarning: using a non-integer number instead of an integer will result in an error in the future\n",
      "  n_targets)\n"
     ]
    }
   ],
   "source": [
    "data = genRegressionData()\n",
    "X_orig, y = data\n",
    "X_orig = StandardScaler().fit(X_orig).transform(X_orig)\n",
    "X = X_orig"
   ]
  },
  {
   "cell_type": "code",
   "execution_count": 123,
   "metadata": {
    "collapsed": false
   },
   "outputs": [],
   "source": [
    "cl = RelevanceBoundsRegressor()"
   ]
  },
  {
   "cell_type": "code",
   "execution_count": 124,
   "metadata": {
    "collapsed": false
   },
   "outputs": [],
   "source": [
    "cl.fit(X,y)"
   ]
  },
  {
   "cell_type": "code",
   "execution_count": 125,
   "metadata": {
    "collapsed": false
   },
   "outputs": [
    {
     "data": {
      "text/plain": [
       "RelevanceBoundsRegressor(C=None, parallel=False, random_state=None,\n",
       "             shadow_features=True)"
      ]
     },
     "execution_count": 125,
     "metadata": {},
     "output_type": "execute_result"
    }
   ],
   "source": [
    "cl"
   ]
  },
  {
   "cell_type": "code",
   "execution_count": 128,
   "metadata": {
    "collapsed": false
   },
   "outputs": [
    {
     "ename": "AttributeError",
     "evalue": "'RelevanceBoundsRegressor' object has no attribute '_hyper_epsilon'",
     "output_type": "error",
     "traceback": [
      "\u001b[0;31m---------------------------------------------------------------------------\u001b[0m",
      "\u001b[0;31mAttributeError\u001b[0m                            Traceback (most recent call last)",
      "\u001b[0;32m<ipython-input-128-6390bba4c767>\u001b[0m in \u001b[0;36m<module>\u001b[0;34m()\u001b[0m\n\u001b[0;32m----> 1\u001b[0;31m \u001b[0mcl\u001b[0m\u001b[0;34m.\u001b[0m\u001b[0m_hyper_epsilon\u001b[0m\u001b[0;34m\u001b[0m\u001b[0m\n\u001b[0m",
      "\u001b[0;31mAttributeError\u001b[0m: 'RelevanceBoundsRegressor' object has no attribute '_hyper_epsilon'"
     ]
    }
   ],
   "source": [
    "cl._hyper_epsilon"
   ]
  },
  {
   "cell_type": "code",
   "execution_count": 70,
   "metadata": {
    "collapsed": false
   },
   "outputs": [],
   "source": [
    "from sklearn import datasets\n",
    "diabetes = datasets.load_diabetes()\n",
    "X = diabetes.data[:,0:2]\n",
    "y = diabetes.target\n",
    "X_orig = StandardScaler().fit(X).transform(X)\n",
    "X = X_orig"
   ]
  },
  {
   "cell_type": "code",
   "execution_count": 71,
   "metadata": {
    "collapsed": false
   },
   "outputs": [
    {
     "ename": "FitFailedWarning",
     "evalue": "",
     "output_type": "error",
     "traceback": [
      "\u001b[0;31m---------------------------------------------------------------------------\u001b[0m",
      "\u001b[0;31mFitFailedWarning\u001b[0m                          Traceback (most recent call last)",
      "\u001b[0;32m<ipython-input-71-2be460a917f9>\u001b[0m in \u001b[0;36m<module>\u001b[0;34m()\u001b[0m\n\u001b[1;32m      1\u001b[0m \u001b[0mcl\u001b[0m \u001b[0;34m=\u001b[0m \u001b[0mRelevanceBoundsRegressor\u001b[0m\u001b[0;34m(\u001b[0m\u001b[0mC\u001b[0m\u001b[0;34m=\u001b[0m\u001b[0;36m1\u001b[0m\u001b[0;34m)\u001b[0m\u001b[0;34m\u001b[0m\u001b[0m\n\u001b[0;32m----> 2\u001b[0;31m \u001b[0mcl\u001b[0m\u001b[0;34m.\u001b[0m\u001b[0mfit\u001b[0m\u001b[0;34m(\u001b[0m\u001b[0mX\u001b[0m\u001b[0;34m,\u001b[0m\u001b[0my\u001b[0m\u001b[0;34m)\u001b[0m\u001b[0;34m\u001b[0m\u001b[0m\n\u001b[0m",
      "\u001b[0;32m/home/lpfannschmidt/anaconda3/lib/python3.5/site-packages/rbclassifier-0.1-py3.5.egg/rbclassifier/rbclassifier.py\u001b[0m in \u001b[0;36mfit\u001b[0;34m(self, X, y)\u001b[0m\n\u001b[1;32m    267\u001b[0m         \u001b[0mX\u001b[0m\u001b[0;34m,\u001b[0m \u001b[0my\u001b[0m \u001b[0;34m=\u001b[0m \u001b[0mcheck_X_y\u001b[0m\u001b[0;34m(\u001b[0m\u001b[0mX\u001b[0m\u001b[0;34m,\u001b[0m \u001b[0my\u001b[0m\u001b[0;34m)\u001b[0m\u001b[0;34m\u001b[0m\u001b[0m\n\u001b[1;32m    268\u001b[0m \u001b[0;34m\u001b[0m\u001b[0m\n\u001b[0;32m--> 269\u001b[0;31m         \u001b[0msuper\u001b[0m\u001b[0;34m(\u001b[0m\u001b[0;34m)\u001b[0m\u001b[0;34m.\u001b[0m\u001b[0mfit\u001b[0m\u001b[0;34m(\u001b[0m\u001b[0mX\u001b[0m\u001b[0;34m,\u001b[0m \u001b[0my\u001b[0m\u001b[0;34m)\u001b[0m\u001b[0;34m\u001b[0m\u001b[0m\n\u001b[0m",
      "\u001b[0;32m/home/lpfannschmidt/anaconda3/lib/python3.5/site-packages/rbclassifier-0.1-py3.5.egg/rbclassifier/rbclassifier.py\u001b[0m in \u001b[0;36mfit\u001b[0;34m(self, X, y)\u001b[0m\n\u001b[1;32m     43\u001b[0m \u001b[0;34m\u001b[0m\u001b[0m\n\u001b[1;32m     44\u001b[0m         \u001b[0;31m# Use SVM to get optimal solution\u001b[0m\u001b[0;34m\u001b[0m\u001b[0;34m\u001b[0m\u001b[0m\n\u001b[0;32m---> 45\u001b[0;31m         \u001b[0mself\u001b[0m\u001b[0;34m.\u001b[0m\u001b[0m_initEstimator\u001b[0m\u001b[0;34m(\u001b[0m\u001b[0mX\u001b[0m\u001b[0;34m,\u001b[0m \u001b[0my\u001b[0m\u001b[0;34m)\u001b[0m\u001b[0;34m\u001b[0m\u001b[0m\n\u001b[0m\u001b[1;32m     46\u001b[0m \u001b[0;34m\u001b[0m\u001b[0m\n\u001b[1;32m     47\u001b[0m         \u001b[0;31m# Main Optimization step\u001b[0m\u001b[0;34m\u001b[0m\u001b[0;34m\u001b[0m\u001b[0m\n",
      "\u001b[0;32m/home/lpfannschmidt/anaconda3/lib/python3.5/site-packages/rbclassifier-0.1-py3.5.egg/rbclassifier/rbclassifier.py\u001b[0m in \u001b[0;36m_initEstimator\u001b[0;34m(self, X, Y)\u001b[0m\n\u001b[1;32m    249\u001b[0m         \u001b[0mself\u001b[0m\u001b[0;34m.\u001b[0m\u001b[0m_best_clf_score\u001b[0m \u001b[0;34m=\u001b[0m \u001b[0mgridsearch\u001b[0m\u001b[0;34m.\u001b[0m\u001b[0mbest_score_\u001b[0m\u001b[0;34m\u001b[0m\u001b[0m\n\u001b[1;32m    250\u001b[0m         \u001b[0;32mif\u001b[0m \u001b[0mself\u001b[0m\u001b[0;34m.\u001b[0m\u001b[0m_best_clf_score\u001b[0m \u001b[0;34m<\u001b[0m \u001b[0;36m0.7\u001b[0m\u001b[0;34m:\u001b[0m\u001b[0;34m\u001b[0m\u001b[0m\n\u001b[0;32m--> 251\u001b[0;31m             \u001b[0;32mraise\u001b[0m \u001b[0mFitFailedWarning\u001b[0m\u001b[0;34m(\u001b[0m\u001b[0;34m)\u001b[0m\u001b[0;34m\u001b[0m\u001b[0m\n\u001b[0m\u001b[1;32m    252\u001b[0m \u001b[0;34m\u001b[0m\u001b[0m\n\u001b[1;32m    253\u001b[0m         \u001b[0mself\u001b[0m\u001b[0;34m.\u001b[0m\u001b[0m_svm_clf\u001b[0m \u001b[0;34m=\u001b[0m \u001b[0mbest_clf\u001b[0m \u001b[0;34m=\u001b[0m \u001b[0mgridsearch\u001b[0m\u001b[0;34m.\u001b[0m\u001b[0mbest_estimator_\u001b[0m\u001b[0;34m\u001b[0m\u001b[0m\n",
      "\u001b[0;31mFitFailedWarning\u001b[0m: "
     ]
    }
   ],
   "source": [
    "cl = RelevanceBoundsRegressor(C=1)\n",
    "cl.fit(X,y)"
   ]
  },
  {
   "cell_type": "code",
   "execution_count": 113,
   "metadata": {
    "collapsed": false
   },
   "outputs": [
    {
     "name": "stderr",
     "output_type": "stream",
     "text": [
      "/home/lpfannschmidt/anaconda3/lib/python3.5/site-packages/sklearn/datasets/samples_generator.py:532: VisibleDeprecationWarning: using a non-integer number instead of an integer will result in an error in the future\n",
      "  X = generator.randn(n_samples, n_features)\n",
      "/home/lpfannschmidt/anaconda3/lib/python3.5/site-packages/sklearn/datasets/samples_generator.py:545: VisibleDeprecationWarning: using a non-integer number instead of an integer will result in an error in the future\n",
      "  ground_truth = np.zeros((n_features, n_targets))\n",
      "/home/lpfannschmidt/anaconda3/lib/python3.5/site-packages/sklearn/datasets/samples_generator.py:547: VisibleDeprecationWarning: using a non-integer number instead of an integer will result in an error in the future\n",
      "  n_targets)\n"
     ]
    },
    {
     "data": {
      "text/plain": [
       "GridSearchCV(cv=3, error_score='raise',\n",
       "       estimator=SVR(C=1.0, cache_size=200, coef0=0.0, degree=3, epsilon=0.1, gamma='auto',\n",
       "  kernel='linear', max_iter=-1, shrinking=True, tol=0.001, verbose=False),\n",
       "       fit_params={}, iid=True, n_jobs=-1,\n",
       "       param_grid=[{'epsilon': array([  1.00000e-03,   2.23111e-01,   4.45222e-01,   6.67333e-01,\n",
       "         8.89444e-01,   1.11156e+00,   1.33367e+00,   1.55578e+00,\n",
       "         1.77789e+00,   2.00000e+00]), 'C': array([  1.00000e-03,   5.26411e+00,   1.05272e+01,   1.57903e+01,\n",
       "         2.10534e+01,   2.63165...   7.36845e+01,   7.89476e+01,\n",
       "         8.42107e+01,   8.94738e+01,   9.47369e+01,   1.00000e+02])}],\n",
       "       pre_dispatch='2*n_jobs', refit=True, return_train_score=True,\n",
       "       scoring='r2', verbose=False)"
      ]
     },
     "execution_count": 113,
     "metadata": {},
     "output_type": "execute_result"
    }
   ],
   "source": [
    "import numpy as np\n",
    "from sklearn.svm import SVR\n",
    "from sklearn.model_selection import GridSearchCV\n",
    "\n",
    "estimator = SVR(kernel=\"linear\")\n",
    "data = genRegressionData(n_features=20,strRel=5)\n",
    "X, y = data\n",
    "X_orig = StandardScaler().fit(X).transform(X)\n",
    "X = X_orig\n",
    "tuned_parameters = [{'C': np.linspace(0.001, 100,num=20),\"epsilon\":np.linspace(0.001, 2,num=10)}]\n",
    "       \n",
    "gridsearch = GridSearchCV(estimator,\n",
    "                                  tuned_parameters,\n",
    "                                  scoring=\"r2\",\n",
    "                                  n_jobs=-1,\n",
    "                                  cv=3,\n",
    "                                  verbose=False)\n",
    "gridsearch.fit(X, y)\n"
   ]
  },
  {
   "cell_type": "code",
   "execution_count": 114,
   "metadata": {
    "collapsed": false
   },
   "outputs": [
    {
     "data": {
      "text/plain": [
       "SVR(C=47.368947368421047, cache_size=200, coef0=0.0, degree=3,\n",
       "  epsilon=0.66733333333333333, gamma='auto', kernel='linear', max_iter=-1,\n",
       "  shrinking=True, tol=0.001, verbose=False)"
      ]
     },
     "execution_count": 114,
     "metadata": {},
     "output_type": "execute_result"
    }
   ],
   "source": [
    "gridsearch.best_estimator_"
   ]
  },
  {
   "cell_type": "code",
   "execution_count": 115,
   "metadata": {
    "collapsed": false
   },
   "outputs": [
    {
     "data": {
      "text/plain": [
       "0.99184407117223561"
      ]
     },
     "execution_count": 115,
     "metadata": {},
     "output_type": "execute_result"
    }
   ],
   "source": [
    "gridsearch.best_score_"
   ]
  },
  {
   "cell_type": "code",
   "execution_count": null,
   "metadata": {
    "collapsed": true
   },
   "outputs": [],
   "source": []
  }
 ],
 "metadata": {
  "anaconda-cloud": {},
  "kernelspec": {
   "display_name": "Python 3",
   "language": "python",
   "name": "python3"
  },
  "language_info": {
   "codemirror_mode": {
    "name": "ipython",
    "version": 3
   },
   "file_extension": ".py",
   "mimetype": "text/x-python",
   "name": "python",
   "nbconvert_exporter": "python",
   "pygments_lexer": "ipython3",
   "version": "3.5.2"
  }
 },
 "nbformat": 4,
 "nbformat_minor": 0
}
