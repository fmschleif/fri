{
 "cells": [
  {
   "cell_type": "code",
   "execution_count": 5,
   "metadata": {
    "collapsed": false
   },
   "outputs": [],
   "source": [
    "from rbclassifier import RelevanceBoundsClassifier, genData\n",
    "from sklearn.pipeline import Pipeline"
   ]
  },
  {
   "cell_type": "code",
   "execution_count": 6,
   "metadata": {
    "collapsed": true
   },
   "outputs": [],
   "source": [
    "X,y = genData.genData()"
   ]
  },
  {
   "cell_type": "code",
   "execution_count": 7,
   "metadata": {
    "collapsed": true
   },
   "outputs": [],
   "source": [
    "from sklearn.preprocessing import StandardScaler\n",
    "preprocess = StandardScaler()"
   ]
  },
  {
   "cell_type": "code",
   "execution_count": 8,
   "metadata": {
    "collapsed": true
   },
   "outputs": [],
   "source": [
    "featuresel = RelevanceBoundsClassifier()"
   ]
  },
  {
   "cell_type": "code",
   "execution_count": 9,
   "metadata": {
    "collapsed": true
   },
   "outputs": [],
   "source": [
    "pipeline = Pipeline([('scale',preprocess),('fs',featuresel)])"
   ]
  },
  {
   "cell_type": "markdown",
   "metadata": {},
   "source": [
    "Transform X to include only relevant dimensions"
   ]
  },
  {
   "cell_type": "code",
   "execution_count": 16,
   "metadata": {
    "collapsed": false
   },
   "outputs": [
    {
     "data": {
      "text/plain": [
       "array([[-1.57518755],\n",
       "       [ 0.16159796],\n",
       "       [ 0.92537029],\n",
       "       [ 0.65911606],\n",
       "       [-0.88526339],\n",
       "       [-0.45538114],\n",
       "       [-0.6584635 ],\n",
       "       [-0.31560664],\n",
       "       [ 1.49038758],\n",
       "       [ 0.55036404],\n",
       "       [ 1.51169742],\n",
       "       [-0.56965866],\n",
       "       [-0.90637046],\n",
       "       [-0.93449023],\n",
       "       [ 0.40253276],\n",
       "       [-0.97630703],\n",
       "       [ 0.34155943],\n",
       "       [ 1.57645733],\n",
       "       [-0.41084657],\n",
       "       [ 0.23878196],\n",
       "       [ 0.99724181],\n",
       "       [-0.90030157],\n",
       "       [ 1.08892021],\n",
       "       [-0.56238203],\n",
       "       [ 0.33390826],\n",
       "       [ 0.92669693],\n",
       "       [-0.91635986],\n",
       "       [ 0.12915541],\n",
       "       [-1.16655941],\n",
       "       [-1.00115954],\n",
       "       [ 1.40820583],\n",
       "       [ 1.26872172],\n",
       "       [ 1.24889289],\n",
       "       [ 1.57957333],\n",
       "       [-0.67928096],\n",
       "       [-0.93847621],\n",
       "       [ 0.697887  ],\n",
       "       [-0.69908126],\n",
       "       [-1.18453047],\n",
       "       [ 0.18029206],\n",
       "       [-0.2016645 ],\n",
       "       [-1.05218901],\n",
       "       [-0.62194044],\n",
       "       [ 1.38931967],\n",
       "       [-1.33456641],\n",
       "       [-1.53663286],\n",
       "       [ 0.74547866],\n",
       "       [-1.07497047],\n",
       "       [-1.54096289],\n",
       "       [ 1.0178121 ],\n",
       "       [ 1.26211121],\n",
       "       [ 0.61138777],\n",
       "       [-1.48318644],\n",
       "       [ 0.28671092],\n",
       "       [ 0.89374899],\n",
       "       [ 0.12433461],\n",
       "       [-1.2864631 ],\n",
       "       [ 0.40549691],\n",
       "       [-0.64773259],\n",
       "       [ 0.12394638],\n",
       "       [-1.357566  ],\n",
       "       [-1.46162035],\n",
       "       [-0.66710344],\n",
       "       [ 0.89400076],\n",
       "       [ 1.52817742],\n",
       "       [ 1.61286882],\n",
       "       [-0.91382105],\n",
       "       [-0.49860544],\n",
       "       [-0.71361744],\n",
       "       [ 0.15355055],\n",
       "       [-1.01708026],\n",
       "       [ 0.06742533],\n",
       "       [ 0.4833783 ],\n",
       "       [ 1.00099281],\n",
       "       [-1.36392116],\n",
       "       [ 1.1538244 ],\n",
       "       [-1.18502931],\n",
       "       [ 0.56097651],\n",
       "       [-0.26441238],\n",
       "       [-0.65449309],\n",
       "       [ 1.34845045],\n",
       "       [-1.53932677],\n",
       "       [-0.4157352 ],\n",
       "       [ 1.00322179],\n",
       "       [ 1.621655  ],\n",
       "       [-0.56761873],\n",
       "       [ 1.23859763],\n",
       "       [ 0.8810776 ],\n",
       "       [-1.53044475],\n",
       "       [ 0.07978399],\n",
       "       [ 1.23085469],\n",
       "       [-1.48490362],\n",
       "       [ 0.17906128],\n",
       "       [ 0.35108615],\n",
       "       [-0.76119036],\n",
       "       [ 1.52965531],\n",
       "       [ 1.25040724],\n",
       "       [ 1.43548481],\n",
       "       [ 0.17097799],\n",
       "       [-1.44071182]])"
      ]
     },
     "execution_count": 16,
     "metadata": {},
     "output_type": "execute_result"
    }
   ],
   "source": [
    "pipeline.fit(X,y).transform(X)"
   ]
  }
 ],
 "metadata": {
  "anaconda-cloud": {},
  "kernelspec": {
   "display_name": "Python [default]",
   "language": "python",
   "name": "python3"
  },
  "language_info": {
   "codemirror_mode": {
    "name": "ipython",
    "version": 3
   },
   "file_extension": ".py",
   "mimetype": "text/x-python",
   "name": "python",
   "nbconvert_exporter": "python",
   "pygments_lexer": "ipython3",
   "version": "3.5.2"
  }
 },
 "nbformat": 4,
 "nbformat_minor": 1
}
