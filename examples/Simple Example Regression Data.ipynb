{
 "cells": [
  {
   "cell_type": "markdown",
   "metadata": {},
   "source": [
    "## Regression data"
   ]
  },
  {
   "cell_type": "code",
   "execution_count": 1,
   "metadata": {},
   "outputs": [
    {
     "name": "stdout",
     "output_type": "stream",
     "text": [
      "Generating dataset with d=6,n=100,strongly=2,weakly=2, partition of weakly=None\n"
     ]
    }
   ],
   "source": [
    "from fri import genRegressionData\n",
    "X,y = genRegressionData(n_samples=100, n_features=6,strRel=2, n_redundant=2,\n",
    "                    n_repeated=0)"
   ]
  },
  {
   "cell_type": "code",
   "execution_count": 2,
   "metadata": {},
   "outputs": [
    {
     "data": {
      "text/plain": [
       "(100, 6)"
      ]
     },
     "execution_count": 2,
     "metadata": {},
     "output_type": "execute_result"
    }
   ],
   "source": [
    "X.shape"
   ]
  },
  {
   "cell_type": "markdown",
   "metadata": {},
   "source": [
    "We created a regression set with 6 features of which 2 are strongly relevant and 2 weakly relevant."
   ]
  },
  {
   "cell_type": "markdown",
   "metadata": {},
   "source": [
    "Scale Data"
   ]
  },
  {
   "cell_type": "code",
   "execution_count": 3,
   "metadata": {
    "collapsed": true
   },
   "outputs": [],
   "source": [
    "from sklearn.preprocessing import StandardScaler\n",
    "X_scaled = StandardScaler().fit_transform(X)"
   ]
  },
  {
   "cell_type": "markdown",
   "metadata": {},
   "source": [
    "New object for Regression Data"
   ]
  },
  {
   "cell_type": "code",
   "execution_count": 5,
   "metadata": {},
   "outputs": [],
   "source": [
    "from fri import FRIRegression\n",
    "fri = FRIRegression()"
   ]
  },
  {
   "cell_type": "markdown",
   "metadata": {},
   "source": [
    "Fit to data"
   ]
  },
  {
   "cell_type": "code",
   "execution_count": 6,
   "metadata": {},
   "outputs": [],
   "source": [
    "fri.fit(X_scaled,y)"
   ]
  },
  {
   "cell_type": "markdown",
   "metadata": {},
   "source": [
    "Print out feature relevance intervals"
   ]
  },
  {
   "cell_type": "code",
   "execution_count": 7,
   "metadata": {},
   "outputs": [
    {
     "data": {
      "text/plain": [
       "array([[ 0.25071035,  0.25071142],\n",
       "       [ 0.38530492,  0.38530599],\n",
       "       [ 0.        ,  0.363984  ],\n",
       "       [ 0.        ,  0.363984  ],\n",
       "       [ 0.        ,  0.        ],\n",
       "       [ 0.        ,  0.        ]])"
      ]
     },
     "execution_count": 7,
     "metadata": {},
     "output_type": "execute_result"
    }
   ],
   "source": [
    "fri.interval_"
   ]
  },
  {
   "cell_type": "markdown",
   "metadata": {},
   "source": [
    "### Plot results"
   ]
  },
  {
   "cell_type": "code",
   "execution_count": 8,
   "metadata": {},
   "outputs": [
    {
     "data": {
      "image/png": "[encoded data removed]",
      "text/plain": [
       "<matplotlib.figure.Figure at 0x7f31018b5630>"
      ]
     },
     "execution_count": 8,
     "metadata": {},
     "output_type": "execute_result"
    }
   ],
   "source": [
    "from fri import plot\n",
    "plot.plotIntervals(fri.interval_)"
   ]
  },
  {
   "cell_type": "markdown",
   "metadata": {},
   "source": [
    "### Print internal Parameters"
   ]
  },
  {
   "cell_type": "code",
   "execution_count": 9,
   "metadata": {},
   "outputs": [
    {
     "data": {
      "text/plain": [
       "array([ True,  True,  True,  True, False, False], dtype=bool)"
      ]
     },
     "execution_count": 9,
     "metadata": {},
     "output_type": "execute_result"
    }
   ],
   "source": [
    "fri.allrel_prediction_"
   ]
  },
  {
   "cell_type": "markdown",
   "metadata": {},
   "source": [
    "Print out hyperparameter found by GridSearchCV"
   ]
  },
  {
   "cell_type": "code",
   "execution_count": 10,
   "metadata": {},
   "outputs": [
    {
     "data": {
      "text/plain": [
       "0.1"
      ]
     },
     "execution_count": 10,
     "metadata": {},
     "output_type": "execute_result"
    }
   ],
   "source": [
    "fri._hyper_C"
   ]
  },
  {
   "cell_type": "markdown",
   "metadata": {},
   "source": [
    "Get weights for linear models used for each feature optimization"
   ]
  },
  {
   "cell_type": "code",
   "execution_count": 11,
   "metadata": {},
   "outputs": [
    {
     "data": {
      "text/plain": [
       "array([[[  5.65031883e+01,   8.68372346e+01,   4.10159035e+01,\n",
       "          -4.10159035e+01,  -1.76677448e-05,  -3.59435082e-05],\n",
       "        [  5.65034288e+01,   8.68371304e+01,   4.10159113e+01,\n",
       "          -4.10159112e+01,  -3.09392572e-12,   1.63181179e-12]],\n",
       "\n",
       "       [[  5.65033607e+01,   8.68370865e+01,   4.10159255e+01,\n",
       "          -4.10159254e+01,  -3.57067215e-05,  -3.07346987e-05],\n",
       "        [  5.65032595e+01,   8.68373294e+01,   4.10158963e+01,\n",
       "          -4.10158964e+01,  -6.05526187e-12,   3.74292420e-11]],\n",
       "\n",
       "       [[  5.65033230e+01,   8.68372105e+01,  -4.77276466e-14,\n",
       "          -8.20318341e+01,  -1.02736382e-06,  -9.38403990e-07],\n",
       "        [  5.65032614e+01,   8.68371421e+01,   8.20319411e+01,\n",
       "           3.70421810e-05,   1.90750096e-11,   1.98305845e-10]],\n",
       "\n",
       "       [[  5.65033230e+01,   8.68372105e+01,   8.20318341e+01,\n",
       "           4.77276389e-14,  -1.02736382e-06,  -9.38403991e-07],\n",
       "        [  5.65032614e+01,   8.68371421e+01,  -3.70421810e-05,\n",
       "          -8.20319411e+01,   1.90750086e-11,   1.98305844e-10]],\n",
       "\n",
       "       [[  5.65033244e+01,   8.68372119e+01,   4.10159178e+01,\n",
       "          -4.10159178e+01,   4.37484049e-13,  -8.13790263e-07],\n",
       "        [  5.65032940e+01,   8.68371787e+01,   4.10158952e+01,\n",
       "          -4.10158951e+01,  -1.18600443e-04,  -1.32537500e-12]],\n",
       "\n",
       "       [[  5.65033244e+01,   8.68372118e+01,   4.10159178e+01,\n",
       "          -4.10159179e+01,  -9.39001649e-07,   2.98873043e-13],\n",
       "        [  5.65032933e+01,   8.68371856e+01,   4.10158925e+01,\n",
       "          -4.10158925e+01,  -7.05230486e-12,  -1.17597786e-04]]])"
      ]
     },
     "execution_count": 11,
     "metadata": {},
     "output_type": "execute_result"
    }
   ],
   "source": [
    "fri._omegas"
   ]
  }
 ],
 "metadata": {
  "anaconda-cloud": {},
  "kernelspec": {
   "display_name": "Python 3",
   "language": "python",
   "name": "python3"
  },
  "language_info": {
   "codemirror_mode": {
    "name": "ipython",
    "version": 3
   },
   "file_extension": ".py",
   "mimetype": "text/x-python",
   "name": "python",
   "nbconvert_exporter": "python",
   "pygments_lexer": "ipython3",
   "version": "3.6.3"
  },
  "varInspector": {
   "cols": {
    "lenName": 16,
    "lenType": 16,
    "lenVar": 40
   },
   "kernels_config": {
    "python": {
     "delete_cmd_postfix": "",
     "delete_cmd_prefix": "del ",
     "library": "var_list.py",
     "varRefreshCmd": "print(var_dic_list())"
    },
    "r": {
     "delete_cmd_postfix": ") ",
     "delete_cmd_prefix": "rm(",
     "library": "var_list.r",
     "varRefreshCmd": "cat(var_dic_list()) "
    }
   },
   "types_to_exclude": [
    "module",
    "function",
    "builtin_function_or_method",
    "instance",
    "_Feature"
   ],
   "window_display": false
  }
 },
 "nbformat": 4,
 "nbformat_minor": 1
}
