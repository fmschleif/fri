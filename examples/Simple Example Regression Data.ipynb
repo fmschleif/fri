{
 "cells": [
  {
   "cell_type": "markdown",
   "metadata": {},
   "source": [
    "## Regression data"
   ]
  },
  {
   "cell_type": "code",
   "execution_count": 1,
   "metadata": {},
   "outputs": [
    {
     "name": "stdout",
     "output_type": "stream",
     "text": [
      "Generating dataset with d=6,n=100,strongly=2,weakly=2, partition of weakly=None\n"
     ]
    }
   ],
   "source": [
    "from fri import genRegressionData\n",
    "X,y = genRegressionData(n_samples=100, n_features=6,n_strel=2, n_redundant=2,\n",
    "                    n_repeated=0)"
   ]
  },
  {
   "cell_type": "code",
   "execution_count": 2,
   "metadata": {},
   "outputs": [
    {
     "data": {
      "text/plain": [
       "(100, 6)"
      ]
     },
     "execution_count": 2,
     "metadata": {},
     "output_type": "execute_result"
    }
   ],
   "source": [
    "X.shape"
   ]
  },
  {
   "cell_type": "markdown",
   "metadata": {},
   "source": [
    "We created a regression set with 6 features of which 2 are strongly relevant and 2 weakly relevant."
   ]
  },
  {
   "cell_type": "markdown",
   "metadata": {},
   "source": [
    "Scale Data"
   ]
  },
  {
   "cell_type": "code",
   "execution_count": 3,
   "metadata": {
    "collapsed": true
   },
   "outputs": [],
   "source": [
    "from sklearn.preprocessing import StandardScaler\n",
    "X_scaled = StandardScaler().fit_transform(X)"
   ]
  },
  {
   "cell_type": "markdown",
   "metadata": {},
   "source": [
    "New object for Regression Data"
   ]
  },
  {
   "cell_type": "code",
   "execution_count": 4,
   "metadata": {
    "collapsed": true
   },
   "outputs": [],
   "source": [
    "from fri import FRIRegression\n",
    "fri = FRIRegression()"
   ]
  },
  {
   "cell_type": "markdown",
   "metadata": {},
   "source": [
    "Fit to data"
   ]
  },
  {
   "cell_type": "code",
   "execution_count": 5,
   "metadata": {
    "collapsed": true
   },
   "outputs": [],
   "source": [
    "fri.fit(X_scaled,y)"
   ]
  },
  {
   "cell_type": "markdown",
   "metadata": {},
   "source": [
    "Print out feature relevance intervals"
   ]
  },
  {
   "cell_type": "code",
   "execution_count": 6,
   "metadata": {},
   "outputs": [
    {
     "data": {
      "text/plain": [
       "array([[ 0.33936377,  0.33936646],\n",
       "       [ 0.15362383,  0.15362644],\n",
       "       [ 0.        ,  0.50701066],\n",
       "       [ 0.        ,  0.50701066],\n",
       "       [ 0.        ,  0.        ],\n",
       "       [ 0.        ,  0.        ]])"
      ]
     },
     "execution_count": 6,
     "metadata": {},
     "output_type": "execute_result"
    }
   ],
   "source": [
    "fri.interval_"
   ]
  },
  {
   "cell_type": "markdown",
   "metadata": {},
   "source": [
    "### Plot results"
   ]
  },
  {
   "cell_type": "code",
   "execution_count": 7,
   "metadata": {},
   "outputs": [
    {
     "data": {
      "image/png": "[encoded data removed]",
      "text/plain": [
       "<matplotlib.figure.Figure at 0x7f76cf155e80>"
      ]
     },
     "execution_count": 7,
     "metadata": {},
     "output_type": "execute_result"
    }
   ],
   "source": [
    "from fri import plot\n",
    "plot.plotIntervals(fri.interval_)"
   ]
  },
  {
   "cell_type": "markdown",
   "metadata": {},
   "source": [
    "### Print internal Parameters"
   ]
  },
  {
   "cell_type": "code",
   "execution_count": 8,
   "metadata": {},
   "outputs": [
    {
     "data": {
      "text/plain": [
       "array([ True,  True,  True,  True, False, False], dtype=bool)"
      ]
     },
     "execution_count": 8,
     "metadata": {},
     "output_type": "execute_result"
    }
   ],
   "source": [
    "fri.allrel_prediction_"
   ]
  },
  {
   "cell_type": "markdown",
   "metadata": {},
   "source": [
    "Print out hyperparameter found by GridSearchCV"
   ]
  },
  {
   "cell_type": "code",
   "execution_count": 9,
   "metadata": {},
   "outputs": [
    {
     "data": {
      "text/plain": [
       "0.1"
      ]
     },
     "execution_count": 9,
     "metadata": {},
     "output_type": "execute_result"
    }
   ],
   "source": [
    "fri._hyper_C"
   ]
  },
  {
   "cell_type": "markdown",
   "metadata": {},
   "source": [
    "Get weights for linear models used for each feature optimization"
   ]
  },
  {
   "cell_type": "code",
   "execution_count": 10,
   "metadata": {},
   "outputs": [
    {
     "data": {
      "text/plain": [
       "array([[[  3.07051117e+01,   1.38997831e+01,   2.29367278e+01,\n",
       "          -2.29367278e+01,  -5.70483961e-06,  -1.67787660e-06],\n",
       "        [  3.07053554e+01,   1.38997274e+01,   2.29366892e+01,\n",
       "          -2.29366892e+01,   2.52969629e-13,   8.25776096e-15]],\n",
       "\n",
       "       [[  3.07052564e+01,   1.38996481e+01,   2.29367194e+01,\n",
       "          -2.29367194e+01,  -9.84115826e-06,  -1.53639541e-05],\n",
       "        [  3.07051888e+01,   1.38998838e+01,   2.29366942e+01,\n",
       "          -2.29366943e+01,   6.47243885e-14,  -9.24167331e-13]],\n",
       "\n",
       "       [[  3.07052430e+01,   1.38997733e+01,   7.52916587e-15,\n",
       "          -4.58734338e+01,  -1.47129508e-07,  -3.78221895e-07],\n",
       "        [  3.07051819e+01,   1.38997114e+01,   4.58735440e+01,\n",
       "           2.38695607e-05,   2.67547441e-11,  -1.78227918e-13]],\n",
       "\n",
       "       [[  3.07052430e+01,   1.38997733e+01,   4.58734338e+01,\n",
       "          -7.52916622e-15,  -1.47129507e-07,  -3.78221895e-07],\n",
       "        [  3.07051819e+01,   1.38997114e+01,  -2.38695607e-05,\n",
       "          -4.58735440e+01,   2.67547437e-11,  -1.78228416e-13]],\n",
       "\n",
       "       [[  3.07052420e+01,   1.38997718e+01,   2.29367161e+01,\n",
       "          -2.29367161e+01,   1.83160670e-15,  -5.20715753e-07],\n",
       "        [  3.07052036e+01,   1.38997231e+01,   2.29367104e+01,\n",
       "          -2.29367104e+01,  -1.13722900e-04,  -1.28038096e-14]],\n",
       "\n",
       "       [[  3.07052420e+01,   1.38997718e+01,   2.29367161e+01,\n",
       "          -2.29367161e+01,  -1.07668708e-07,   1.20131665e-15],\n",
       "        [  3.07052150e+01,   1.38997489e+01,   2.29366915e+01,\n",
       "          -2.29366915e+01,  -4.02939140e-14,  -1.14223574e-04]]])"
      ]
     },
     "execution_count": 10,
     "metadata": {},
     "output_type": "execute_result"
    }
   ],
   "source": [
    "fri._omegas"
   ]
  }
 ],
 "metadata": {
  "anaconda-cloud": {},
  "kernelspec": {
   "display_name": "Python 3",
   "language": "python",
   "name": "python3"
  },
  "language_info": {
   "codemirror_mode": {
    "name": "ipython",
    "version": 3
   },
   "file_extension": ".py",
   "mimetype": "text/x-python",
   "name": "python",
   "nbconvert_exporter": "python",
   "pygments_lexer": "ipython3",
   "version": "3.6.3"
  },
  "varInspector": {
   "cols": {
    "lenName": 16,
    "lenType": 16,
    "lenVar": 40
   },
   "kernels_config": {
    "python": {
     "delete_cmd_postfix": "",
     "delete_cmd_prefix": "del ",
     "library": "var_list.py",
     "varRefreshCmd": "print(var_dic_list())"
    },
    "r": {
     "delete_cmd_postfix": ") ",
     "delete_cmd_prefix": "rm(",
     "library": "var_list.r",
     "varRefreshCmd": "cat(var_dic_list()) "
    }
   },
   "types_to_exclude": [
    "module",
    "function",
    "builtin_function_or_method",
    "instance",
    "_Feature"
   ],
   "window_display": false
  }
 },
 "nbformat": 4,
 "nbformat_minor": 1
}
