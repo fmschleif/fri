{
 "cells": [
  {
   "cell_type": "markdown",
   "metadata": {},
   "source": [
    "## Regression data"
   ]
  },
  {
   "cell_type": "code",
   "execution_count": 32,
   "metadata": {
    "collapsed": false
   },
   "outputs": [],
   "source": [
    "from rbclassifier.genData import genRegressionData\n",
    "X,y = genRegressionData(n_samples=100, n_features=6,strRel=2, n_redundant=2,\n",
    "                    n_repeated=0)"
   ]
  },
  {
   "cell_type": "code",
   "execution_count": 33,
   "metadata": {
    "collapsed": false
   },
   "outputs": [
    {
     "data": {
      "text/plain": [
       "(100, 6)"
      ]
     },
     "execution_count": 33,
     "metadata": {},
     "output_type": "execute_result"
    }
   ],
   "source": [
    "X.shape"
   ]
  },
  {
   "cell_type": "markdown",
   "metadata": {},
   "source": [
    "We created a regression set with 6 features of which 2 are strongly relevant and 2 weakly relevant."
   ]
  },
  {
   "cell_type": "markdown",
   "metadata": {},
   "source": [
    "Scale Data"
   ]
  },
  {
   "cell_type": "code",
   "execution_count": 34,
   "metadata": {
    "collapsed": true
   },
   "outputs": [],
   "source": [
    "from sklearn.preprocessing import StandardScaler\n",
    "X_scaled = StandardScaler().fit_transform(X)"
   ]
  },
  {
   "cell_type": "markdown",
   "metadata": {},
   "source": [
    "New object for Regression Data"
   ]
  },
  {
   "cell_type": "code",
   "execution_count": 43,
   "metadata": {
    "collapsed": true
   },
   "outputs": [],
   "source": [
    "from rbclassifier.rbclassifier import RelevanceBoundsRegressor\n",
    "fri = RelevanceBoundsRegressor()"
   ]
  },
  {
   "cell_type": "markdown",
   "metadata": {},
   "source": [
    "Fit to data"
   ]
  },
  {
   "cell_type": "code",
   "execution_count": 44,
   "metadata": {
    "collapsed": false
   },
   "outputs": [],
   "source": [
    "fri.fit(X_scaled,y)"
   ]
  },
  {
   "cell_type": "markdown",
   "metadata": {},
   "source": [
    "Print out feature relevance intervals"
   ]
  },
  {
   "cell_type": "code",
   "execution_count": 45,
   "metadata": {
    "collapsed": false
   },
   "outputs": [
    {
     "data": {
      "text/plain": [
       "array([[ 0.88431789,  0.86834644],\n",
       "       [ 0.31614728,  0.43972516],\n",
       "       [ 0.        ,  0.88370506],\n",
       "       [ 0.        ,  0.86896344],\n",
       "       [ 0.        ,  0.        ],\n",
       "       [ 0.        ,  0.00298837]])"
      ]
     },
     "execution_count": 45,
     "metadata": {},
     "output_type": "execute_result"
    }
   ],
   "source": [
    "fri.interval_"
   ]
  },
  {
   "cell_type": "markdown",
   "metadata": {},
   "source": [
    "### Plot results"
   ]
  },
  {
   "cell_type": "code",
   "execution_count": 46,
   "metadata": {
    "collapsed": false
   },
   "outputs": [
    {
     "data": {
      "image/png": "[encoded data removed]",
      "text/plain": [
       "<matplotlib.figure.Figure at 0x7f56b2323ef0>"
      ]
     },
     "execution_count": 46,
     "metadata": {},
     "output_type": "execute_result"
    }
   ],
   "source": [
    "from rbclassifier import plot\n",
    "plot.plotIntervals(fri.interval_)"
   ]
  },
  {
   "cell_type": "markdown",
   "metadata": {},
   "source": [
    "### Print internal Parameters"
   ]
  },
  {
   "cell_type": "code",
   "execution_count": 47,
   "metadata": {
    "collapsed": false
   },
   "outputs": [
    {
     "data": {
      "text/plain": [
       "array([ True,  True,  True,  True, False, False], dtype=bool)"
      ]
     },
     "execution_count": 47,
     "metadata": {},
     "output_type": "execute_result"
    }
   ],
   "source": [
    "fri.allrel_prediction_"
   ]
  },
  {
   "cell_type": "markdown",
   "metadata": {},
   "source": [
    "Print out hyperparameter found by GridSearchCV"
   ]
  },
  {
   "cell_type": "code",
   "execution_count": 48,
   "metadata": {
    "collapsed": false
   },
   "outputs": [
    {
     "data": {
      "text/plain": [
       "22.222999999999999"
      ]
     },
     "execution_count": 48,
     "metadata": {},
     "output_type": "execute_result"
    }
   ],
   "source": [
    "fri._hyper_C"
   ]
  },
  {
   "cell_type": "markdown",
   "metadata": {},
   "source": [
    "Get weights for linear models used for each feature optimization"
   ]
  },
  {
   "cell_type": "code",
   "execution_count": 49,
   "metadata": {
    "collapsed": false
   },
   "outputs": [
    {
     "data": {
      "text/plain": [
       "array([[[  4.67733959e+01,   2.38763716e+01,   2.87995741e+01,\n",
       "          -2.87995741e+01,  -1.09993955e+00,   1.75233868e-01],\n",
       "        [  5.28920610e+01,   2.33735675e+01,   2.98397706e+01,\n",
       "          -2.98397706e+01,  -9.80339432e-02,   2.13887361e-01]],\n",
       "\n",
       "       [[  5.40666808e+01,   1.67216811e+01,   2.95404092e+01,\n",
       "          -2.95404092e+01,   1.88619921e-01,   1.04296082e+00],\n",
       "        [  5.18534988e+01,   3.04570272e+01,   2.97100956e+01,\n",
       "          -2.97100956e+01,  -4.98679553e-01,  -9.91747961e-01]],\n",
       "\n",
       "       [[  5.32031099e+01,   2.33130924e+01,   2.70712342e-13,\n",
       "          -5.97073500e+01,  -3.67485783e-02,   2.83290894e-01],\n",
       "        [  5.32341140e+01,   2.33221692e+01,  -5.28920610e+01,\n",
       "          -1.12608789e+02,  -2.70395309e-02,   3.02530762e-01]],\n",
       "\n",
       "       [[  5.32031099e+01,   2.33130924e+01,   5.97073500e+01,\n",
       "          -2.70712347e-13,  -3.67485783e-02,   2.83290894e-01],\n",
       "        [  5.32341140e+01,   2.33221692e+01,   1.12608789e+02,\n",
       "           5.28920610e+01,  -2.70395309e-02,   3.02530762e-01]],\n",
       "\n",
       "       [[  5.32089642e+01,   2.33039124e+01,   2.98563613e+01,\n",
       "          -2.98563613e+01,  -8.81809031e-13,   2.86194935e-01],\n",
       "        [  5.28545054e+01,   2.38223742e+01,   2.95351748e+01,\n",
       "          -2.95351748e+01,  -6.26668119e+00,  -1.64339191e-01]],\n",
       "\n",
       "       [[  5.31481329e+01,   2.33020813e+01,   2.98725952e+01,\n",
       "          -2.98725952e+01,  -7.51815537e-02,   1.58470574e-14],\n",
       "        [  5.36749414e+01,   2.40153856e+01,   2.92812963e+01,\n",
       "          -2.92812963e+01,   4.39045631e-01,   6.67539692e+00]]])"
      ]
     },
     "execution_count": 49,
     "metadata": {},
     "output_type": "execute_result"
    }
   ],
   "source": [
    "fri._omegas"
   ]
  },
  {
   "cell_type": "code",
   "execution_count": null,
   "metadata": {
    "collapsed": true
   },
   "outputs": [],
   "source": []
  }
 ],
 "metadata": {
  "anaconda-cloud": {},
  "kernelspec": {
   "display_name": "Python 3",
   "language": "python",
   "name": "python3"
  },
  "language_info": {
   "codemirror_mode": {
    "name": "ipython",
    "version": 3
   },
   "file_extension": ".py",
   "mimetype": "text/x-python",
   "name": "python",
   "nbconvert_exporter": "python",
   "pygments_lexer": "ipython3",
   "version": "3.5.2"
  }
 },
 "nbformat": 4,
 "nbformat_minor": 0
}
