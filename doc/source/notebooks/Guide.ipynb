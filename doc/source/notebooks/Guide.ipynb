{
 "cells": [
  {
   "cell_type": "markdown",
   "metadata": {},
   "source": [
    "# Quick start guide\n"
   ]
  },
  {
   "cell_type": "markdown",
   "metadata": {},
   "source": [
    "## Installation\n",
    "### Stable\n",
    "Fri can be installed via the Python Package Index (PyPI).\n",
    "\n",
    "If you have `pip` installed just execute the command\n",
    "\n",
    "    pip install fri\n",
    "   \n",
    "to get the newest stable version.\n",
    "\n",
    "The dependencies should be installed and checked automatically.\n",
    "If you have problems installing please open issue at our [tracker](https://github.com/lpfann/fri/issues/new).\n",
    "\n",
    "### Development\n",
    "To install a bleeding edge dev version of `FRI` you can clone the GitHub repository using\n",
    "\n",
    "    git clone git@github.com:lpfann/fri.git\n",
    "\n",
    "and then check out the `dev` branch: `git checkout dev`.\n",
    "\n",
    "To check if everything works as intented you can use `pytest` to run the unit tests.\n",
    "Just run the command\n",
    "\n",
    "    pytest\n",
    "\n",
    "in the main project folder"
   ]
  },
  {
   "cell_type": "markdown",
   "metadata": {},
   "source": [
    "## Using FRI\n",
    "Now we showcase the workflow of using FRI on a simple classification problem.\n",
    "\n",
    "### Data\n",
    "To have something to work with, we need some data first.\n",
    "`fri` includes a generation method for binary classification and regression data.\n",
    "\n",
    "In our case we need some classification data."
   ]
  },
  {
   "cell_type": "code",
   "execution_count": 51,
   "metadata": {
    "collapsed": true
   },
   "outputs": [],
   "source": [
    "from fri import genClassificationData"
   ]
  },
  {
   "cell_type": "markdown",
   "metadata": {},
   "source": [
    "We want to create a small set with a few features.\n",
    "\n",
    "Because we want to showcase the all-relevant feature selection, we generate multiple strongly and weakly relevant features."
   ]
  },
  {
   "cell_type": "code",
   "execution_count": 52,
   "metadata": {
    "collapsed": true
   },
   "outputs": [],
   "source": [
    "n = 100\n",
    "features = 6\n",
    "strongly_relevant = 2\n",
    "weakly_relevant = 2"
   ]
  },
  {
   "cell_type": "code",
   "execution_count": 53,
   "metadata": {},
   "outputs": [
    {
     "name": "stdout",
     "output_type": "stream",
     "text": [
      "Generating dataset with d=6,n=100,strongly=2,weakly=2, partition of weakly=None\n"
     ]
    }
   ],
   "source": [
    "X,y = genClassificationData(n_samples=n,\n",
    "                            n_features=features,\n",
    "                            n_strel=strongly_relevant,\n",
    "                            n_redundant=weakly_relevant,\n",
    "                            random_state=123)"
   ]
  },
  {
   "cell_type": "markdown",
   "metadata": {},
   "source": [
    "The method also prints out the parameters again."
   ]
  },
  {
   "cell_type": "code",
   "execution_count": 54,
   "metadata": {},
   "outputs": [
    {
     "data": {
      "text/plain": [
       "(100, 6)"
      ]
     },
     "execution_count": 54,
     "metadata": {},
     "output_type": "execute_result"
    }
   ],
   "source": [
    "X.shape"
   ]
  },
  {
   "cell_type": "markdown",
   "metadata": {},
   "source": [
    "We created a binary classification set with 6 features of which 2 are strongly relevant and 2 weakly relevant."
   ]
  },
  {
   "cell_type": "markdown",
   "metadata": {},
   "source": [
    "#### Preprocess\n",
    "Because our method expects mean centered data we need to standardize it first.\n",
    "This centers the values around 0 and deviation to the standard deviation"
   ]
  },
  {
   "cell_type": "code",
   "execution_count": 55,
   "metadata": {
    "collapsed": true
   },
   "outputs": [],
   "source": [
    "from sklearn.preprocessing import StandardScaler\n",
    "X_scaled = StandardScaler().fit_transform(X)"
   ]
  },
  {
   "cell_type": "markdown",
   "metadata": {},
   "source": [
    "### Model\n",
    "Now we need to creata a Model. \n",
    "We use the `FRIClassification` class.\n",
    "\n",
    "For regression one would use `FRIRegression`"
   ]
  },
  {
   "cell_type": "code",
   "execution_count": 56,
   "metadata": {
    "collapsed": true
   },
   "outputs": [],
   "source": [
    "from fri import FRIClassification\n",
    "fri_model = FRIClassification()"
   ]
  },
  {
   "cell_type": "code",
   "execution_count": 57,
   "metadata": {},
   "outputs": [
    {
     "data": {
      "text/plain": [
       "FRIClassification(C=None, debug=False, n_resampling=3,\n",
       "         optimum_deviation=0.001, parallel=False, random_state=None)"
      ]
     },
     "execution_count": 57,
     "metadata": {},
     "output_type": "execute_result"
    }
   ],
   "source": [
    "fri_model"
   ]
  },
  {
   "cell_type": "markdown",
   "metadata": {},
   "source": [
    "We used no parameters for creation so the defaults are active.\n",
    "\n",
    "`C=None` means, that `FRI` itself chooses the regularization parameter `C` using crossvalidation on a fixed grid.\n",
    "\n",
    "By default, parallel computation is also disabled but can be enabled using `parallel=True`."
   ]
  },
  {
   "cell_type": "markdown",
   "metadata": {},
   "source": [
    "#### Fitting to data\n",
    "Now we can just fit the model to the data using `scikit-learn` like commands."
   ]
  },
  {
   "cell_type": "code",
   "execution_count": 58,
   "metadata": {
    "collapsed": true
   },
   "outputs": [],
   "source": [
    "fri_model.fit(X_scaled,y)"
   ]
  },
  {
   "cell_type": "markdown",
   "metadata": {},
   "source": [
    "The resulting feature relevance bounds are saved in the `interval_` variable."
   ]
  },
  {
   "cell_type": "code",
   "execution_count": 59,
   "metadata": {},
   "outputs": [
    {
     "data": {
      "text/plain": [
       "array([[0.45993233, 0.46169499],\n",
       "       [0.26954548, 0.27159876],\n",
       "       [0.        , 0.25802293],\n",
       "       [0.        , 0.25802293],\n",
       "       [0.00516909, 0.00711219],\n",
       "       [0.00446591, 0.00694219]])"
      ]
     },
     "execution_count": 59,
     "metadata": {},
     "output_type": "execute_result"
    }
   ],
   "source": [
    "fri_model.interval_"
   ]
  },
  {
   "cell_type": "code",
   "execution_count": 60,
   "metadata": {},
   "outputs": [
    {
     "data": {
      "text/plain": [
       "(6, 2)"
      ]
     },
     "execution_count": 60,
     "metadata": {},
     "output_type": "execute_result"
    }
   ],
   "source": [
    "fri_model.interval_.shape"
   ]
  },
  {
   "cell_type": "markdown",
   "metadata": {},
   "source": [
    "The bounds are grouped in 2d sublists for each feature.\n",
    "\n",
    "\n",
    "To acess the relevance bounds for feature 2 we would use"
   ]
  },
  {
   "cell_type": "code",
   "execution_count": 62,
   "metadata": {},
   "outputs": [
    {
     "data": {
      "text/plain": [
       "array([0.        , 0.25802293])"
      ]
     },
     "execution_count": 62,
     "metadata": {},
     "output_type": "execute_result"
    }
   ],
   "source": [
    "fri_model.interval_[2]"
   ]
  },
  {
   "cell_type": "markdown",
   "metadata": {},
   "source": [
    "The relevance classes are saved in the corresponding variable `relevance_classes_`:"
   ]
  },
  {
   "cell_type": "code",
   "execution_count": 63,
   "metadata": {},
   "outputs": [
    {
     "data": {
      "text/plain": [
       "array([2, 2, 1, 1, 0, 0])"
      ]
     },
     "execution_count": 63,
     "metadata": {},
     "output_type": "execute_result"
    }
   ],
   "source": [
    "fri_model.relevance_classes_"
   ]
  },
  {
   "cell_type": "markdown",
   "metadata": {},
   "source": [
    "`2` denotes strongly relevant features, `1` weakly relevant and `0` irrelevant."
   ]
  },
  {
   "cell_type": "markdown",
   "metadata": {},
   "source": [
    "#### Plot results\n",
    "\n",
    "The bounds in numerical form are useful for postprocesing.\n",
    "If we want a human to look at it, we recommend the plot function `plot_relevance_bars`.\n",
    "\n",
    "We can also color the bars according to `relevance_classes_`"
   ]
  },
  {
   "cell_type": "code",
   "execution_count": 66,
   "metadata": {},
   "outputs": [
    {
     "data": {
      "image/png": "[encoded data removed]",
      "text/plain": [
       "<matplotlib.figure.Figure at 0x7f31bee3e3c8>"
      ]
     },
     "metadata": {},
     "output_type": "display_data"
    }
   ],
   "source": [
    "# Import plot function\n",
    "from fri.plot import plot_relevance_bars\n",
    "import matplotlib.pyplot as plt\n",
    "%matplotlib inline\n",
    "# Create new figure, where we can put an axis on\n",
    "fig, ax = plt.subplots(1, 1,figsize=(6,3))\n",
    "# plot the bars on the axis, colored according to fri\n",
    "out = plot_relevance_bars(ax,fri_model.interval_,classes=fri_model.relevance_classes_)"
   ]
  },
  {
   "cell_type": "markdown",
   "metadata": {},
   "source": [
    "In the plot we can see both strongly relevant features 1 and 2 not allowing much change in their contribution.\n",
    "Feature 3 and 4 are highly correlated and show therefore a big variance.\n",
    "Noise features 5 and 6 show some necessary contribution which can be accounted to numerical instabilities of the solver."
   ]
  },
  {
   "cell_type": "markdown",
   "metadata": {},
   "source": [
    "### Print internal Parameters\n",
    "\n",
    "If we want to take at internal parameters, we can use the `debug` flag in the model creation."
   ]
  },
  {
   "cell_type": "code",
   "execution_count": 67,
   "metadata": {
    "collapsed": true
   },
   "outputs": [],
   "source": [
    "fri_model = FRIClassification(debug=True)"
   ]
  },
  {
   "cell_type": "code",
   "execution_count": 68,
   "metadata": {},
   "outputs": [
    {
     "name": "stdout",
     "output_type": "stream",
     "text": [
      "loss 0.517120931358002\n",
      "L1 6.743126681372926\n",
      "offset 0.32474176019022094\n",
      "C 1\n",
      "score 1.0\n",
      "coef:\n",
      "[[ 3.10516847]\n",
      " [-1.82001413]\n",
      " [ 0.86614471]\n",
      " [-0.86614471]\n",
      " [-0.03919911]\n",
      " [-0.03971916]]\n"
     ]
    }
   ],
   "source": [
    "fri_model.fit(X_scaled,y)"
   ]
  },
  {
   "cell_type": "markdown",
   "metadata": {},
   "source": [
    "This prints out the parameters of the baseline model `loss` (sum of slack), `L1` ($L_1$ norm of weight vector) and `offset` (from the origin).\n",
    "`coef` shows the coefficients of the baseline model.\n",
    "\n",
    "One can also see the best `C` according to gridsearch and the training score of the model in `score`.\n",
    "\n",
    "These values can also be accessed by the object variables."
   ]
  },
  {
   "cell_type": "markdown",
   "metadata": {},
   "source": [
    "##### Print out hyperparameter found by GridSearchCV:"
   ]
  },
  {
   "cell_type": "code",
   "execution_count": 69,
   "metadata": {},
   "outputs": [
    {
     "data": {
      "text/plain": [
       "1"
      ]
     },
     "execution_count": 69,
     "metadata": {},
     "output_type": "execute_result"
    }
   ],
   "source": [
    "fri_model.tuned_C_"
   ]
  },
  {
   "cell_type": "markdown",
   "metadata": {},
   "source": [
    "or the baseline parameters:"
   ]
  },
  {
   "cell_type": "code",
   "execution_count": 70,
   "metadata": {},
   "outputs": [
    {
     "data": {
      "text/plain": [
       "6.743126681372926"
      ]
     },
     "execution_count": 70,
     "metadata": {},
     "output_type": "execute_result"
    }
   ],
   "source": [
    "fri_model.optim_L1_"
   ]
  },
  {
   "cell_type": "markdown",
   "metadata": {},
   "source": [
    "### Setting constraints manually\n",
    "Our model also allows to compute relevance bounds when the user sets a given range for the features.\n",
    "\n",
    "#### Presets\n",
    "Presets are encoded using a array in the same shape as the `interval_` variable.\n",
    "Each value represents the user given minimum and maximum contribution of the feature.\n",
    "If one would set both values to be the same, we interpret this feature as fixed.\n",
    "\n",
    "Additionally, entries with `np.nan` are interpreted as not-set or free."
   ]
  },
  {
   "cell_type": "code",
   "execution_count": 22,
   "metadata": {
    "collapsed": true
   },
   "outputs": [],
   "source": [
    "import numpy as np\n",
    "preset = np.full_like(fri_model.interval_,np.nan,dtype=np.double)"
   ]
  },
  {
   "cell_type": "markdown",
   "metadata": {},
   "source": [
    "Now we have a preset array without any constraints:"
   ]
  },
  {
   "cell_type": "code",
   "execution_count": 23,
   "metadata": {},
   "outputs": [
    {
     "data": {
      "text/plain": [
       "array([[nan, nan],\n",
       "       [nan, nan],\n",
       "       [nan, nan],\n",
       "       [nan, nan],\n",
       "       [nan, nan],\n",
       "       [nan, nan]])"
      ]
     },
     "execution_count": 23,
     "metadata": {},
     "output_type": "execute_result"
    }
   ],
   "source": [
    "preset"
   ]
  },
  {
   "cell_type": "markdown",
   "metadata": {},
   "source": [
    "#### Example\n",
    "As an example, let us constrain feature 3 from our example to the minimum relevance bound.\n",
    "\n",
    "Note the different indexing using numpy (3 -> 2)"
   ]
  },
  {
   "cell_type": "code",
   "execution_count": 24,
   "metadata": {
    "collapsed": true
   },
   "outputs": [],
   "source": [
    "preset[2] = fri_model.interval_[2, 0]"
   ]
  },
  {
   "cell_type": "markdown",
   "metadata": {},
   "source": [
    "We use the function `constrained_intervals_`.\n",
    "\n",
    "Note: we need to fit the model before we can use this function.\n",
    "We already did that, so we are fine."
   ]
  },
  {
   "cell_type": "code",
   "execution_count": 31,
   "metadata": {},
   "outputs": [],
   "source": [
    "constrained_interval = fri_model.constrained_intervals_(preset=preset)"
   ]
  },
  {
   "cell_type": "code",
   "execution_count": 32,
   "metadata": {},
   "outputs": [
    {
     "data": {
      "text/plain": [
       "array([[0.45993233, 0.46169499],\n",
       "       [0.26954548, 0.27159876],\n",
       "       [0.        , 0.        ],\n",
       "       [0.25608488, 0.25802293],\n",
       "       [0.00516909, 0.00711219],\n",
       "       [0.00446591, 0.0069422 ]])"
      ]
     },
     "execution_count": 32,
     "metadata": {},
     "output_type": "execute_result"
    }
   ],
   "source": [
    "constrained_interval"
   ]
  },
  {
   "cell_type": "markdown",
   "metadata": {},
   "source": [
    "Feature 3 is set to its minimum (at 0).\n",
    "\n",
    "How does it look visually?"
   ]
  },
  {
   "cell_type": "code",
   "execution_count": 33,
   "metadata": {},
   "outputs": [
    {
     "data": {
      "image/png": "[encoded data removed]",
      "text/plain": [
       "<matplotlib.figure.Figure at 0x7f3b0f2ba470>"
      ]
     },
     "metadata": {},
     "output_type": "display_data"
    }
   ],
   "source": [
    "fig, ax = plt.subplots(1, 1,figsize=(6,3))\n",
    "out = plot_relevance_bars(ax, constrained_interval)"
   ]
  },
  {
   "cell_type": "markdown",
   "metadata": {},
   "source": [
    "Feature 3 is reduced to its minimum (no contribution).\n",
    "\n",
    "In turn, its correlated partner feature 4 had to take its maximum contribution."
   ]
  }
 ],
 "metadata": {
  "anaconda-cloud": {},
  "kernelspec": {
   "display_name": "Python 3",
   "language": "python",
   "name": "python3"
  },
  "language_info": {
   "codemirror_mode": {
    "name": "ipython",
    "version": 3
   },
   "file_extension": ".py",
   "mimetype": "text/x-python",
   "name": "python",
   "nbconvert_exporter": "python",
   "pygments_lexer": "ipython3",
   "version": "3.6.3"
  },
  "varInspector": {
   "cols": {
    "lenName": 16,
    "lenType": 16,
    "lenVar": 40
   },
   "kernels_config": {
    "python": {
     "delete_cmd_postfix": "",
     "delete_cmd_prefix": "del ",
     "library": "var_list.py",
     "varRefreshCmd": "print(var_dic_list())"
    },
    "r": {
     "delete_cmd_postfix": ") ",
     "delete_cmd_prefix": "rm(",
     "library": "var_list.r",
     "varRefreshCmd": "cat(var_dic_list()) "
    }
   },
   "types_to_exclude": [
    "module",
    "function",
    "builtin_function_or_method",
    "instance",
    "_Feature"
   ],
   "window_display": false
  }
 },
 "nbformat": 4,
 "nbformat_minor": 1
}
